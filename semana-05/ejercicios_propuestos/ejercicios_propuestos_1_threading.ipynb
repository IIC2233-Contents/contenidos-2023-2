{
 "cells": [
  {
   "cell_type": "markdown",
   "metadata": {},
   "source": [
    "<p>\n",
    "<font size='5' face='Georgia, Arial'>IIC-2233 Apunte Programación Avanzada</font><br>\n",
    "<font size='1'> Ejercicios creados a partir de 2019-2 por Equipo Docente IIC2233. </font>\n",
    "<font size='1'> Actualizados el 2023-2.</font>\n",
    "</p>\n",
    "\n",
    "\n",
    "# Ejercicios propuestos: Threadings\n",
    "## Threading\n",
    "\n",
    "Los siguientes problemas se proveen como oportunidad de ejercitar los conceptos revisados en el material de ***Threading***. Si tienes dudas sobre algún problema o alguna solución, no dudes en dejar una *issue* en el [foro del curso](https://github.com/IIC2233/syllabus/issues)."
   ]
  },
  {
   "cell_type": "markdown",
   "metadata": {},
   "source": [
    "**ADVERTENCIA:** No corras los comandos en el notebook actual ya que no funcionarán de manera correcta. Debes copiar y pegar el código en tu IDE, y ejecutarlos desde ahí."
   ]
  },
  {
   "cell_type": "markdown",
   "metadata": {},
   "source": [
    "### Ejercicio 1: Crear *threads* con nombres"
   ]
  },
  {
   "cell_type": "markdown",
   "metadata": {},
   "source": [
    "A continuación, se te presenta la función `cuenta_hasta_diez`. Esta, como sugiere el nombre, cuenta hasta a diez desde el número uno, pero el tiempo (en segundos) que demora entre cada número es aleatorio entre uno y cinco segundos. Usando esta función, instancia 5 *threads* distintos, con nombres distintivos, y ejecútalos para que ejecuten la función simultáneamente. Una vez que escribas el código necesario, ejecútalo varias veces y ve el resultado que se produce."
   ]
  },
  {
   "cell_type": "code",
   "execution_count": 2,
   "metadata": {},
   "outputs": [
    {
     "name": "stdout",
     "output_type": "stream",
     "text": [
      "Thread 2: 1...\n",
      "Thread 1: 1...\n",
      "Thread 4: 1...\n",
      "Thread 3: 1...\n",
      "Thread 5: 1...\n",
      "Thread 3: 2...\n",
      "Thread 1: 2...Thread 2: 2...\n",
      "\n",
      "Thread 5: 2...\n",
      "Thread 3: 3...Thread 4: 2...\n",
      "\n",
      "Thread 2: 3...\n",
      "Thread 5: 3...\n",
      "Thread 4: 3...\n",
      "Thread 4: 4...\n",
      "Thread 1: 3...Thread 3: 4...\n",
      "Thread 5: 4...\n",
      "\n",
      "Thread 2: 4...\n",
      "Thread 4: 5...\n",
      "Thread 1: 4...\n",
      "Thread 3: 5...Thread 5: 5...\n",
      "\n",
      "Thread 1: 5...\n",
      "Thread 2: 5...\n",
      "Thread 4: 6...Thread 5: 6...\n",
      "Thread 3: 6...\n",
      "\n",
      "Thread 2: 6...\n",
      "Thread 4: 7...Thread 3: 7...\n",
      "Thread 1: 6...\n",
      "\n",
      "Thread 5: 7...\n",
      "Thread 2: 7...\n",
      "Thread 3: 8...\n",
      "Thread 4: 8...Thread 1: 7...\n",
      "\n",
      "Thread 3: 9...\n",
      "Thread 5: 8...\n",
      "Thread 2: 8...\n",
      "Thread 3: 10...\n",
      "Thread 2: 9...\n",
      "Thread 4: 9...Thread 1: 8...\n",
      "\n",
      "Thread 5: 9...\n",
      "Thread 2: 10...\n",
      "Thread 5: 10...\n",
      "Thread 1: 9...\n",
      "Thread 4: 10...\n",
      "Thread 1: 10...\n"
     ]
    }
   ],
   "source": [
    "import threading\n",
    "import time\n",
    "from random import randint\n",
    "\n",
    "\n",
    "def cuenta_hasta_diez():\n",
    "    nombre_thread = threading.current_thread().name\n",
    "    for numero in range(1, 11):\n",
    "        time.sleep(randint(1, 5))\n",
    "        print(f\"{nombre_thread}: {numero}...\")\n",
    "\n",
    "# Instancia 5 threads distintos y ejecútalos.\n",
    "\n",
    "tread_1 = threading.Thread(name = \"Thread 1\", target = cuenta_hasta_diez)\n",
    "tread_2 = threading.Thread(name = \"Thread 2\", target = cuenta_hasta_diez)\n",
    "tread_3 = threading.Thread(name = \"Thread 3\", target = cuenta_hasta_diez)\n",
    "tread_4 = threading.Thread(name = \"Thread 4\", target = cuenta_hasta_diez)\n",
    "tread_5 = threading.Thread(name = \"Thread 5\", target = cuenta_hasta_diez)\n",
    "\n",
    "tread_1.start()\n",
    "tread_2.start()\n",
    "tread_3.start()\n",
    "tread_4.start()\n",
    "tread_5.start()"
   ]
  },
  {
   "cell_type": "markdown",
   "metadata": {},
   "source": [
    "### Ejercicio 2: Crear *threads* con argumentos"
   ]
  },
  {
   "cell_type": "markdown",
   "metadata": {},
   "source": [
    "Ahora, de forma similar al problema anterior, se te presenta la función `deletrea_palabra`. Esta recibe como argumentos un *string* en `palabra` y un `int` en `periodo`. Esta imprime en orden las letras del *string* entregado (`palabra`) cada cierta cantidad de segundos, definido por `periodo`. \n",
    "\n",
    "Debes instanciar tres *threads* distintos que ejecuten esta función y ejecutalos simultaneamente, con los siguientes parámetros:\n",
    "\n",
    "- `\"be í\"` y `3`\n",
    "- `\"ud cIUes\"` y `5`\n",
    "- `\"naHq\"` y `7`"
   ]
  },
  {
   "cell_type": "code",
   "execution_count": 1,
   "metadata": {},
   "outputs": [
    {
     "name": "stdout",
     "output_type": "stream",
     "text": [
      "B\n",
      "U\n",
      "E\n",
      "N\n",
      " \n",
      "D\n",
      "Í\n",
      "A\n",
      " \n",
      "C\n",
      "H\n",
      "I\n",
      "Q\n",
      "U\n",
      "E\n",
      "S\n"
     ]
    }
   ],
   "source": [
    "import threading\n",
    "import time\n",
    "\n",
    "\n",
    "def deletrea_palabra(palabra: str, periodo: int):\n",
    "    for caracter in palabra:\n",
    "        time.sleep(periodo)\n",
    "        print(caracter.upper())\n",
    "\n",
    "\n",
    "thread_1 = threading.Thread(target=deletrea_palabra, args=(\"be í\", 3))\n",
    "thread_2 = threading.Thread(target=deletrea_palabra, args=(\"ud cIUes\", 5))\n",
    "thread_3 = threading.Thread(target=deletrea_palabra, args=(\"naHq\", 7))\n",
    "\n",
    "thread_1.start()\n",
    "thread_2.start()\n",
    "thread_3.start()"
   ]
  },
  {
   "cell_type": "markdown",
   "metadata": {},
   "source": [
    "### Ejercicio 3: Cuenta en orden"
   ]
  },
  {
   "cell_type": "markdown",
   "metadata": {},
   "source": [
    "Tienes tres funciones de cuenta, las cuales funcionan a diferentes ritmos, o sea, cuentan en diferentes cantidades.\n",
    "\n",
    "- `cuenta_1` cuenta de a 1 número cada 3 seg.\n",
    "- `cuenta_2` cuenta de a 2 números cada 2 seg.\n",
    "- `cuenta_3` cuenta de a 3 números cada 1 seg.\n",
    " \n",
    "Además, `cuenta_1` inicia un *thread* que ejecuta a `cuenta_2`, que a su vez inicia a `cuenta_3`. Esto produce que los tres conteos se inicien (casi) simultaneamente.\n",
    " \n",
    "Tú misión es editar el código de forma que `cuenta_2` solo comienza a contar una vez que `cuenta_3` terminó de hacerlo; de la misma forma, que `cuenta_1` solo comience a contar una vez que `cuenta_2` terminó de contar; Y finalmente que el mensaje `\"¡Todos terminaron en orden!\"` que se imprime en el programa principal solo lo haga una vez que todos los contadores terminaron de contar. Es decir, deberías esperar que primero el contador de a 3 cuente, luego el contador de 2, luego el contador de 1 y finalmente se imprima el mensaje `\"¡Todos terminaron en orden!\"`.\n",
    "\n",
    "Usa el método `join` de `Thread` para lograr el objetivo, y **solo debes agregar líneas al código presentado, no eliminar ni modificar líneas existentes**."
   ]
  },
  {
   "cell_type": "code",
   "execution_count": 3,
   "metadata": {},
   "outputs": [
    {
     "name": "stdout",
     "output_type": "stream",
     "text": [
      "Contando de a 3: 1\n",
      "Contando de a 3: 4\n",
      "Contando de a 3: 7\n",
      "Contando de a 3: 10\n",
      "Contando de a 3: 13\n",
      "Contando de a 3: 16\n",
      "Contando de a 3: 19\n",
      "Contando de a 3: 22\n",
      "Contando de a 3: 25\n",
      "Contando de a 3: 28\n",
      "Contando de a 3: 31\n",
      "Contando de a 3: 34\n",
      "Contando de a 3: 37\n",
      "-- ¡Terminó cuenta 3! --\n",
      "Contando de a 2: 1\n",
      "Contando de a 2: 3\n",
      "Contando de a 2: 5\n",
      "Contando de a 2: 7\n",
      "-- ¡Terminó cuenta 2! --\n",
      "Contando de a 1: 1\n",
      "Contando de a 1: 2\n",
      "Contando de a 1: 3\n",
      "Contando de a 1: 4\n",
      "Contando de a 1: 5\n",
      "Contando de a 1: 6\n",
      "Contando de a 1: 7\n",
      "Contando de a 1: 8\n",
      "-- ¡Terminó cuenta 1! --\n",
      "¡Todos terminaron en orden!\n"
     ]
    }
   ],
   "source": [
    "import threading\n",
    "import time\n",
    "\n",
    "\n",
    "def cuenta_3():\n",
    "    for i in range(1, 40, 3):\n",
    "        print(f\"Contando de a 3: {i}\")\n",
    "        time.sleep(1)\n",
    "    print(\"-- ¡Terminó cuenta 3! --\")\n",
    "\n",
    "def cuenta_2():\n",
    "    thread = threading.Thread(target=cuenta_3)\n",
    "    thread.start()\n",
    "    thread.join()\n",
    "    for i in range(1, 9, 2):\n",
    "        print(f\"Contando de a 2: {i}\")\n",
    "        time.sleep(2) \n",
    "    print(\"-- ¡Terminó cuenta 2! --\")\n",
    "\n",
    "def cuenta_1():\n",
    "    thread = threading.Thread(target=cuenta_2)\n",
    "    thread.start()\n",
    "    thread.join()\n",
    "    for i in range(1, 9):\n",
    "        print(f\"Contando de a 1: {i}\")\n",
    "        time.sleep(3)\n",
    "    print(\"-- ¡Terminó cuenta 1! --\")\n",
    "\n",
    "\n",
    "thread = threading.Thread(target=cuenta_1)\n",
    "thread.start()\n",
    "thread.join()\n",
    "print(\"¡Todos terminaron en orden!\")\n"
   ]
  },
  {
   "cell_type": "markdown",
   "metadata": {},
   "source": [
    "### Ejercicio 4: Minando en la DCCueva"
   ]
  },
  {
   "cell_type": "markdown",
   "metadata": {},
   "source": [
    "Leyendo por internet, has encontrado el trabajo perfecto para ti. Te han contratado para simular la recolección de materiales de la DCCueva. Aquí trabajan mineros pero de manera poco óptima, perdiendo DCCriptoMonedas y provocando grandes pérdidas para el DCC.\n",
    "\n",
    "En tu primer día, se te entrega el código base que han estado utilizando para simular la recolección dentro de la DCCueva:"
   ]
  },
  {
   "cell_type": "code",
   "execution_count": null,
   "metadata": {},
   "outputs": [],
   "source": [
    "import time\n",
    "import random\n",
    "\n",
    "\n",
    "class Minero:\n",
    "\n",
    "    def __init__(self, nombre):\n",
    "        self.nombre = nombre\n",
    "        self.velocidad = random.randint(2, 4)\n",
    "        self.cantidad = 0\n",
    "        self.adentro = False\n",
    "\n",
    "    def recolectar_recursos(self):\n",
    "        cantidad = random.randint(5, 15)\n",
    "        tiempo = cantidad/self.velocidad\n",
    "        self.adentro = True\n",
    "        time.sleep(tiempo)\n",
    "        print(f'Trabajador {self.nombre} ha recolectado {cantidad} DCCriptoMonedas')\n",
    "        self.cantidad += cantidad\n",
    "        self.adentro = False\n",
    "\n",
    "    def trabajar(self):\n",
    "        for i in range(3):\n",
    "            print(f'Trabajador {self.nombre} ha entrado a la DCCueva')\n",
    "            self.recolectar_recursos()\n",
    "\n",
    "\n",
    "t1 = Minero('John')\n",
    "t2 = Minero('Alex')\n",
    "t3 = Minero('Peter')\n",
    "\n",
    "t1.trabajar()\n",
    "t2.trabajar()\n",
    "t3.trabajar()\n",
    "\n",
    "total = t1.cantidad + t2.cantidad + t3.cantidad\n",
    "print('------------------------------------------')\n",
    "print(f'Se han recolectado {total} DCCriptoMonedas')\n"
   ]
  },
  {
   "cell_type": "markdown",
   "metadata": {},
   "source": [
    "Salida del código:"
   ]
  },
  {
   "cell_type": "raw",
   "metadata": {},
   "source": [
    "Trabajador John ha entrado a la mina\n",
    "Trabajador John ha recolectado 9 piezas de oro\n",
    "Trabajador John ha entrado a la mina\n",
    "Trabajador John ha recolectado 13 piezas de oro\n",
    "Trabajador John ha entrado a la mina\n",
    "Trabajador John ha recolectado 15 piezas de oro\n",
    "Trabajador Alex ha entrado a la mina\n",
    "Trabajador Alex ha recolectado 11 piezas de oro\n",
    "Trabajador Alex ha entrado a la mina\n",
    "Trabajador Alex ha recolectado 12 piezas de oro\n",
    "Trabajador Alex ha entrado a la mina\n",
    "Trabajador Alex ha recolectado 10 piezas de oro\n",
    "Trabajador Peter ha entrado a la mina\n",
    "Trabajador Peter ha recolectado 15 piezas de oro\n",
    "Trabajador Peter ha entrado a la mina\n",
    "Trabajador Peter ha recolectado 9 piezas de oro\n",
    "Trabajador Peter ha entrado a la mina\n",
    "Trabajador Peter ha recolectado 15 piezas de oro\n",
    "------------------------------------------\n",
    "Se han recolectado 109 piezas de oro"
   ]
  },
  {
   "cell_type": "markdown",
   "metadata": {},
   "source": [
    "##### Parte A\n",
    "\n",
    "Como puedes ver, el programa es lento y cada minero debe esperar a que salga el anterior para poder acceder a la DCCueva. Sería ideal que cada minero pudiese trabajar de manera independiente, ¿no? Pues gracias a la librería **threading** de Python, esto deja de ser ficción y se vuelve una realidad.\n",
    "\n",
    "Modela el ejercicio anterior de modo que ahora el programa se ejecute de manera concurrente (*threads*)."
   ]
  },
  {
   "cell_type": "code",
   "execution_count": null,
   "metadata": {},
   "outputs": [],
   "source": [
    "import time\n",
    "import random\n",
    "from threading import Thread\n",
    "\n",
    "\n",
    "# Implementar modelacion con Thread...\n",
    "# ... puedes usar herencia si quieres ;)\n",
    "class Minero():\n",
    "\n",
    "    def __init__(self, nombre):\n",
    "        #Completar clase\n",
    "        pass\n",
    "\n",
    "    def recolectar_recursos(self):\n",
    "        cantidad = random.randint(5, 15)\n",
    "        tiempo = cantidad/self.velocidad\n",
    "        self.adentro = True\n",
    "        time.sleep(tiempo)\n",
    "        print(f'Trabajador {self.nombre} ha recolectado {cantidad} DCCriptoMonedas')\n",
    "        self.cantidad += cantidad\n",
    "        self.adentro = False\n",
    "\n",
    "    def trabajar(self): #Puedes modificarlo si quieres trabajar con herencia ;)\n",
    "        #Completar metodo\n",
    "        pass\n",
    "\n",
    "\n",
    "t1 = Minero('John') #Eres libre de modificar los nombres\n",
    "t2 = Minero('Alex') #Eres libre de modificar los nombres\n",
    "t3 = Minero('Peter') #Eres libre de modificar los nombres :)\n",
    "\n",
    "#Acá debes iniciar los threads\n",
    "\n",
    "#No modificar\n",
    "total = t1.cantidad + t2.cantidad + t3.cantidad\n",
    "print('------------------------------------------')\n",
    "print(f'Se han recolectado {total} DCCriptoMonedas')\n"
   ]
  },
  {
   "cell_type": "markdown",
   "metadata": {},
   "source": [
    "##### Parte B\n",
    "\n",
    "Ahora podemos ver que cada minero trabaja de manera **independiente**, haciendo el proceso mucho más eficiente, pero aún hay un problema existente; el contador de la cantidad total de DCCriptoMonedas no está sincronizado con los mineros, por lo que **tu primer trabajo** es arreglarlo para que se encuentre sincronizado. Esto significa que deberás utilizar un contador común, teniendo cuidado con los problemas de sincronización que puedan ocurrir.\n",
    "\n",
    "**Problema:** deberás sincronizar el contador de DCCriptoMonedas con los mineros."
   ]
  },
  {
   "cell_type": "markdown",
   "metadata": {},
   "source": [
    "##### Parte C\n",
    "\n",
    "Como el problema anterior sigue siendo algo catastrófico, tu supervisor te ha dado la tarea de contabilizar solo a los mineros que alcancen a minar las DCCriptoMonedas **los primeros 5 segundos**, y todo lo que sea minado después no será considerado, provocando que no se le pague a los mineros por el trabajo extra.\n",
    "\n",
    "**Problema:** Deberás encontrar la manera de que los mineros solo trabajen el tiempo necesario."
   ]
  },
  {
   "cell_type": "code",
   "execution_count": null,
   "metadata": {},
   "outputs": [],
   "source": [
    "import time\n",
    "import random\n",
    "from threading import Thread\n",
    "\n",
    "\n",
    "# Implementar modelacion con Thread...\n",
    "# ... puedes usar herencia si quieres ;)\n",
    "class Minero():\n",
    "\n",
    "    def __init__(self, nombre):\n",
    "        #Completar clase\n",
    "        pass\n",
    "\n",
    "    def recolectar_recursos(self):\n",
    "        cantidad = random.randint(5, 15)\n",
    "        tiempo = cantidad/self.velocidad\n",
    "        self.adentro = True\n",
    "        time.sleep(tiempo)\n",
    "        print(f'Trabajador {self.nombre} ha recolectado {cantidad} DCCriptoMonedas')\n",
    "        self.cantidad += cantidad\n",
    "        self.adentro = False\n",
    "\n",
    "    def trabajar(self): #Puedes modificarlo si quieres trabajar con herencia ;)\n",
    "        #Completar metodo\n",
    "        pass\n",
    "\n",
    "\n",
    "t1 = Minero('John') #Eres libre de modificar los nombres :)\n",
    "t2 = Minero('Alex') #Eres libre de modificar los nombres :)\n",
    "t3 = Minero('Peter') #Eres libre de modificar los nombres :)\n",
    "\n",
    "#Acá debes inciiar los threads\n",
    "\n",
    "#No modificar\n",
    "time.sleep(5)\n",
    "total = t1.cantidad + t2.cantidad + t3.cantidad\n",
    "print('------------------------------------------')\n",
    "print(f'Se han recolectado {total} DCCriptoMonedas')\n"
   ]
  },
  {
   "cell_type": "markdown",
   "metadata": {},
   "source": [
    "##### Parte D\n",
    "\n",
    "Debido a decisiones del gobierno, la DCCueva debe ser destruida por una ingeniera en demolición, la cual se encuentra en la central de demolición (fuera del lugar donde está la DCCueva). Ella, como quiere terminar luego su pega, demolerá la DCCueva lo más luego posible. Tú, estando a cargo de la seguridad, debes encargarte de que la ingeniera **espere** a que todos los mineros se encuentren fuera de la DCCueva para que prosiga a demolerla. ¡De ti dependen las vidas de estos trabajadores! (Sin presiones)"
   ]
  },
  {
   "cell_type": "code",
   "execution_count": null,
   "metadata": {},
   "outputs": [],
   "source": [
    "import time\n",
    "import random\n",
    "from threading import Thread\n",
    "\n",
    "\n",
    "class Demoledor:\n",
    "\n",
    "    def __init__(self, trabajadores):\n",
    "        self.trabajadores = trabajadores\n",
    "\n",
    "    def demoler(self):\n",
    "        print('La DCCueva ha sido derrumbada')\n",
    "        chequeador = [trabajador.adentro for trabajador in self.trabajadores]\n",
    "        if True in chequeador:\n",
    "            cantidad = chequeador.count(True)\n",
    "            if cantidad != 1:\n",
    "                print(f'Que desastre, han muerto {cantidad} trabajadores')\n",
    "            else:\n",
    "                print(f'Que desastre, ha muerto {cantidad} trabajador')\n",
    "        else:\n",
    "            print('Buen trabajo, ningun trabajador salio herido')\n",
    "\n",
    "\n",
    "class Minero(Thread):\n",
    "\n",
    "    def __init__(self, nombre):\n",
    "        super().__init__()\n",
    "        self.daemon = True\n",
    "        self.nombre = nombre\n",
    "        self.velocidad = random.randint(2, 4)\n",
    "        self.cantidad = 0\n",
    "        self.adentro = False\n",
    "\n",
    "    def recolectar_recursos(self):\n",
    "        cantidad = random.randint(5, 15)\n",
    "        tiempo = cantidad / self.velocidad\n",
    "        self.adentro = True\n",
    "        time.sleep(tiempo)\n",
    "        print(f'Trabajador {self.nombre} ha recolectado {cantidad} DCCriptoMonedas')\n",
    "        self.adentro = False\n",
    "\n",
    "    def run(self):\n",
    "        for i in range(3):\n",
    "            print(f'Trabajador {self.nombre} ha entrado a la DCCueva')\n",
    "            self.recolectar_recursos()\n",
    "\n",
    "\n",
    "t1 = Minero('John')  # Eres libre de modificar los nombres :)\n",
    "t2 = Minero('Alex')  # Eres libre de modificar los nombres :)\n",
    "t3 = Minero('Peter')  # Eres libre de modificar los nombres :)\n",
    "demoledor = Demoledor([t1, t2, t3])\n",
    "\n",
    "# Acá debes iniciar los threads y asegurarte de que el Demoledor los espere\n",
    "\n",
    "# No modificar\n",
    "demoledor.demoler()\n"
   ]
  },
  {
   "cell_type": "markdown",
   "metadata": {},
   "source": [
    "Salida del código deseada:"
   ]
  },
  {
   "cell_type": "raw",
   "metadata": {},
   "source": [
    "La mina ha sido derrumbada\n",
    "Buen trabajo, ningun trabajador salio herido"
   ]
  }
 ],
 "metadata": {
  "kernelspec": {
   "display_name": "Python 3 (ipykernel)",
   "language": "python",
   "name": "python3"
  },
  "language_info": {
   "codemirror_mode": {
    "name": "ipython",
    "version": 3
   },
   "file_extension": ".py",
   "mimetype": "text/x-python",
   "name": "python",
   "nbconvert_exporter": "python",
   "pygments_lexer": "ipython3",
   "version": "3.10.11"
  }
 },
 "nbformat": 4,
 "nbformat_minor": 4
}
