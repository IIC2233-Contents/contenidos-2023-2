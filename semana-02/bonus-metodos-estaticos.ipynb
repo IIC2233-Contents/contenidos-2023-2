{
 "cells": [
  {
   "cell_type": "markdown",
   "metadata": {},
   "source": [
    "<p>\n",
    "<font size='5' face='Georgia, Arial'>IIC2233 Apunte Programación Avanzada</font><br>\n",
    "<font size='1'>Creado el 2023-2 por el el cuerpo docente IIC2233</font>\n",
    "</p>"
   ]
  },
  {
   "cell_type": "markdown",
   "metadata": {},
   "source": [
    "# Tabla de contenidos\n",
    "1. [Motivación](#Motivación)\n",
    "2. [Métodos estáticos](#Métodos-estáticos)\n"
   ]
  },
  {
   "cell_type": "markdown",
   "metadata": {},
   "source": [
    "# Motivación\n",
    "\n",
    "Nos solicitan crear una clase para poder sumar y restar números. Para esta solicitud, cramos una clase `MiMath` que permita realizar dichas operaciones."
   ]
  },
  {
   "cell_type": "code",
   "execution_count": 1,
   "metadata": {},
   "outputs": [],
   "source": [
    "class MiMath:\n",
    "\n",
    "    def sumar(self, num1, num2):\n",
    "        return num1 + num2\n",
    "\n",
    "    def restar(self, num1, num2):\n",
    "        return num1 - num2"
   ]
  },
  {
   "cell_type": "code",
   "execution_count": 2,
   "metadata": {},
   "outputs": [
    {
     "name": "stdout",
     "output_type": "stream",
     "text": [
      "3\n",
      "2\n"
     ]
    }
   ],
   "source": [
    "print(MiMath().sumar(1, 2))\n",
    "print(MiMath().restar(5, 3))"
   ]
  },
  {
   "cell_type": "markdown",
   "metadata": {},
   "source": [
    "Si bien la clase anterior cumple con lo solicitado, para PEP8 no es correcto hacer clases que tengan `self` cuando es necesario. Una solución a esto es utilizar funciones (`def sumar(num1, num2)`), pero en otros lenguajes que sean extrictamente OOP, como Java, no es posible crear funciones, sino que debemos crear una clase con dicho métodos. Por lo tanto, esta dificultad de usar métodos y no necesitar al `self` es que genera la necesidad de utilizar **métodos estáticos**."
   ]
  },
  {
   "cell_type": "markdown",
   "metadata": {},
   "source": [
    "# Métodos estáticos"
   ]
  },
  {
   "cell_type": "markdown",
   "metadata": {},
   "source": [
    "\n",
    "Los métodos estáticos (_static methods_) son métodos que pertenecen a una clase. No obstante, no dependen de información de la clase ni de atributos de la instancia. Por lo tanto, en este caso no se necesita ningún atributo principal como sucede con los métodos normales, es decir, no requiere del `self`.\n",
    "\n",
    "Para declarar un método estático, solo necesitamos usar el decorador `@staticmethod` y nuestro método sin el `self`."
   ]
  },
  {
   "cell_type": "code",
   "execution_count": 3,
   "metadata": {},
   "outputs": [],
   "source": [
    "class Math:\n",
    "\n",
    "    @staticmethod\n",
    "    def sumar(num1, num2):\n",
    "        return num1 + num2\n",
    "\n",
    "    @staticmethod\n",
    "    def restar(num1, num2):\n",
    "        return num1 - num2"
   ]
  },
  {
   "cell_type": "code",
   "execution_count": 4,
   "metadata": {},
   "outputs": [
    {
     "name": "stdout",
     "output_type": "stream",
     "text": [
      "11\n",
      "13\n"
     ]
    }
   ],
   "source": [
    "print(Math.sumar(5, 6))\n",
    "print(Math.restar(14, 1))"
   ]
  },
  {
   "cell_type": "markdown",
   "metadata": {},
   "source": [
    "Como puedes notar, en estos ejemplos no fue necesario generar una instancia de la clase `MiMath`, sino que solo se hace `clase.Metodo`. Esto es porque no necesitamos de usar `self`. Esta forma nos permite generar métodos dentro de una clase, lo cual permite tener empaquetado ciertas funcionalidades.\n",
    "\n",
    "También, resulta útil tener un indicador de que ciertos métodos no requieren del `self` y por lo tanto, no accederán ni modificarán el estado de la instancia. Es cierto que se podría hacer lo mismo con un método de instancia como el ejemplo adicional o utilizar funciones, pero a veces el lenguaje o la guía de estilo puede que no aprueben dichas opciones."
   ]
  }
 ],
 "metadata": {
  "kernelspec": {
   "display_name": "Python 3 (ipykernel)",
   "language": "python",
   "name": "python3"
  },
  "language_info": {
   "codemirror_mode": {
    "name": "ipython",
    "version": 3
   },
   "file_extension": ".py",
   "mimetype": "text/x-python",
   "name": "python",
   "nbconvert_exporter": "python",
   "pygments_lexer": "ipython3",
   "version": "3.10.11"
  }
 },
 "nbformat": 4,
 "nbformat_minor": 4
}
