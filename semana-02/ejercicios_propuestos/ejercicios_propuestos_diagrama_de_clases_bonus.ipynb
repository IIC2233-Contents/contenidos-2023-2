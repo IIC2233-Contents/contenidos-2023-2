{
 "cells": [
  {
   "cell_type": "markdown",
   "metadata": {},
   "source": [
    "<p>\n",
    "<font size='5' face='Georgia, Arial'>IIC-2233 Apunte Programación Avanzada</font><br>\n",
    "<font size='1'> Ejercicios creados a partir de 2019-2 por Equipo Docente IIC2233. </font>\n",
    "<font size='1'> Actualizados el 2023-2.</font>\n",
    "</p>\n",
    "\n",
    "\n",
    "# Ejercicios propuestos: Programación Orientada a Objetos II\n",
    "## Diagrama de clases"
   ]
  },
  {
   "cell_type": "markdown",
   "metadata": {},
   "source": [
    "Los siguientes problemas se proveen como oportunidad de ejercitar los conceptos revisados en el material de **Programación Orientada a Objetos II**. Si tienes dudas sobre algún problema o alguna solución, no dudes en dejar una *issue* en el [foro del curso](https://github.com/IIC2233/syllabus/issues)."
   ]
  },
  {
   "cell_type": "markdown",
   "metadata": {},
   "source": [
    "### Ejercicio 1: De código a diagrama: GoT"
   ]
  },
  {
   "cell_type": "markdown",
   "metadata": {},
   "source": [
    "Lamentablemente existen ayudantes que aún no pueden superar el hecho que Game of Thrones se haya terminado (sobre todo con ese final). Pero de todas maneras quieren recomendarles la serie y van a hacer todo lo posible para que durante este semestre te tientes a verla. Es por esto que han creado un ejercicio en el que **debes crear un diagrama de clases a partir del siguiente código** (sin *spoilers*) para que vayas familiarizándote con la serie y te prepares para el enredo familiar que cada personaje tiene.\n",
    "\n",
    "Para las distintas clases, dentro de sus constructores se colocan atributos que poseen, la mayoría inicializados como `None` por simplicidad, pero se dejan comentados sus tipos reales para mayor claridad de modelación. También, se dejan las firmas de los distintos métodos a considerar, pero vacías las implementaciones por simplicidad."
   ]
  },
  {
   "cell_type": "code",
   "execution_count": null,
   "metadata": {},
   "outputs": [],
   "source": [
    "class Humano:\n",
    "    def __init__(self):\n",
    "        self.nombre = None # str\n",
    "        self.edad = None # int\n",
    "\n",
    "    def comer(self):\n",
    "        pass\n",
    "\n",
    "    def pelear(self):\n",
    "        pass\n",
    "\n",
    "\n",
    "class LoboGuargo:\n",
    "    def __init__(self):\n",
    "        self.nombre = None # str\n",
    "        self.ataque = None # int\n",
    "        self.color = None # str\n",
    "\n",
    "    def cazar(self):\n",
    "        pass\n",
    "\n",
    "    def atacar(self):\n",
    "        pass\n",
    "\n",
    "\n",
    "class Stark:\n",
    "    def __init__(self):\n",
    "        self.resistencia_al_frio = None # int\n",
    "        self.lobo_de_mascota = LoboGuargo() # LoboGuargo\n",
    "\n",
    "    def rezar_a_los_antiguos(self):\n",
    "        pass\n",
    "\n",
    "\n",
    "class GuardiaDeLaNoche:\n",
    "    def __init__(self):\n",
    "        self.rango = None # str\n",
    "\n",
    "    def cuidar_el_muro(self):\n",
    "        pass\n",
    "\n",
    "    \n",
    "class ReyDelNorte(Humano, Stark):\n",
    "    def __init__(self):\n",
    "        self.poder = None # int\n",
    "        self.espada_ice = None # bool\n",
    "\n",
    "    def ejecutar_culpables(self):\n",
    "        pass\n",
    "\n",
    "\n",
    "class NedStark(ReyDelNorte):\n",
    "    def __init__(self):\n",
    "        self.familia = None # list[Humanos]\n",
    "        self.honor = None # int\n",
    "\n",
    "    def tomar_decision_importante(self):\n",
    "        pass\n",
    "\n",
    "\n",
    "class JonSnow(Humano, Stark, GuardiaDeLaNoche):\n",
    "    def __init__(self):\n",
    "        self.padre = NedStark() # NedStark\n",
    "        self.bastardo = None # bool\n",
    "\n",
    "\n",
    "class GoT:\n",
    "    def __init__(self):\n",
    "        self.rating = None # int\n",
    "        self.personaje_principal = JonSnow() # JonSnow\n",
    "        self.personaje_mas_bacan = NedStark() # NedStark\n",
    "\n",
    "    def empezar_a_ver_la_serie(self):\n",
    "        print('Excelente decision, disfrute')"
   ]
  },
  {
   "cell_type": "markdown",
   "metadata": {},
   "source": [
    "Puedes partir dibujando a mano el diagrama, pero también existen aplicaciones para realizarlas digitalmente, como [draw.io](https://www.draw.io), [lucidchart](https://www.lucidchart.com) o aplicaciones similares."
   ]
  },
  {
   "cell_type": "markdown",
   "metadata": {},
   "source": [
    "### Ejercicio 2: De diagrama a código: `GrandPrix`"
   ]
  },
  {
   "cell_type": "markdown",
   "metadata": {},
   "source": [
    "Ahora deberás hacer el proceso inverso de lo que se hizo en el ejercicio anterior. A continuación se te presentará un diagrama de clases basado en la nueva serie favorita de este ayudante (*F1: Drive to Survive*, disponible en *Netflix*) el que deberás pasar a código (puedes usar como referencia el código entregado en el ejercicio anterior).\n",
    "\n",
    "![](img/DiagramaGrandPrix.png)\n"
   ]
  },
  {
   "cell_type": "code",
   "execution_count": null,
   "metadata": {},
   "outputs": [],
   "source": [
    "# Escribe aquí tu código"
   ]
  }
 ],
 "metadata": {
  "kernelspec": {
   "display_name": "Python 3 (ipykernel)",
   "language": "python",
   "name": "python3"
  },
  "language_info": {
   "codemirror_mode": {
    "name": "ipython",
    "version": 3
   },
   "file_extension": ".py",
   "mimetype": "text/x-python",
   "name": "python",
   "nbconvert_exporter": "python",
   "pygments_lexer": "ipython3",
   "version": "3.10.10"
  }
 },
 "nbformat": 4,
 "nbformat_minor": 4
}
