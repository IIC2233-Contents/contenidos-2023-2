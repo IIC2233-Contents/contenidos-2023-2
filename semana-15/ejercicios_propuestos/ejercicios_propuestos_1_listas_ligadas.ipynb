{
 "cells": [
  {
   "cell_type": "markdown",
   "metadata": {},
   "source": [
    "<p>\n",
    "<font size='5' face='Georgia, Arial'>IIC-2233 Apunte Programación Avanzada</font><br>\n",
    "<font size='1'> Ejercicios creados a partir de 2019-2 por Equipo Docente IIC2233. </font>\n",
    "<font size='1'> Actualizados el 2023-2.</font>\n",
    "</p>\n",
    "\n",
    "\n",
    "# Ejercicios propuestos: Estructuras Nodales\n",
    "## Listas ligadas"
   ]
  },
  {
   "cell_type": "markdown",
   "metadata": {},
   "source": [
    "Los siguientes problemas se proveen como oportunidad de ejercitar los conceptos revisados en el material de **estructuras nodales**. Si tienes dudas sobre algún problema o alguna solución, no dudes en dejar una *issue* en el [foro del curso](https://github.com/IIC2233/syllabus/issues)."
   ]
  },
  {
   "cell_type": "markdown",
   "metadata": {},
   "source": [
    "### Ejercicio 1: Cadenas de texto aleatorias"
   ]
  },
  {
   "cell_type": "markdown",
   "metadata": {},
   "source": [
    "En este ejercicio, deberás terminar de implementar una clase propuesta, modelada como una lista ligada. \n",
    "\n",
    "La clase `TextoAleatorio`, representa una cadena de texto (como los *strings*), pero que simplemente se genera a partir de caracteres aleatorios (clase `Caracter`). `TextoAleatorio` tiene ya implementada el método `agregar_nuevo_caracter` que agrega un nuevo carácter a la cadena de texto. \n",
    "\n",
    "Específicamente debes completar los métodos `__repr__` y `recorrer_texto` de `TextoAleatorio`.\n",
    "\n",
    "El primer método debe retornar como `str` la concatenación de los caracteres de la cadena según el orden en que fueron agregados, para que sea vista al usar `print` sobre el texto. Por el momento retorna la representación de objetos de siempre, así que puedes cambiar la línea que actualmente está implementada para retornar el resultado de la cadena como *string*.\n",
    "\n",
    "`recorrer_texto` por su parte itera por cada carácter de la cadena de texto e imprime un mensaje indicando la posición del carácter y su valor. Por ejemplo, para una cadena de texto de las letras `'M'`, `'A'` Y `'S'`, imprimiría:\n",
    "\n",
    "```python\n",
    "En posición 0, el carácter es M\n",
    "En posición 1, el carácter es A\n",
    "En posición 2, el carácter es S"
   ]
  },
  {
   "cell_type": "code",
   "execution_count": 20,
   "metadata": {},
   "outputs": [],
   "source": [
    "from random import choice\n",
    "from string import ascii_uppercase\n",
    "\n",
    "\n",
    "def caracter_aleatorio():\n",
    "    \"\"\"\n",
    "    Retorna un caracter aleatorio en mayúscula.\n",
    "    \"\"\"\n",
    "    return choice(ascii_uppercase)\n",
    "\n",
    "\n",
    "class Caracter:\n",
    "    def __init__(self):\n",
    "        self.valor = caracter_aleatorio()\n",
    "        self.siguiente = None\n",
    "\n",
    "\n",
    "class TextoAleatorio:\n",
    "    def __init__(self, primer_caracter=None, ultimo_caracter=None):\n",
    "        self.primer_caracter = primer_caracter\n",
    "        self.ultimo_caracter = ultimo_caracter\n",
    "\n",
    "    def agregar_nuevo_caracter(self):\n",
    "        nuevo = Caracter()\n",
    "        if self.primer_caracter is None:\n",
    "            self.primer_caracter = nuevo\n",
    "            self.ultimo_caracter = self.primer_caracter\n",
    "        else:\n",
    "            self.ultimo_caracter.siguiente = nuevo\n",
    "            self.ultimo_caracter = self.ultimo_caracter.siguiente\n",
    "\n",
    "    def __repr__(self):\n",
    "        \"\"\"\n",
    "        Representa la concatenación de cada caracter de la cadena de texto.\n",
    "        Usa un ciclo while para ir viendo si el siguiente caracter es None.\n",
    "        \"\"\"\n",
    "        caracter_actual = self.primer_caracter\n",
    "        \n",
    "        cadena = \"\"\n",
    "        \n",
    "        while caracter_actual is not None:\n",
    "            cadena += caracter_actual.valor\n",
    "            caracter_actual = caracter_actual.siguiente\n",
    "        return cadena\n",
    "            \n",
    "    def recorrer_texto(self):\n",
    "        \"\"\"\n",
    "        Recorrer cada caracter imprimiendo su valor y posición.\n",
    "        \"\"\"\n",
    "        caracter_actual = self.primer_caracter\n",
    "        contador = 0\n",
    "        while caracter_actual is not None:\n",
    "            print(f\"En posición {contador}: el carácter es {caracter_actual.valor}\")\n",
    "            contador += 1\n",
    "            caracter_actual = caracter_actual.siguiente\n",
    "        if caracter_actual is None:\n",
    "            print(\"No hay más caracteres.\")"
   ]
  },
  {
   "cell_type": "code",
   "execution_count": 32,
   "metadata": {},
   "outputs": [
    {
     "name": "stdout",
     "output_type": "stream",
     "text": [
      "J\n",
      "JN\n",
      "JNX\n",
      "JNXB\n",
      "JNXBH\n",
      "JNXBHC\n",
      "JNXBHCQ\n",
      "JNXBHCQC\n",
      "JNXBHCQCV\n",
      "En posición 0: el carácter es J\n",
      "En posición 1: el carácter es N\n",
      "En posición 2: el carácter es X\n",
      "En posición 3: el carácter es B\n",
      "En posición 4: el carácter es H\n",
      "En posición 5: el carácter es C\n",
      "En posición 6: el carácter es Q\n",
      "En posición 7: el carácter es C\n",
      "En posición 8: el carácter es V\n",
      "No hay más caracteres.\n"
     ]
    }
   ],
   "source": [
    "texto_1 = TextoAleatorio()\n",
    "texto_1.agregar_nuevo_caracter()\n",
    "print(texto_1)\n",
    "texto_1.agregar_nuevo_caracter()\n",
    "print(texto_1)\n",
    "texto_1.agregar_nuevo_caracter()\n",
    "print(texto_1)\n",
    "texto_1.agregar_nuevo_caracter()\n",
    "print(texto_1)\n",
    "texto_1.agregar_nuevo_caracter()\n",
    "print(texto_1)\n",
    "texto_1.agregar_nuevo_caracter()\n",
    "print(texto_1)\n",
    "texto_1.agregar_nuevo_caracter()\n",
    "print(texto_1)\n",
    "texto_1.agregar_nuevo_caracter()\n",
    "print(texto_1)\n",
    "texto_1.agregar_nuevo_caracter()\n",
    "print(texto_1)\n",
    "\n",
    "texto_1.recorrer_texto()"
   ]
  },
  {
   "cell_type": "markdown",
   "metadata": {},
   "source": [
    "### Ejercicio 2: Extendiendo `ListaLigada`"
   ]
  },
  {
   "cell_type": "markdown",
   "metadata": {},
   "source": [
    "En este ejercicio, se te incluye el ejemplo de la clase `ListaLigada` del material, pero con dos firmas de métodos que debes implementar: `__len__` y `remover`. \n",
    "\n",
    "`__len__` debe retornar un `int` que indique el largo actual de la lista ligada. Por otro lado, `remover` recibe como argumento una posición en la lista, y debe eliminar de la lista ligada el nodo que se encuentre en esa posición."
   ]
  },
  {
   "cell_type": "code",
   "execution_count": 37,
   "metadata": {},
   "outputs": [],
   "source": [
    "class Nodo:\n",
    "    def __init__(self, valor=None):\n",
    "        self.valor = valor\n",
    "        self.siguiente = None\n",
    "\n",
    "\n",
    "class ListaLigada:\n",
    "    \"\"\"\n",
    "    Clase que representa una lista ligada.\n",
    "    \"\"\"\n",
    "\n",
    "    def __init__(self):\n",
    "        \"\"\"\n",
    "        Inicializa una lista ligada vacia,\n",
    "        con una referencia nula a su cabeza y cola.\n",
    "        \"\"\"\n",
    "        self.cabeza = None\n",
    "        self.cola = None\n",
    "\n",
    "    def agregar(self, valor):\n",
    "        \"\"\"\n",
    "        Agrega un nodo al final de la cola, similar a lista.append.\n",
    "        \"\"\"\n",
    "        # Inicializamos el nuevo nodo\n",
    "        nuevo = Nodo(valor)\n",
    "        # Si la lista está vacía (no hay cabeza)\n",
    "        if self.cabeza is None:\n",
    "            # El nuevo nodo es la cabeza y el nodo cola de la lista\n",
    "            self.cabeza = nuevo\n",
    "            self.cola = self.cabeza\n",
    "        else:\n",
    "            # Agregamos el nuevo nodo como sucesor del nodo cola actual.\n",
    "            self.cola.siguiente = nuevo\n",
    "            # Actualizamos la referencia al nodo cola.\n",
    "            self.cola = self.cola.siguiente\n",
    "\n",
    "    def obtener(self, posicion):\n",
    "        \"\"\"\n",
    "        Busca el valor del nodo que está en la posición indicada,\n",
    "        partiendo de 0.\n",
    "        \"\"\"\n",
    "        # Empezamos en la cabeza\n",
    "        nodo_actual = self.cabeza\n",
    "\n",
    "        # Recorremos secuencialmente la lista ligada siguiendo los punteros\n",
    "        # al nodo siguiente.\n",
    "        for _ in range(posicion):\n",
    "            # Revisamos que no se haya llegado al final de la lista\n",
    "            if nodo_actual is not None:\n",
    "                nodo_actual = nodo_actual.siguiente\n",
    "\n",
    "        # Si buscamos una posición mayor a la longitud de la lista ligada\n",
    "        if nodo_actual is None:\n",
    "            return None  # Retorna \"nada\"\n",
    "        return nodo_actual.valor\n",
    "\n",
    "    def insertar(self, valor, posicion):\n",
    "        \"\"\"\n",
    "        Inserta un valor nuevo en una posición arbitraria.\n",
    "        \"\"\"\n",
    "        # Inicializamos el nuevo nodo\n",
    "        nodo_nuevo = Nodo(valor)\n",
    "        # Empezamos en la cabeza\n",
    "        nodo_actual = self.cabeza\n",
    "\n",
    "        # Caso particular: insertar en la cabeza\n",
    "        if posicion == 0:\n",
    "            # Actualizamos la cabeza\n",
    "            nodo_nuevo.siguiente = self.cabeza\n",
    "            self.cabeza = nodo_nuevo\n",
    "            # Caso más particular. Si la lista estaba vacía,\n",
    "            # actualizamos la cola\n",
    "            if nodo_nuevo.siguiente is None:\n",
    "                self.cola = nodo_nuevo\n",
    "            # Terminamos de ejecutar la función\n",
    "            return\n",
    "\n",
    "        # Buscamos el nodo predecesor\n",
    "        for _ in range(posicion - 1):\n",
    "            if nodo_actual is not None:\n",
    "                nodo_actual = nodo_actual.siguiente\n",
    "\n",
    "        # Si encontramos el predecesor, actualizamos las referencias\n",
    "        if nodo_actual is not None:\n",
    "            # Si no lo hacemos en este orden perdemos la referencia\n",
    "            # al resto de la lista ligada\n",
    "            nodo_nuevo.siguiente = nodo_actual.siguiente\n",
    "            nodo_actual.siguiente = nodo_nuevo\n",
    "            # Caso particular: si es que insertamos en la última posición\n",
    "            if nodo_nuevo.siguiente is None:\n",
    "                self.cola = nodo_nuevo\n",
    "\n",
    "    def __repr__(self):\n",
    "        \"\"\"Forma una representación de la lista\"\"\"\n",
    "        string = \"\"\n",
    "        nodo_actual = self.cabeza\n",
    "        while nodo_actual is not None:\n",
    "            string = f\"{string}{nodo_actual.valor} → \"\n",
    "            nodo_actual = nodo_actual.siguiente\n",
    "        return string\n",
    "\n",
    "    def __len__(self):\n",
    "        # Contador auxiliar\n",
    "        contador = 0\n",
    "        \n",
    "        # Nodo actual\n",
    "        \n",
    "        nodo_actual = self.cabeza\n",
    "        \n",
    "        # Recorremos la lista ligada\n",
    "        \n",
    "        while nodo_actual is not None:\n",
    "            contador += 1\n",
    "            nodo_actual = nodo_actual.siguiente\n",
    "        return contador\n",
    "\n",
    "\n",
    "    def remover(self, posicion):\n",
    "        # Es como insertar, pero al revés\n",
    "      \n",
    "        # Empezamos en la cabeza\n",
    "        nodo_actual = self.cabeza\n",
    "        \n",
    "        # Caso particular: remover la cabeza\n",
    "        \n",
    "        if posicion == 0:\n",
    "            # Actualizamos la cabeza\n",
    "            self.cabeza = nodo_actual.siguiente\n",
    "            # Caso más particular: si la lista estaba vacía,\n",
    "            # actualizamos la cola\n",
    "            if self.cabeza is None:\n",
    "                self.cola = None\n",
    "            # Terminamos de ejecutar la función\n",
    "            return\n",
    "        \n",
    "        # Buscamos el nodo predecesor\n",
    "        \n",
    "        for _ in range(posicion - 1):\n",
    "            if nodo_actual is not None:\n",
    "                nodo_actual = nodo_actual.siguiente\n",
    "                \n",
    "        # Si encontramos el predecesor, actualizamos las referencias\n",
    "        \n",
    "        if nodo_actual is not None:\n",
    "            # Si no lo hacemos en este orden perdemos la referencia\n",
    "            # al resto de la lista ligada\n",
    "            nodo_siguiente = nodo_actual.siguiente\n",
    "            nodo_actual.siguiente = nodo_siguiente.siguiente\n",
    "            # Caso particular: si es que removemos la cola\n",
    "            if nodo_actual.siguiente is None:\n",
    "                self.cola = nodo_actual"
   ]
  },
  {
   "cell_type": "markdown",
   "metadata": {},
   "source": [
    "Un ejemplo para probar tu solución:"
   ]
  },
  {
   "cell_type": "code",
   "execution_count": 56,
   "metadata": {},
   "outputs": [
    {
     "name": "stdout",
     "output_type": "stream",
     "text": [
      "5 → \n",
      "5 → 8 → \n",
      "5 → 6 → 8 → \n",
      "5 → 6 → 7 → 8 → \n",
      "5 → 6 → 7 → 8 → 9 → \n",
      "5 → 6 → 7 → 8 → 9 → 10 → \n"
     ]
    }
   ],
   "source": [
    "mi_lista = ListaLigada()\n",
    "mi_lista.insertar(5, 0)\n",
    "print(mi_lista)\n",
    "mi_lista.agregar(8)\n",
    "print(mi_lista)\n",
    "mi_lista.insertar(6, 1)\n",
    "print(mi_lista)\n",
    "mi_lista.insertar(7, 2)\n",
    "print(mi_lista)\n",
    "mi_lista.agregar(9)\n",
    "print(mi_lista)\n",
    "mi_lista.agregar(10)\n",
    "print(mi_lista)"
   ]
  },
  {
   "cell_type": "code",
   "execution_count": 57,
   "metadata": {},
   "outputs": [
    {
     "name": "stdout",
     "output_type": "stream",
     "text": [
      "6\n"
     ]
    }
   ],
   "source": [
    "print(len(mi_lista))"
   ]
  },
  {
   "cell_type": "code",
   "execution_count": 58,
   "metadata": {},
   "outputs": [
    {
     "name": "stdout",
     "output_type": "stream",
     "text": [
      "6 → 7 → 8 → 9 → 10 → \n",
      "5\n"
     ]
    }
   ],
   "source": [
    "mi_lista.remover(0)\n",
    "print(mi_lista)\n",
    "print(len(mi_lista))"
   ]
  },
  {
   "cell_type": "markdown",
   "metadata": {},
   "source": [
    "### Ejercicio 3: Listas ligadas ordenadas"
   ]
  },
  {
   "cell_type": "markdown",
   "metadata": {},
   "source": [
    "En este ejercicio se pide implementar una lista ligada que siempre esté ordenada crecientemente de acuerdo al valor de almacenado en sus nodos. Para lograr esto, basta con que cada vez que se desee insertar un nuevo nodo en la lista ligada, esta lo inserte en una posición que corresponda según su valor, de manera que se mantenga ordenada. De esta forma, la cabeza de la lista tiene siempre el valor más pequeño y la cola el valor más alto. \n",
    "\n",
    "Deberás completar el método `agregar` de la clase `ListaLigadaOrdenada`. Observa que no necesitamos el argumento `posicion` para agregar."
   ]
  },
  {
   "cell_type": "code",
   "execution_count": null,
   "metadata": {},
   "outputs": [],
   "source": [
    "class Nodo:\n",
    "    def __init__(self, valor=None):\n",
    "        self.valor = valor\n",
    "        self.siguiente = None\n",
    "\n",
    "\n",
    "class ListaLigadaOrdenada:\n",
    "    def __init__(self):\n",
    "        self.cabeza = None\n",
    "        self.cola = None\n",
    "\n",
    "    def obtener(self, posicion):\n",
    "        nodo_actual = self.cabeza\n",
    "        for _ in range(posicion):\n",
    "            if nodo_actual is not None:\n",
    "                nodo_actual = nodo_actual.siguiente\n",
    "\n",
    "        if nodo_actual is None:\n",
    "            return None\n",
    "        return nodo_actual.valor\n",
    "\n",
    "    def agregar(self, valor):\n",
    "        \"\"\"Completar aquí\"\"\"\n",
    "        nodo_nuevo = Nodo(valor)\n",
    "\n",
    "        # Completar...\n",
    "\n",
    "    def __repr__(self):\n",
    "        string = \"\"\n",
    "        nodo_actual = self.cabeza\n",
    "        while nodo_actual is not None:\n",
    "            string = f\"{string}{nodo_actual.valor} → \"\n",
    "            nodo_actual = nodo_actual.siguiente\n",
    "        return string"
   ]
  },
  {
   "cell_type": "markdown",
   "metadata": {},
   "source": [
    "Puedes probar tu implementación con el siguiente código:"
   ]
  },
  {
   "cell_type": "code",
   "execution_count": null,
   "metadata": {},
   "outputs": [],
   "source": [
    "lista_ordenada = ListaLigadaOrdenada()\n",
    "lista_ordenada.agregar(1)\n",
    "print(lista_ordenada)\n",
    "lista_ordenada.agregar(3)\n",
    "print(lista_ordenada)\n",
    "lista_ordenada.agregar(2)\n",
    "print(lista_ordenada)\n",
    "lista_ordenada.agregar(2.5)\n",
    "print(lista_ordenada)\n",
    "lista_ordenada.agregar(0)\n",
    "print(lista_ordenada)"
   ]
  },
  {
   "cell_type": "markdown",
   "metadata": {},
   "source": [
    "### Ejercicio 4: Lista Ligada 2.0"
   ]
  },
  {
   "cell_type": "markdown",
   "metadata": {},
   "source": [
    "La modelación vista hasta el momento para listas ligadas, utiliza nodos para encapsular los valores en cada posición y relacionarlos: el objeto siguiente a un nodo, también es un nodo. Pero por el otro lado, las listas ligadas tambien pueden verse como una estructura recursiva: cada una contiene el valor almacenado en su cabeza, y tiene de referencia a otra sub-lista, de menor tamaño y cuya cabeza contiene el siguiente valor de la lista completa.\n",
    "\n",
    "En este ejercicio debes implementar una estructura recursiva para una lista ligada, y que del mismo modo, sea capaz de relacionar cada uno de sus nodos con aquellos que están adyacentes."
   ]
  },
  {
   "cell_type": "code",
   "execution_count": null,
   "metadata": {},
   "outputs": [],
   "source": [
    "class ListaRecursiva:\n",
    "    def __init__(self):\n",
    "        self.valor = None\n",
    "        self.siguiente = None\n",
    "\n",
    "    def agregar(self, valor):\n",
    "        \"\"\"\n",
    "        Método que instancia cada nodo dependiendo de\n",
    "        si existe alguno adyacente a él o no.\n",
    "        \"\"\"\n",
    "        pass\n",
    "\n",
    "    def __repr__(self):\n",
    "        \"\"\"\n",
    "        Método para representación de la lista.\n",
    "        \"\"\"\n",
    "        pass\n",
    "\n",
    "    def obtener(self, posicion):\n",
    "        \"\"\"\n",
    "        Buscador de elemento integrante de la estructura\n",
    "        \"\"\"\n",
    "        pass"
   ]
  },
  {
   "cell_type": "code",
   "execution_count": null,
   "metadata": {},
   "outputs": [],
   "source": [
    "lista = ListaRecursiva()\n",
    "lista.agregar(1)\n",
    "print(lista)\n",
    "lista.agregar(2)\n",
    "print(lista)\n",
    "lista.agregar(3)\n",
    "print(lista)\n",
    "lista.agregar(4)\n",
    "print(lista)\n",
    "\n",
    "print(lista.obtener(0))\n",
    "print(lista.obtener(2))\n",
    "print(lista.obtener(3))"
   ]
  }
 ],
 "metadata": {
  "kernelspec": {
   "display_name": "Python 3 (ipykernel)",
   "language": "python",
   "name": "python3"
  },
  "language_info": {
   "codemirror_mode": {
    "name": "ipython",
    "version": 3
   },
   "file_extension": ".py",
   "mimetype": "text/x-python",
   "name": "python",
   "nbconvert_exporter": "python",
   "pygments_lexer": "ipython3",
   "version": "3.10.11"
  }
 },
 "nbformat": 4,
 "nbformat_minor": 4
}
