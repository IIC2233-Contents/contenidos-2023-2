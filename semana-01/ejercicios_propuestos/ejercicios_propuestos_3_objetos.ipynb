{
 "cells": [
  {
   "cell_type": "markdown",
   "metadata": {},
   "source": [
    "<p>\n",
    "<font size='5' face='Georgia, Arial'>IIC-2233 Apunte Programación Avanzada</font><br>\n",
    "<font size='1'> Ejercicios creados a partir de 2019-2 por Equipo Docente IIC2233. </font>\n",
    "<font size='1'> Actualizados el 2023-2.</font>\n",
    "</p>\n",
    "\n",
    "\n",
    "# Ejercicios propuestos: Programación Orientada a Objetos I\n",
    "## Objetos"
   ]
  },
  {
   "cell_type": "markdown",
   "metadata": {},
   "source": [
    "Los siguientes problemas se proveen como oportunidad de ejercitar los conceptos revisados en el material de **Programación Orientada a Objetos I**. Si tienes dudas sobre algún problema o alguna solución, no dudes en dejar una *issue* en el [foro del curso](https://github.com/IIC2233/syllabus/issues)."
   ]
  },
  {
   "cell_type": "markdown",
   "metadata": {},
   "source": [
    "### Ejercicio 1: DCCanvas"
   ]
  },
  {
   "cell_type": "markdown",
   "metadata": {},
   "source": [
    "Como bien sabes, por diversas razones se han tenido que realizar las clases en un formato online, pero como Canvas no tiene precisamente el mejor sistema de videoconferencias, te piden ayuda para programar el funcionamiento de estas. Para ello, deberás crear las siguientes clases con ciertas específicaciones:\n",
    "\n",
    "1. La clase ``` Alumno``` con:\n",
    "    - atributo nombre\n",
    "    - atributo apellido\n",
    "    - atributo número de alumno\n",
    "    - atributo clases asistidas, lista con las siglas de las clases a las que asistió el alumno en el día.\n",
    "\n",
    "\n",
    "2. La clase ```Sala``` con :\n",
    "    - atributo lista de alumnos, lista con la información de los alumnos inscritos en el curso.\n",
    "    - atributo número de sala\n",
    "    - atributo sigla curso\n",
    "    - método ```ingresar_alumno(alumno)```, el cual recibe una instancia de la clase `Alumno` y verifica que tanto su nombre como número de alumno pertenezcan a la lista de alumnos de esa clase.\n",
    "        - Si pertenece a la clase se debe agregar la **sigla del curso** a las clases asistidas del alumno, además de imprimir:\n",
    "        \n",
    "        ```\"{nombre alumno} {apellido alumno} ha ingresado a la Sala {numero sala} - {sigla}\"```\n",
    "        - En caso contrario se imprime: \n",
    "        \n",
    "        ```\"{nombre alumno} {apellido alumno} se ha intentado colar a la Sala {numero sala} - {sigla}\"```\n",
    "        \n",
    "Puedes usar el siguiente código de base como guía para realizar tu solución:"
   ]
  },
  {
   "cell_type": "code",
   "execution_count": 2,
   "metadata": {},
   "outputs": [
    {
     "name": "stdout",
     "output_type": "stream",
     "text": [
      "Javier Gomez se ha intendo colar a la Sala 666 - IIC2233\n",
      "Josefa Paz ha ingresado a la Sala 666 - IIC2233\n",
      "Tomas Gonzalez ha ingresado a la Sala 666 - IIC2233\n"
     ]
    }
   ],
   "source": [
    "class Alumno:\n",
    "    \n",
    "    def __init__(self, nombre: str, apellido: str, numero_alumno: str):\n",
    "        self.nombre = nombre\n",
    "        self.apellido = apellido\n",
    "        self.numero_alumno = numero_alumno\n",
    "        self.clases_asistidas: list = []\n",
    "\n",
    "class Sala:\n",
    "    \n",
    "    def __init__(self, lista_alumnos: list, numero_sala: int, sigla: str):\n",
    "        self.lista_alumnos = lista_alumnos\n",
    "        self.numero_sala = numero_sala\n",
    "        self.sigla = sigla\n",
    "    \n",
    "    def ingresar_alumno(self, alumno: Alumno):\n",
    "        if (alumno.nombre, alumno.numero_alumno) in self.lista_alumnos:\n",
    "            alumno.clases_asistidas.append(self.sigla)\n",
    "            print(f\"{alumno.nombre} {alumno.apellido} ha ingresado a la Sala {self.numero_sala} - {self.sigla}\")\n",
    "        else:\n",
    "            print(f\"{alumno.nombre} {alumno.apellido} se ha intendo colar a la Sala {self.numero_sala} - {self.sigla}\")\n",
    "        pass\n",
    "    \n",
    "if __name__ == \"__main__\":\n",
    "    javier = Alumno(\"Javier\", \"Gomez\", \"18639942\")\n",
    "    josefa = Alumno(\"Josefa\", \"Paz\", \"16645578\")\n",
    "    tomas = Alumno(\"Tomas\", \"Gonzalez\", \"19638225\")\n",
    "\n",
    "    sala = Sala([(\"Michael\", \"19643721\"),(\"Silvana\", \"18632890\"),(\"Tomas\", \"19638225\"),\n",
    "                 (\"Josefa\", \"16645578\"),(\"Javier\", \"16665798\"),(\"\", \"\")], 666, \"IIC2233\")\n",
    "    sala.ingresar_alumno(javier)\n",
    "    sala.ingresar_alumno(josefa)\n",
    "    sala.ingresar_alumno(tomas)"
   ]
  }
 ],
 "metadata": {
  "kernelspec": {
   "display_name": "Python 3 (ipykernel)",
   "language": "python",
   "name": "python3"
  },
  "language_info": {
   "codemirror_mode": {
    "name": "ipython",
    "version": 3
   },
   "file_extension": ".py",
   "mimetype": "text/x-python",
   "name": "python",
   "nbconvert_exporter": "python",
   "pygments_lexer": "ipython3",
   "version": "3.10.11"
  }
 },
 "nbformat": 4,
 "nbformat_minor": 4
}
