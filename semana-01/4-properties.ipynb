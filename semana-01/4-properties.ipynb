{
 "cells": [
  {
   "cell_type": "markdown",
   "metadata": {},
   "source": [
    "## <p>\n",
    "<font size='5' face='Georgia, Arial'>IIC2233 Apunte Programación Avanzada</font><br>\n",
    "<font size='1'>Basado en: &copy; 2015 Karim Pichara - Christian Pieringer. Todos los derechos reservados. Editado por equipo docente IIC2233 2018-1 al 2023-2</font>\n",
    "</p>"
   ]
  },
  {
   "cell_type": "markdown",
   "metadata": {},
   "source": [
    "# Tabla de contenidos\n",
    "\n",
    "1. [Encapsulamiento](#Encapsulamiento)\n",
    "2. [_Properties_: `property`](#Properties:-property)\n",
    "    1. [¿Para qué las `properties`?](#%C2%BFPara-qu%C3%A9-las-properties?)\n",
    "    2. [Otras maneras de definir *properties*](#Otras-maneras-de-definir-properties)\n",
    "    3. [Ejemplo: *caching* de páginas web](#Ejemplo:-caching-de-p%C3%A1ginas-web)\n",
    "    4. [Ejemplo: definiendo una clase `Email`](#Ejemplo:-definiendo-una-clase-Email)\n",
    "    5. [Ejemplo: definiendo figuras geométricas](#Ejemplo:-definiendo-figuras-geométricas)"
   ]
  },
  {
   "cell_type": "markdown",
   "metadata": {},
   "source": [
    "# Encapsulamiento\n",
    "\n",
    "En los lenguajes OOP, el encapsulamiento suele proveerse mediantes atributos _públicos_ o _privados_. En Python, **todos** los atributos y métodos de una clase son **públicos**, y el hecho de iniciar el nombre de un atributo o método con _underscore_ es una convención (y una buena práctica), pero no asegura un caracter privado de estos elementos. También hemos visto que existe una convención que permite _sugerir_ que un método o atributo es de uso únicamente interno. Esto se hace agregando un caracter _underscore_ (`_`) al inicio del atributo o método\n",
    "\n",
    "Una consecuencia de tener atributos privados (o casi privados) es que si queremos modificarlos tenemos que, forzosamente, utilizar un método. En el paradigma OOP, se definen métodos específicos para **obtener el valor de un atributo (privado)**, y para **actualizar el valor de un atributo (privado)**. A estos métodos se llama respectivamente **getters** y **setters**.\n",
    "\n",
    "Revisemos el ejemplo de la clase `Auto`."
   ]
  },
  {
   "cell_type": "code",
   "execution_count": 2,
   "metadata": {},
   "outputs": [],
   "source": [
    "class Auto:\n",
    "    \n",
    "    def __init__(self, marca, modelo, año, color, km):\n",
    "        self.marca = marca\n",
    "        self.modelo = modelo\n",
    "        self.año = año\n",
    "        self.color = color\n",
    "        self._kilometraje = km\n",
    "        self._ubicacion = (-33.45, -70.63)\n",
    "        self.dueño = None\n",
    "\n",
    "    def conducir(self, kms):\n",
    "        self._kilometraje += kms\n",
    "        self.__modificar_ubicacion()\n",
    "\n",
    "    def vender(self, nuevo_dueño):\n",
    "        self.dueño = nuevo_dueño\n",
    "\n",
    "    def leer_odometro(self):\n",
    "        return self._kilometraje\n",
    "\n",
    "    def __modificar_ubicacion(self):\n",
    "        print(\"Calcula nueva ubicación\")\n",
    "        self._ubicacion = (self._ubicacion[0] + 0.01, self._ubicacion[1] - 0.01)"
   ]
  },
  {
   "cell_type": "markdown",
   "metadata": {},
   "source": [
    "Vemos que hay dos atributos \"privados\": `_kilometraje` y `_ubicacion`. Siguiendo la idea de OOP de utilizar _getters_ y *setters*, deberíamos definir dos métodos adicionales de la siguiente manera:"
   ]
  },
  {
   "cell_type": "code",
   "execution_count": 4,
   "metadata": {},
   "outputs": [],
   "source": [
    "class Auto:\n",
    "    \n",
    "    def __init__(self, marca, modelo, año, color, km):\n",
    "        self.marca = marca\n",
    "        self.modelo = modelo\n",
    "        self.año = año\n",
    "        self.color = color\n",
    "        self._kilometraje = km\n",
    "        self._ubicacion = (-33.45, -70.63)\n",
    "        self.dueño = None\n",
    "\n",
    "    ## Método getter\n",
    "    def get_kilometraje(self):\n",
    "        return self._kilometraje\n",
    "    \n",
    "    ## Método setter\n",
    "    def set_kilometraje(self, kms):\n",
    "        if kms < 0:\n",
    "            raise ValueError(\"No se puede establecer un kilometraje negativo\")\n",
    "        self._kilometraje = kms\n",
    "        \n",
    "    def conducir(self, kms):\n",
    "        self._kilometraje += kms\n",
    "        self._modificar_ubicacion()\n",
    "\n",
    "    def vender(self, nuevo_dueño):\n",
    "        self.dueño = nuevo_dueño\n",
    "\n",
    "    def leer_odometro(self):\n",
    "        return self._kilometraje\n",
    "\n",
    "    def _modificar_ubicacion(self):\n",
    "        print(\"Calcula nueva ubicación\")\n",
    "        self._ubicacion = (self._ubicacion[0] + 0.01, self._ubicacion[1] - 0.01)\n"
   ]
  },
  {
   "cell_type": "markdown",
   "metadata": {},
   "source": [
    "Esto deberíamos repetirlo para cada atributo privado, de manera de cumplir con el principio de\n",
    "encapsulamiento. Sin embargo, Python proveer un mecanismo para implementar encapsulamiento de\n",
    "manera más sencillo. Éste es el mecanismo de **_properties_**.\n",
    "\n",
    "En resumidas cuentas,  las **properties** realmente no cambian o agregan\n",
    "nuevas cosas a la programación (que podrían hacerse con métodos más tradicionales), pero sí nos permiten escribir código más limpio y fácil de leer."
   ]
  },
  {
   "cell_type": "markdown",
   "metadata": {},
   "source": [
    "# *Properties*: `property`\n",
    "\n",
    "En Python, una _property_ funciona como un atributo, pero sobre el cual podemos modificar su comportamiento cada vez que es leído (`get`), escrito (`set`), o eliminado (`del`). Al usar el mecanismo de _properties_ sobre un atributo, podemos ejecutar acciones de manera más limpia que invocando métodos explícitos para leer o modificar el valor de un objeto. Por supuesto debemos definir los métodos correspondientes *getter* y *setter*. Veremos que al utilizar estos métodos podemos agregar comportamiento adicional en cada caso.\n",
    "\n",
    "## ¿Para qué las *properties*?\n",
    "\n",
    "Tomemos un ejemplo sencillo en que deseamos definir una clase que modela un puente a través del cual puede pasar solo una cantidad máxima de personas por motivos de seguridad. Una manera inicial de implementarlo es mediante la siguiente clase.\n"
   ]
  },
  {
   "cell_type": "code",
   "execution_count": 5,
   "metadata": {},
   "outputs": [
    {
     "name": "stdout",
     "output_type": "stream",
     "text": [
      "Hay 7 personas en el puente.\n",
      "Hay 12 personas en el puente.\n",
      "Hay -3 personas en el puente.\n"
     ]
    }
   ],
   "source": [
    "class Puente:\n",
    "    \n",
    "    def __init__(self, maximo: int):\n",
    "        self.maximo = maximo\n",
    "        self.personas = 0\n",
    "        \n",
    "puente = Puente(maximo=10)\n",
    "puente.personas += 7\n",
    "print(f\"Hay {puente.personas} personas en el puente.\")\n",
    "puente.personas += 5\n",
    "print(f\"Hay {puente.personas} personas en el puente.\")\n",
    "puente.personas -= 15\n",
    "print(f\"Hay {puente.personas} personas en el puente.\")"
   ]
  },
  {
   "cell_type": "markdown",
   "metadata": {},
   "source": [
    "En este ejemplo es fácil modificar la cantidad de personas en el puente de manera externa a él, simplemente accediendo al atributo (público) `personas`. Sin embargo, al permitir estas modificaciones, también permitimos que el puente quede con más personas de las permitidas, o bien con una cantidad negativa de personas. La manera obvia de corregir esto es agregando acciones al momento de modificar la cantidad de personas."
   ]
  },
  {
   "cell_type": "code",
   "execution_count": 7,
   "metadata": {},
   "outputs": [
    {
     "name": "stdout",
     "output_type": "stream",
     "text": [
      "Hay 7 personas en el puente.\n",
      "Hay 10 personas en el puente.\n",
      "Hay 0 personas en el puente.\n"
     ]
    }
   ],
   "source": [
    "class Puente:\n",
    "    \n",
    "    def __init__(self, maximo):\n",
    "        self.maximo = maximo\n",
    "        self.personas = 0\n",
    "        \n",
    "        \n",
    "puente = Puente(10)\n",
    "\n",
    "if puente.personas + 7 > puente.maximo:\n",
    "    puente.personas = puente.maximo\n",
    "else:\n",
    "    puente.personas += 7\n",
    "print(f\"Hay {puente.personas} personas en el puente.\")\n",
    "\n",
    "if puente.personas + 5 > puente.maximo:\n",
    "    puente.personas = puente.maximo\n",
    "else:\n",
    "    puente.personas += 5\n",
    "print(f\"Hay {puente.personas} personas en el puente.\")\n",
    "\n",
    "if puente.personas - 15 < 0:\n",
    "    puente.personas = 0\n",
    "else:\n",
    "    puente.personas -= 15\n",
    "print(f\"Hay {puente.personas} personas en el puente.\")\n",
    "\n",
    "# Esto es una solución, pero no es la mejor, ya que no es escalable, y no es reutilizable (depende\n",
    "# exactamente de cierto funcionamiento interno); es por\n",
    "# ello que surgen las properties al rescate."
   ]
  },
  {
   "cell_type": "markdown",
   "metadata": {},
   "source": [
    "Este código permite que el puente funcione de manera correcta. Sin embargo, el código ahora es **más complicado de leer y de mantener**. Cada vez que modificamos el valor del atributo `personas` _debemos recordar_ efectuar ciertas verificaciones que (1) entorpecen el flujo natural del programa y que (2) violan el principio de encapsulamiento ya que estas verificaciones deberían ser responsabilidad de la clase `Puente`, y no del código externo a `Puente`. La siguiente mejora agrega las verificaciones dentro de la clase, y **encapsula** el atributo `personas` dentro de métodos especialmente definidos para leerlo y modificarlo."
   ]
  },
  {
   "cell_type": "code",
   "execution_count": 8,
   "metadata": {},
   "outputs": [
    {
     "name": "stdout",
     "output_type": "stream",
     "text": [
      "Hay 7 personas en el puente.\n",
      "Hay 10 personas en el puente.\n",
      "Hay 0 personas en el puente.\n"
     ]
    }
   ],
   "source": [
    "class Puente:\n",
    "    \n",
    "    def __init__(self, maximo):\n",
    "        self.maximo = maximo\n",
    "        self._personas = 0\n",
    "        \n",
    "    def contar(self):\n",
    "        # Método getter, pero mal programado\n",
    "        return self._personas\n",
    "    \n",
    "    def ingresar(self, p):\n",
    "        # Método setter, pero mal programado\n",
    "        if self._personas + p > self.maximo:\n",
    "            self._personas = self.maximo\n",
    "        elif self._personas + p < 0:\n",
    "            self._personas = 0\n",
    "        else:\n",
    "            self._personas += p\n",
    "            \n",
    "            \n",
    "puente = Puente(10)\n",
    "puente.ingresar(7)\n",
    "print(f\"Hay {puente.contar()} personas en el puente.\")\n",
    "puente.ingresar(5)\n",
    "print(f\"Hay {puente.contar()} personas en el puente.\")\n",
    "puente.ingresar(-15)\n",
    "print(f\"Hay {puente.contar()} personas en el puente.\")"
   ]
  },
  {
   "cell_type": "markdown",
   "metadata": {},
   "source": [
    "Hemos movido el comportamiento de verificar las condiciones, hacia los métodos de la clase `Puente`. Hemos encapsulado el acceso y modificación del atributo `_personas`, que ahora es un atributo interno, dentro de los métodos `contar` e `ingresar` quienes tienen, respectivamente, la misión de leer u obtener (*getter*) y modificar o actualizar (*setter*) el valor del atributo interno `_personas`. Nuestro código es correcto y **más fácil de leer**. \n",
    "\n",
    "Algo que podemos lamentar es que, dentro de todo, la primera versión que leía y modificaba directamente el atributo `personas` tenía una sintaxis más sencilla y ahora, en cambio, debemos llamar métodos particulares `ingresar` y `contar`. Más aún, en el futuro, si decidimos cambiar los nombres de los métodos `ingresar` y `contar`, debemos buscar todas las veces en que los hemos usado fuera de la clase y modificarlos.\n",
    "\n",
    "La mejor combinación de ambos mundos: encapsulamiento, y sintaxis más simple, la provee el mecanismo de **properties**. Para incorporarlo veamos el siguiente ejemplo:"
   ]
  },
  {
   "cell_type": "code",
   "execution_count": 31,
   "metadata": {},
   "outputs": [
    {
     "name": "stdout",
     "output_type": "stream",
     "text": [
      "Hay 7 personas en el puente.\n",
      "Hay 10 personas en el puente.\n",
      "Hay 0 personas en el puente.\n"
     ]
    }
   ],
   "source": [
    "class Puente:\n",
    "    \n",
    "    def __init__(self, maximo: int, personas: int = 0):\n",
    "        self.maximo = maximo\n",
    "        self._personas = personas  # Atributo \"privado\", por el uso de _\n",
    "        \n",
    "    @property\n",
    "    def personas(self):\n",
    "        # Este es el getter, pero bien programado. Nótese los decoradores (el @property)\n",
    "        return self._personas\n",
    "\n",
    "    @personas.setter\n",
    "    def personas(self, p):\n",
    "        # Este es el setter, pero bien programado. Nótese los decoradores (el @personas.setter)\n",
    "        if p > self.maximo:\n",
    "            self._personas = self.maximo\n",
    "        elif p < 0:\n",
    "            self._personas = 0\n",
    "        else:\n",
    "            self._personas = p\n",
    "    \n",
    "    @personas.deleter\n",
    "    def personas(self):\n",
    "        del self._personas\n",
    "\n",
    "puente = Puente(maximo=10)\n",
    "puente.personas = 7\n",
    "print(f\"Hay {puente.personas} personas en el puente.\")\n",
    "puente.personas += 5\n",
    "print(f\"Hay {puente.personas} personas en el puente.\")\n",
    "puente.personas -= 15\n",
    "print(f\"Hay {puente.personas} personas en el puente.\")\n"
   ]
  },
  {
   "cell_type": "markdown",
   "metadata": {},
   "source": [
    "El texto que empieza con `@` se conoce como **decorador**. Al escribir el decorador `@property` antes del método `personas`, estamos definiendo una _property_ de nombre `personas`. Esta _property_ se comporta como un atributo cuyo método _getter_ es precisamente el método `personas`. Adicionalmente podemos definir otro método como _setter_ (que nos permitirá modificar el valor de la *property*) y para eso le agregamos el decorador `@personas.setter`.\n",
    "\n",
    "El código resultante que escribimos fuera de la clase es tan simple como en la primera versión, y además encapsula, dentro de los métodos _getter_ y _setter_ para `personas`, el comportamiento que verifica que las restricciones sobre el puente se cumplan."
   ]
  },
  {
   "cell_type": "markdown",
   "metadata": {},
   "source": [
    "## Otras maneras de definir _properties_\n",
    "\n",
    "Si no parece tan clara la manera de definir _properties_ mediante decoradores, Python ofrece otra manera más explícita que provee el mismo comportamiento. Veamos la siguiente versión de la clase `Puente`:"
   ]
  },
  {
   "cell_type": "code",
   "execution_count": 7,
   "metadata": {},
   "outputs": [
    {
     "name": "stdout",
     "output_type": "stream",
     "text": [
      "Hay 7 personas en el puente.\n",
      "Hay 10 personas en el puente.\n",
      "Hay 0 personas en el puente.\n"
     ]
    }
   ],
   "source": [
    "class Puente:\n",
    "    \n",
    "    def __init__(self, maximo):\n",
    "        self.maximo = maximo\n",
    "        self._personas = 0\n",
    "        \n",
    "    def _get_personas(self):\n",
    "        return self._personas\n",
    "\n",
    "    def _set_personas(self, p):\n",
    "        if p > self.maximo:\n",
    "            self._personas = self.maximo\n",
    "        elif p < 0:\n",
    "            self._personas = 0\n",
    "        else:\n",
    "            self._personas = p\n",
    "        \n",
    "    personas = property(fget=_get_personas, fset=_set_personas)\n",
    "\n",
    "    \n",
    "puente = Puente(10)\n",
    "puente.personas += 7\n",
    "print(f\"Hay {puente.personas} personas en el puente.\")\n",
    "puente.personas += 5\n",
    "print(f\"Hay {puente.personas} personas en el puente.\")\n",
    "puente.personas -= 15\n",
    "print(f\"Hay {puente.personas} personas en el puente.\")"
   ]
  },
  {
   "cell_type": "markdown",
   "metadata": {},
   "source": [
    "Esta vez hemos definido los métodos \"pseudo-privados\" `_get_personas` y `_set_personas`, y posteriormente hemos definido un atributo `personas` dentro de la clase, pero fuera de los otros métodos (*atributo de clase*). Este atributo se define como una [`property`](https://docs.python.org/3/library/functions.html#property) y se le indica que sus métodos _getter_ y _setter_ serán, respectivamente, `_get_personas` y `_set_personas`. \n",
    "\n",
    "El comportamiento es el mismo que en el caso anterior que usaba decoradores. Las verificaciones se encuentran encapsuladas en los métodos _getter_ y _setter_ asociados a la _property_ `personas`; la sintaxis es simple y no depende de los nombres internos de los métodos _getter_ y _setter_."
   ]
  },
  {
   "cell_type": "markdown",
   "metadata": {},
   "source": [
    "## Ejemplo: *caching* de páginas web\n",
    "\n",
    "Supongamos que estamos implementando un navegador que hace consultas por páginas web. Cuando el navegador obtiene una página como resultado, guarda una copia de ella, incluyendo imágenes y otros elementos, en caso que el usuario quiera accederla de nuevo en el corto plazo, y de esta forma se evita tener que bajar todo el contenido otra vez. Este mecanismo se llama _caching_ y es un gran beneficio en el rendimiento de los navegadores web.\n",
    "\n",
    "En el siguiente ejemplo, tenemos una clase `WebPage` con un atributo `__content` que corresponde al contenido de una página web. Si un usuario accede al contenido por primera vez, descargamos el contenido y lo guardamos. De esta forma, en los próximos accesos podemos retornar el contenido guardado sin la necesidad de bajarlo de nuevo."
   ]
  },
  {
   "cell_type": "code",
   "execution_count": 26,
   "metadata": {},
   "outputs": [],
   "source": [
    "from urllib.request import urlopen\n",
    "\n",
    "class WebPage:\n",
    "\n",
    "    def __init__(self, url: str):\n",
    "        self.url = url\n",
    "        self._content = None  # Recordar que en comparaciones, None es False, y cualquier otro valor es True (salvo 0 y False)\n",
    "    \n",
    "    @property\n",
    "    def content(self):\n",
    "        if not self._content:\n",
    "            print(\"Obteniendo página web...\")\n",
    "            self._content = urlopen(self.url).read()\n",
    "        return self._content"
   ]
  },
  {
   "cell_type": "code",
   "execution_count": 29,
   "metadata": {},
   "outputs": [
    {
     "name": "stdout",
     "output_type": "stream",
     "text": [
      "Obteniendo página web...\n",
      "Tiempo en obtener la página por primera vez: 1.2124581336975098 segundos.\n",
      "Tiempo en obtener la página por segunda vez: 0.0 segundos.\n",
      "True\n"
     ]
    }
   ],
   "source": [
    "import time\n",
    "\n",
    "page = WebPage(\"http://www.uc.cl\")\n",
    "now = time.time()                  # devuelve el tiempo en segundos\n",
    "contenido_1 = page.content         # llama a la property 'content', que baja el contenido\n",
    "print(f\"Tiempo en obtener la página por primera vez: {time.time() - now} segundos.\")\n",
    "\n",
    "now = time.time()\n",
    "contenido_2 = page.content         # llama a la property 'content', y esta vez no baja de nuevo el contenido\n",
    "print(f\"Tiempo en obtener la página por segunda vez: {time.time() - now} segundos.\")\n",
    "\n",
    "print(contenido_1 == contenido_2)  # True, ya que son el mismo objeto, y por ende, el mismo contenido\n",
    "\n",
    "# Nótese que el tiempo de la primera llamada es variable, ya que depende de la velocidad de\n",
    "# internet de cada uno, pero el tiempo de la segunda llamada es siempre 0, ya que no se baja el\n",
    "# contenido de nuevo."
   ]
  },
  {
   "cell_type": "markdown",
   "metadata": {},
   "source": [
    "De esta manera hemos usado la *property* `content` para agregar un comportamiento al *getter*, de\n",
    "manera que la segunda vez que ejecute no realice la consulta por segunda vez.\n",
    "\n",
    "##### Toda property tiene un getter, pero no necesariamente un setter."
   ]
  },
  {
   "cell_type": "markdown",
   "metadata": {},
   "source": [
    "## Ejemplo: definiendo una clase `Email`\n",
    "\n",
    "Este ejemplo utiliza la segunda forma de usar *properties*, que es definiendo los métodos y luego asignarlos a una variable usando `property`. Adicionalmente define un método *deleter* `_del_email` que se encarga de eliminar el atributo \"privado\" `self.__email`."
   ]
  },
  {
   "cell_type": "code",
   "execution_count": 30,
   "metadata": {},
   "outputs": [],
   "source": [
    "class Email:\n",
    "    \n",
    "    def __init__(self, address: str):\n",
    "        self._email = address\n",
    "        \n",
    "    def _get_email(self):\n",
    "        return self._email\n",
    "        \n",
    "    def _set_email(self, value):\n",
    "        if '@' not in value:\n",
    "            print(\"Esto no parece una dirección de correo.\")\n",
    "            # No se modifica self._email\n",
    "        else:\n",
    "            self._email = value\n",
    "    \n",
    "    def _del_email(self):\n",
    "        print(\"¡Eliminaste el correo!\")\n",
    "        del self._email    \n",
    "\n",
    "    email = property(_get_email, _set_email, _del_email, \"Esta propiedad corresponde al correo.\")\n",
    "   "
   ]
  },
  {
   "cell_type": "code",
   "execution_count": 33,
   "metadata": {},
   "outputs": [
    {
     "name": "stdout",
     "output_type": "stream",
     "text": [
      "kp1@gmail.com\n",
      "kp2@gmail.com\n",
      "Esto no parece una dirección de correo.\n",
      "kp2@gmail.com\n",
      "¡Eliminaste el correo!\n"
     ]
    }
   ],
   "source": [
    "mail = Email(\"kp1@gmail.com\")\n",
    "print(mail.email)\n",
    "mail.email = \"kp2@gmail.com\"\n",
    "print(mail.email)\n",
    "mail.email = \"kp2.com\"\n",
    "print(mail.email)\n",
    "del mail.email"
   ]
  },
  {
   "cell_type": "markdown",
   "metadata": {},
   "source": [
    "La siguiente versión de la clase `Email` define la `property` utilizando la notación de decoradores. Es equivalente al ejemplo anterior."
   ]
  },
  {
   "cell_type": "code",
   "execution_count": 1,
   "metadata": {},
   "outputs": [],
   "source": [
    "class Email2:\n",
    "    \n",
    "    def __init__(self, address: str) -> None:\n",
    "        self._email = address\n",
    "    \n",
    "    @property\n",
    "    def email(self):\n",
    "        return self._email\n",
    "    \n",
    "    @email.setter\n",
    "    def email(self, value: str):\n",
    "        if not isinstance(value, str):\n",
    "            raise TypeError(\"El correo debe ser un string.\")\n",
    "        if '@' not in value:\n",
    "            print(\"Esto no parece una dirección de correo. No se modifica el correo.\")\n",
    "        else:\n",
    "            self._email = value\n",
    "        \n",
    "\n",
    "    @email.deleter\n",
    "    def email(self):\n",
    "        print(\"¡Eliminaste el correo!\")\n",
    "        del self._email"
   ]
  },
  {
   "cell_type": "markdown",
   "metadata": {},
   "source": [
    "Se puede observar que el funcionamiento de `Email2` es equivalente al de `Email`:"
   ]
  },
  {
   "cell_type": "code",
   "execution_count": 50,
   "metadata": {},
   "outputs": [
    {
     "name": "stdout",
     "output_type": "stream",
     "text": [
      "kp1@gmail.com\n",
      "kp2@gmail.com\n",
      "Esto no parece una dirección de correo. No se modifica el correo.\n",
      "kp2@gmail.com\n"
     ]
    },
    {
     "ename": "TypeError",
     "evalue": "El correo debe ser un string.",
     "output_type": "error",
     "traceback": [
      "\u001b[1;31m---------------------------------------------------------------------------\u001b[0m",
      "\u001b[1;31mTypeError\u001b[0m                                 Traceback (most recent call last)",
      "\u001b[1;32mc:\\Users\\mativ\\Documents\\Jupyter Notebooks\\IIC2233\\contenidos\\semana-01\\4-properties.ipynb Cell 30\u001b[0m line \u001b[0;36m7\n\u001b[0;32m      <a href='vscode-notebook-cell:/c%3A/Users/mativ/Documents/Jupyter%20Notebooks/IIC2233/contenidos/semana-01/4-properties.ipynb#X41sZmlsZQ%3D%3D?line=4'>5</a>\u001b[0m mail\u001b[39m.\u001b[39memail \u001b[39m=\u001b[39m \u001b[39m\"\u001b[39m\u001b[39mkp2.com\u001b[39m\u001b[39m\"\u001b[39m\n\u001b[0;32m      <a href='vscode-notebook-cell:/c%3A/Users/mativ/Documents/Jupyter%20Notebooks/IIC2233/contenidos/semana-01/4-properties.ipynb#X41sZmlsZQ%3D%3D?line=5'>6</a>\u001b[0m \u001b[39mprint\u001b[39m(mail\u001b[39m.\u001b[39memail)\n\u001b[1;32m----> <a href='vscode-notebook-cell:/c%3A/Users/mativ/Documents/Jupyter%20Notebooks/IIC2233/contenidos/semana-01/4-properties.ipynb#X41sZmlsZQ%3D%3D?line=6'>7</a>\u001b[0m mail\u001b[39m.\u001b[39;49memail \u001b[39m=\u001b[39m \u001b[39m123\u001b[39m\n\u001b[0;32m      <a href='vscode-notebook-cell:/c%3A/Users/mativ/Documents/Jupyter%20Notebooks/IIC2233/contenidos/semana-01/4-properties.ipynb#X41sZmlsZQ%3D%3D?line=8'>9</a>\u001b[0m \u001b[39m# Ante el errror, luego todo lo que sigue no se ejecuta.\u001b[39;00m\n\u001b[0;32m     <a href='vscode-notebook-cell:/c%3A/Users/mativ/Documents/Jupyter%20Notebooks/IIC2233/contenidos/semana-01/4-properties.ipynb#X41sZmlsZQ%3D%3D?line=9'>10</a>\u001b[0m \u001b[39mdel\u001b[39;00m mail\u001b[39m.\u001b[39memail\n",
      "\u001b[1;32mc:\\Users\\mativ\\Documents\\Jupyter Notebooks\\IIC2233\\contenidos\\semana-01\\4-properties.ipynb Cell 30\u001b[0m line \u001b[0;36m1\n\u001b[0;32m     <a href='vscode-notebook-cell:/c%3A/Users/mativ/Documents/Jupyter%20Notebooks/IIC2233/contenidos/semana-01/4-properties.ipynb#X41sZmlsZQ%3D%3D?line=9'>10</a>\u001b[0m \u001b[39m@email\u001b[39m\u001b[39m.\u001b[39msetter\n\u001b[0;32m     <a href='vscode-notebook-cell:/c%3A/Users/mativ/Documents/Jupyter%20Notebooks/IIC2233/contenidos/semana-01/4-properties.ipynb#X41sZmlsZQ%3D%3D?line=10'>11</a>\u001b[0m \u001b[39mdef\u001b[39;00m \u001b[39memail\u001b[39m(\u001b[39mself\u001b[39m, value: \u001b[39mstr\u001b[39m):\n\u001b[0;32m     <a href='vscode-notebook-cell:/c%3A/Users/mativ/Documents/Jupyter%20Notebooks/IIC2233/contenidos/semana-01/4-properties.ipynb#X41sZmlsZQ%3D%3D?line=11'>12</a>\u001b[0m     \u001b[39mif\u001b[39;00m \u001b[39mnot\u001b[39;00m \u001b[39misinstance\u001b[39m(value, \u001b[39mstr\u001b[39m):\n\u001b[1;32m---> <a href='vscode-notebook-cell:/c%3A/Users/mativ/Documents/Jupyter%20Notebooks/IIC2233/contenidos/semana-01/4-properties.ipynb#X41sZmlsZQ%3D%3D?line=12'>13</a>\u001b[0m         \u001b[39mraise\u001b[39;00m \u001b[39mTypeError\u001b[39;00m(\u001b[39m\"\u001b[39m\u001b[39mEl correo debe ser un string.\u001b[39m\u001b[39m\"\u001b[39m)\n\u001b[0;32m     <a href='vscode-notebook-cell:/c%3A/Users/mativ/Documents/Jupyter%20Notebooks/IIC2233/contenidos/semana-01/4-properties.ipynb#X41sZmlsZQ%3D%3D?line=13'>14</a>\u001b[0m     \u001b[39mif\u001b[39;00m \u001b[39m'\u001b[39m\u001b[39m@\u001b[39m\u001b[39m'\u001b[39m \u001b[39mnot\u001b[39;00m \u001b[39min\u001b[39;00m value:\n\u001b[0;32m     <a href='vscode-notebook-cell:/c%3A/Users/mativ/Documents/Jupyter%20Notebooks/IIC2233/contenidos/semana-01/4-properties.ipynb#X41sZmlsZQ%3D%3D?line=14'>15</a>\u001b[0m         \u001b[39mprint\u001b[39m(\u001b[39m\"\u001b[39m\u001b[39mEsto no parece una dirección de correo. No se modifica el correo.\u001b[39m\u001b[39m\"\u001b[39m)\n",
      "\u001b[1;31mTypeError\u001b[0m: El correo debe ser un string."
     ]
    }
   ],
   "source": [
    "mail = Email2(\"kp1@gmail.com\")\n",
    "print(mail.email)\n",
    "mail.email = \"kp2@gmail.com\"\n",
    "print(mail.email)\n",
    "mail.email = \"kp2.com\"\n",
    "print(mail.email)\n",
    "mail.email = 123\n",
    "\n",
    "# Ante el errror, luego todo lo que sigue no se ejecuta.\n",
    "del mail.email\n",
    "\n"
   ]
  },
  {
   "cell_type": "markdown",
   "metadata": {},
   "source": [
    "## Ejemplo: definiendo figuras geométricas\n",
    "\n",
    "Este ejemplo utiliza la notación de decorador para construir *properties*. En este, usamos *properties* para calcular el área y perímetro de un `Cuadrado`, pero tambien usamos el `setter` para poder definir el área o perímetro de un `Cuadrado` y esto implica actualizar el atributo privado `lado`."
   ]
  },
  {
   "cell_type": "code",
   "execution_count": 53,
   "metadata": {},
   "outputs": [],
   "source": [
    "import math\n",
    "\n",
    "\n",
    "class Cuadrado:\n",
    "    def __init__(self, lado: float) -> None:\n",
    "        self._lado = lado\n",
    "\n",
    "    @property\n",
    "    def area(self):\n",
    "        return math.pow(self._lado, 2)\n",
    "\n",
    "    @area.setter\n",
    "    def area(self, nueva_area):\n",
    "        self._lado = math.sqrt(nueva_area)\n",
    "\n",
    "    @property\n",
    "    def perimetro(self):\n",
    "        return 4 * self._lado\n",
    "\n",
    "    @perimetro.setter\n",
    "    def perimetro(self, nuevo_perimetro):\n",
    "        self._lado = nuevo_perimetro/4"
   ]
  },
  {
   "cell_type": "code",
   "execution_count": 55,
   "metadata": {},
   "outputs": [
    {
     "name": "stdout",
     "output_type": "stream",
     "text": [
      "Lado: 5\n",
      "Area: 25.0\n",
      "Perimetro: 20\n",
      "\n",
      "Ajustando lado para que el área sea 144\n",
      "Lado: 12.0\n",
      "Area: 144.0\n",
      "Perimetro: 48.0\n",
      "\n",
      "Ajustando lado para que el perimetro sea 51\n",
      "Lado: 12.75\n",
      "Area: 162.5625\n",
      "Perimetro: 51.0\n"
     ]
    }
   ],
   "source": [
    "ejemplo_1 = Cuadrado(5)\n",
    "print(f\"Lado: {ejemplo_1._lado}\")\n",
    "print(f\"Area: {ejemplo_1.area}\")\n",
    "print(f\"Perimetro: {ejemplo_1.perimetro}\")\n",
    "\n",
    "print(\"\\nAjustando lado para que el área sea 144\")\n",
    "ejemplo_1.area = 144\n",
    "print(f\"Lado: {ejemplo_1._lado}\")\n",
    "print(f\"Area: {ejemplo_1.area}\")\n",
    "print(f\"Perimetro: {ejemplo_1.perimetro}\")\n",
    "\n",
    "print(\"\\nAjustando lado para que el perimetro sea 51\")\n",
    "ejemplo_1.perimetro = 51\n",
    "print(f\"Lado: {ejemplo_1._lado}\")\n",
    "print(f\"Area: {ejemplo_1.area}\")\n",
    "print(f\"Perimetro: {ejemplo_1.perimetro}\")"
   ]
  },
  {
   "cell_type": "markdown",
   "metadata": {},
   "source": [
    "Ahora haremos el mismo proceso para modelar un `Círculo`. Nuevamente usamos *properties* para modelar el área y perímetro de un `Círculo` y con `setter` podemos definir el proceso de actualizar el `radio` en función del valor del área o perímetro deseado."
   ]
  },
  {
   "cell_type": "code",
   "execution_count": 24,
   "metadata": {},
   "outputs": [],
   "source": [
    "class Circulo:\n",
    "    def __init__(self, radio: float) ->None:\n",
    "        self._radio = radio\n",
    "\n",
    "    @property\n",
    "    def area(self):\n",
    "        return math.pi * math.pow(self._radio, 2)\n",
    "\n",
    "    @area.setter\n",
    "    def area(self, nueva_area):\n",
    "        self._radio = math.sqrt(nueva_area/math.pi)\n",
    "\n",
    "    @property\n",
    "    def perimetro(self):\n",
    "        return 2 * math.pi * self._radio\n",
    "\n",
    "    @perimetro.setter\n",
    "    def perimetro(self, nuevo_perimetro):\n",
    "        self._radio = nuevo_perimetro/(2*math.pi)\n"
   ]
  },
  {
   "cell_type": "code",
   "execution_count": 26,
   "metadata": {},
   "outputs": [
    {
     "name": "stdout",
     "output_type": "stream",
     "text": [
      "Radio: 4\n",
      "Area: 50.26548245743669\n",
      "Perimetro: 25.132741228718345\n",
      "\n",
      "Ajustando radio para que el área sea 124\n",
      "Radio: 6.282549314314218\n",
      "Area: 124.0\n",
      "Perimetro: 39.47442154333028\n",
      "\n",
      "Ajustando radio para que el perimetro sea 50\n",
      "Radio: 7.957747154594767\n",
      "Area: 198.94367886486916\n",
      "Perimetro: 50.0\n"
     ]
    }
   ],
   "source": [
    "ejemplo_2 = Circulo(4)\n",
    "print(f\"Radio: {ejemplo_2._radio}\")\n",
    "print(f\"Area: {ejemplo_2.area}\")\n",
    "print(f\"Perimetro: {ejemplo_2.perimetro}\")\n",
    "\n",
    "print(\"\\nAjustando radio para que el área sea 124\")\n",
    "ejemplo_2.area = 124\n",
    "print(f\"Radio: {ejemplo_2._radio}\")\n",
    "print(f\"Area: {ejemplo_2.area}\")\n",
    "print(f\"Perimetro: {ejemplo_2.perimetro}\")\n",
    "\n",
    "print(\"\\nAjustando radio para que el perimetro sea 50\")\n",
    "ejemplo_2.perimetro = 50\n",
    "print(f\"Radio: {ejemplo_2._radio}\")\n",
    "print(f\"Area: {ejemplo_2.area}\")\n",
    "print(f\"Perimetro: {ejemplo_2.perimetro}\")"
   ]
  }
 ],
 "metadata": {
  "kernelspec": {
   "display_name": "Python 3 (ipykernel)",
   "language": "python",
   "name": "python3"
  },
  "language_info": {
   "codemirror_mode": {
    "name": "ipython",
    "version": 3
   },
   "file_extension": ".py",
   "mimetype": "text/x-python",
   "name": "python",
   "nbconvert_exporter": "python",
   "pygments_lexer": "ipython3",
   "version": "3.10.11"
  }
 },
 "nbformat": 4,
 "nbformat_minor": 4
}
