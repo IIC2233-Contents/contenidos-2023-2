{
 "cells": [
  {
   "cell_type": "markdown",
   "metadata": {
    "id": "iwFmF2sLRkJr"
   },
   "source": [
    "<p>\n",
    "<font size='5' face='Georgia, Arial'>IIC-2233 Apunte Programación Avanzada</font><br>\n",
    "<font size='1'> Material creado en 2023-2 por Equipo Docente IIC2233.</font>\n",
    "</p>"
   ]
  },
  {
   "cell_type": "markdown",
   "metadata": {
    "id": "ptYFt7BTRxHt"
   },
   "source": [
    "## Tabla de contenidos\n",
    "\n",
    "\n",
    "1. [Git](#Git)\n",
    "2. [Instalación](#Instalación)\n",
    "3. [Entendiendo Git](#Entendiendo-Git)\n",
    "4. [Comandos básicos](#Comandos-básicos)\n",
    "\n"
   ]
  },
  {
   "cell_type": "markdown",
   "metadata": {
    "id": "5HIBT105R7zy"
   },
   "source": [
    "## Git\n",
    "\n",
    "Git es un sistema distribuido de **control de versiones** ampliamente utilizado en el mundo del desarrollo de software. En esta ocación, lo necesitarás para poder descargar los contenidos y enunciados del curso, y para entregar todas tus evaluaciones a lo largo del curso. A continuación, podrás ver guías de cómo instalarlo, y presentaremos los comandos básicos que necesitarás para poder utilizar git correctamente a lo largo del curso."
   ]
  },
  {
   "cell_type": "markdown",
   "metadata": {},
   "source": [
    "## Instalación\n",
    "\n",
    "El proceso de instalación dependerá de tu sistema operativo. Antes de lanzarte a instalar git, puedes corroborar si es que ya lo tienes instalado con el siguiente comando en consola:\n",
    "```\n",
    "git --version\n",
    "```\n",
    "Si es que te muestra un número de versión, quiere decir que ya lo tienes instalado y no debes seguir los pasos de instalación. En caso de que no te reconozca el comando, quiere decir que debes instalar git, siguiendo las instrucciones de tu sistema operativo:\n",
    "\n",
    "### Windows \n",
    "\n",
    "Primero, debes abrir tu terminal con WSL, luego instalar git con:\n",
    "\n",
    "```\n",
    "sudo apt install git\n",
    "```\n",
    "\n",
    "### Linux\n",
    "\n",
    "Es probable que ya esté instalado, pero de no ser así lo puedes instalar con:\n",
    "\n",
    "* Distribuciones Debian-Like:\n",
    "```\n",
    "sudo apt install git\n",
    "```\n",
    "* Distribuciones Arch-Like:\n",
    "```\n",
    "sudo pacman -S git\n",
    "```\n",
    "\n",
    "### macOS\n",
    "\n",
    "Para usar git en macOS, es necesario tener las herramientas de desarrollo de línea de comando de Xcode (conocidas como _xcode command-line developer tools_ en inglés). Estas entregan un conjunto de herramientas para desarrollar en tu macOS. \n",
    "\n",
    "Para instalarlas, solo debes ejecutar \n",
    "```\n",
    "xcode-select --install\n",
    "```\n",
    "en tu consola. \n",
    "\n",
    "Si no tienes las herramientas instaladas, aparecerá un mensaje que te dará la opción de instalar las herramientas (_Install_) o de además instalar Xcode (_Get Xcode_). Para desarrollar, solo necesitas las herramientas, por lo que te recomendamos no instalar Xcode, pues es una aplicación muy grande y probablemente tome tiempo en descargarla. \n",
    "\n",
    "Por el contrario, si ya las tienes instaladas, el comando debería mostrar el mensaje `xcode-select: error: command line tools are already installed, use \"Software Update\" to install updates`.\n",
    "\n",
    "También necesitarás de Homebrew para instalar git. Puedes verificar si lo tienes mediante el siguiente comando\n",
    "```\n",
    "brew -v\n",
    "```\n",
    "Si no tienes Homebrew instalado, lo puedes hacer ejecutando el siguiente comando en el terminal\n",
    "```\n",
    "/bin/bash -c \"$(curl -fsSL https://raw.githubusercontent.com/Homebrew/install/HEAD/install.sh)\"\n",
    "```\n",
    "puedes encontrar más información sobre Homebrew [aquí](https://brew.sh). Ahora, ya estás con todo lo necesario para comenzar a utilizar git.\n",
    "\n",
    "Una vez que tengas las herramientas, puedes proceder a actualizar git. Este viene por default en macOs, pero si ejecutas \n",
    "```\n",
    "brew install git\n",
    "```\n",
    "en la consola, se actualizará a la última versión. También, puedes encontrar el instalador [aquí](https://git-scm.com/download/mac).\n"
   ]
  },
  {
   "cell_type": "markdown",
   "metadata": {},
   "source": [
    "## Entendiendo Git\n",
    "\n",
    "Si bien Git provee muchas herramientas, en el curso solo será necesario entender lo básico para poder desenvolverse de manera correcta en el curso. Para eso, necesitamos entender qué es un repositorio en git, y cómo se maneja.\n",
    "\n",
    "En términos prácticos, un repositorio es un almacenamiento virtual de un conjunto de archivo, y almacena no solo el estado final de los archivos que contiene, sino también almacena todas las versiones que se han ido almacenando en él. Al utilizar git, manejaremos 4 ubicaciones de los archivos: la carpeta del computador, la lista de cambios, el repositorio local y el repositorio remoto.\n"
   ]
  },
  {
   "attachments": {},
   "cell_type": "markdown",
   "metadata": {
    "id": "YmfR9bJfgOkI",
    "jp-MarkdownHeadingCollapsed": true,
    "tags": []
   },
   "source": [
    "## Comandos básicos\n",
    "\n",
    "Para utilizar git en el curso, solo necesitarás 5 comandos a lo largo de todo el semestre: `clone`, `pull`, `add`, `commit` y `push`. Todos los comandos de git puedes correrlos desde la consola, por lo que si tienes alguna duda por ese lado puedes volver a leer el material de como usar una terminal.\n",
    "\n",
    "### git clone\n",
    "Con este comando podrás clonar tu repositorio, el repositorio de los contenidos y el syllabus en tu computador. Para esto, puedes abrir una terminal en la carpeta en donde desees guardar los repositorios, y ejecutar los siguientes comandos:\n",
    "\n",
    "```\n",
    "git clone https://github.com/IIC2233/Syllabus.git\n",
    "git clone https://github.com/IIC2233/contenidos.git\n",
    "git clone https://github.com/IIC2233/<tu_usuario_git>-iic2233-2023-1.git\n",
    "```\n",
    "Si es que el clonado fue exitoso, entonces deberías ver en tu computador las 3 carpetas asociadas a cada uno de los repositorios.\n",
    "\n",
    "### git pull\n",
    "Como se mencionó anteriormente, está el repositorio remoto y el repositorio local. Si es que hay archivos o cambios que están en el repositorio remoto pero no están en el repositorio local de tu computador, para traerte los cambios debes hacer\n",
    "\n",
    "```\n",
    "git pull\n",
    "```\n",
    "Este comando lo necesitarás durante el curso para descargar los enunciados de las tareas, descargar los contenidos que se vayan subiendo y actualizar tu repositorio en caso de que utilices más de un computador para subir cambios.\n",
    "\n",
    "### git add\n",
    "Para entender el flujo de subida, vamos a ir ejemplificando con el siguiente escenario: Se tiene un archivo en el computador (archivo morado) llamado README.md, que uno quiere hacer que llegue al repositorio remoto. Para esto, tendremos que usar distintos comando de git para hacer que funcione. \n",
    "![image.png](attachment:image.png)\n",
    "En una primera instancia, debemos informarle a git que tenemos la intención de agregar el archivo a nuestro repositorio. Para esto, podemos hacer \n",
    "```\n",
    "git add README.md\n",
    "```\n",
    "El comando recibe el nombre (o el path) del archivo que queremos agregar al repositorio. Una vez hecho esto, nuestro archivo pasa a estar en la lista de cambios, pero aún no está en nuestro repositorio. En la lista de cambios podemos poner tantos archivos como queramos, por lo que podemos ir agregando varios de una misma vez, para luego agregarlos al repositorio todos juntos. Una vez hecho el `git add README.md`, el estado quedaría así:\n",
    "![image-2.png](attachment:image-2.png)\n",
    "Importante notar, que todavía no se ha añadido el archivo ni los cambios al repositorio, por lo que aún no se ha generado una versión de nuestros archivos dentro del repositorio.\n",
    "\n",
    "### git commit\n",
    "Como mencionamos anteriormente, git es un sistema de control de versiones. Para crear una versión de nuestros archivos, debemos usar la instrucción `commit`. Para crear una versión, podemos ejecutar el comando \n",
    "```\n",
    "git commit -m 'mensaje descriptivo explicando lo que estoy agregando al repositorio'\n",
    "```\n",
    "Una vez hecho esto, se crea una versión de nuestros archivos, y se agregan todos los cambios y archivos que estaban en la lista de cambios a una nueva versión dentro del repositorio. Estas versiones guardan una serie de datos (que muchas no son tan relevantes para el curso), pero queda un registro de la hora en la que se hizo el commit, y los cambios y archivos que se incluyeron con dicho commit. Habiendo hecho esta instrucción, nuestro estado ahora es el siguiente:\n",
    "![image-3.png](attachment:image-3.png)\n",
    "El archivo morado ya es parte del repositorio local, pero aún no está en el repositorio remoto.\n",
    "\n",
    "### git push\n",
    "La última instrucción que nos servirá para este curso, es el `push`. Lo que hace esto, es publicar y subir al repositorio remoto todas las versiones (o commits) que estén en el repositorio local que aún no hayan sido subidas al repositorio remoto. Para hacer esto, basta con ejecutar \n",
    "```\n",
    "git push\n",
    "```\n",
    "y se subirán los cambios al repositorio remoto, y el estado ahora es el siguiente:\n",
    "![image-4.png](attachment:image-4.png)\n"
   ]
  }
 ],
 "metadata": {
  "colab": {
   "collapsed_sections": [],
   "name": "5-terminal.ipynb",
   "provenance": []
  },
  "kernelspec": {
   "display_name": "Python 3 (ipykernel)",
   "language": "python",
   "name": "python3"
  },
  "language_info": {
   "codemirror_mode": {
    "name": "ipython",
    "version": 3
   },
   "file_extension": ".py",
   "mimetype": "text/x-python",
   "name": "python",
   "nbconvert_exporter": "python",
   "pygments_lexer": "ipython3",
   "version": "3.10.4"
  }
 },
 "nbformat": 4,
 "nbformat_minor": 4
}
