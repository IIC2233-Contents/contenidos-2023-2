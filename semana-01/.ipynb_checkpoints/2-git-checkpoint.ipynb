{
 "cells": [
  {
   "cell_type": "markdown",
   "metadata": {
    "id": "iwFmF2sLRkJr"
   },
   "source": [
    "<p>\n",
    "<font size='5' face='Georgia, Arial'>IIC-2233 Apunte Programación Avanzada</font><br>\n",
    "<font size='1'> Material creado en 2023-1 por Equipo Docente IIC2233.</font>\n",
    "</p>"
   ]
  },
  {
   "cell_type": "markdown",
   "metadata": {
    "id": "ptYFt7BTRxHt"
   },
   "source": [
    "## Tabla de contenidos\n",
    "\n",
    "\n",
    "1. [Git](#Git)\n",
    "2. [Comandos básicos](#Comandos básicos)\n",
    "\n"
   ]
  },
  {
   "cell_type": "markdown",
   "metadata": {
    "id": "5HIBT105R7zy"
   },
   "source": [
    "## Git\n",
    "\n",
    "Git es un p"
   ]
  },
  {
   "cell_type": "markdown",
   "metadata": {
    "id": "YmfR9bJfgOkI",
    "jp-MarkdownHeadingCollapsed": true,
    "tags": []
   },
   "source": [
    "## Comandos básicos\n",
    "\n",
    "* git clone\n",
    "* git pull\n",
    "* git add\n",
    "* git commit\n",
    "* git push\n",
    "\n",
    "## .gitignore"
   ]
  }
 ],
 "metadata": {
  "colab": {
   "collapsed_sections": [],
   "name": "5-terminal.ipynb",
   "provenance": []
  },
  "kernelspec": {
   "display_name": "Python 3 (ipykernel)",
   "language": "python",
   "name": "python3"
  },
  "language_info": {
   "codemirror_mode": {
    "name": "ipython",
    "version": 3
   },
   "file_extension": ".py",
   "mimetype": "text/x-python",
   "name": "python",
   "nbconvert_exporter": "python",
   "pygments_lexer": "ipython3",
   "version": "3.10.6"
  }
 },
 "nbformat": 4,
 "nbformat_minor": 4
}
