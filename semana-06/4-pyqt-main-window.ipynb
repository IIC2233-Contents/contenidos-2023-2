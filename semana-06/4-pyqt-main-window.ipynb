{
 "cells": [
  {
   "cell_type": "markdown",
   "metadata": {},
   "source": [
    "<p>\n",
    "<font size='5' face='Georgia, Arial'>IIC-2233 Apunte Programación Avanzada</font><br>\n",
    "<font size='1'>&copy; 2015 Karim Pichara - Christian Pieringer. Todos los derechos reservados. Editado por Equipo Docente IIC2233 2019 al 2023.</font>\n",
    "</p>"
   ]
  },
  {
   "cell_type": "markdown",
   "metadata": {},
   "source": [
    "# Tabla de contenidos\n",
    "\n",
    "1. [*Main Window*](#Main-Window)\n",
    "2. [Vista en macOs](#Vista-en-macOS)"
   ]
  },
  {
   "cell_type": "markdown",
   "metadata": {},
   "source": [
    "## *Main Window*\n",
    "\n",
    "Las ventanas creadas mediante `QWidget` que hemos usado hasta ahora, son ventanas simples donde pueden ser ubicados otros *widgets*. PyQt ofrece un tipo de ventana más completa denominada `MainWindow`. Esta ventana permite crear el esqueleto clásico de una aplicación como la mostrada en la figura a continuación, con barra de estado, barra de herramientas y barra de menú.\n",
    "\n",
    "![](img/pyqt-mainwindow-layout.png)\n",
    "\n",
    "La **barra de estado** permite mostrar información del estado de la aplicación en la medida que el usuario interactúa con ella. Para crearla usamos el método `statusBar()` perteneciente a la clase `QApplication`.\n",
    "\n",
    "La **barra de menú** es una de las partes típicas de una GUI. Esta barra corresponde a un grupo de comandos organizados y agrupados de manera lógica en menús.\n",
    "\n",
    "La **barra de herramientas** provee un acceso rápido a la mayoría de los comandos usados frecuentemente, la que puedes mover en la misma interfaz.\n",
    "\n",
    "Finalmente, el contenido central o ***central widget*** corresponde al cuerpo de la ventana. Este *widget* puede contener cualquiera de los *widgets* en `QtWidgets`, como también alguna de las ventanas creadas en los ejemplos anteriores. Para agregar cualquier *widget* o formulario al *widget* central se utiliza el método `setCentralWidget(widget)`. \n",
    "\n",
    "El siguiente ejemplo muestra cómo integrar los elementos descritos en la ventana principal. Este código se encuentra en el archivo `4-pyqt-main-window-ejemplo_1.py`."
   ]
  },
  {
   "cell_type": "markdown",
   "metadata": {},
   "source": [
    "```python\n",
    "\n",
    "import os\n",
    "import sys\n",
    "\n",
    "from PyQt6.QtCore import pyqtSignal\n",
    "from PyQt6.QtGui import QIcon, QAction\n",
    "from PyQt6.QtWidgets import QApplication, QMainWindow, QWidget\n",
    "from PyQt6.QtWidgets import QPushButton, QLabel, QLineEdit\n",
    "\n",
    "\n",
    "class MiVentana(QWidget):\n",
    "    def __init__(self, status_bar_signal):\n",
    "        super().__init__()\n",
    "        self.status_bar_signal = status_bar_signal\n",
    "        self.init_gui()\n",
    "\n",
    "    def init_gui(self):\n",
    "        \"\"\"\n",
    "        Este método inicializa el main widget y sus elementos.\n",
    "        \"\"\"\n",
    "        self.label_text = QLabel(\"Texto\", self)\n",
    "        self.print_label = QLabel(\"Print texto:\", self)\n",
    "        self.line_edit = QLineEdit(\"\", self)\n",
    "\n",
    "        self.boton = QPushButton(\"&Procesar\", self)\n",
    "        self.boton.resize(self.boton.sizeHint())\n",
    "        self.boton.clicked.connect(self.boton_callback)\n",
    "\n",
    "        self.label_text.move(20, 15)\n",
    "        self.line_edit.setGeometry(55, 15, 100, 20)\n",
    "        self.print_label.move(20, 50)\n",
    "        self.boton.move(20, 80)\n",
    "\n",
    "    def boton_callback(self):\n",
    "        \"\"\"\n",
    "        Este método es el encargado ejecutar una acción cada vez que el botón\n",
    "        es presionado. En esta caso, realiza el cambio en print_label y el status bar\n",
    "        mediate la emisión de una señal en la cual se envía el texto correspondiente.\n",
    "        \"\"\"\n",
    "        self.print_label.setText(f\"Print texto: {self.line_edit.text()}\")\n",
    "        self.print_label.resize(self.print_label.sizeHint())\n",
    "        self.status_bar_signal.emit(f\"QEdit: {self.line_edit.text()}\")\n",
    "\n",
    "\n",
    "class MainWindow(QMainWindow):\n",
    "    # Esta señal permite comunicar la barra de estados con el resto de los widgets\n",
    "    # en el formulario, incluidos el central widget.\n",
    "    onchange_status_bar = pyqtSignal(str)\n",
    "\n",
    "    def __init__(self):\n",
    "        super().__init__()\n",
    "\n",
    "        \"\"\"Configuramos la geometría de la ventana.\"\"\"\n",
    "        self.setWindowTitle(\"Ventana con Boton\")\n",
    "        self.setGeometry(200, 100, 300, 250)\n",
    "\n",
    "        \"\"\"Configuramos las acciones.\"\"\"\n",
    "        ver_status = QAction(QIcon(None), \"&Cambiar Status\", self)\n",
    "        ver_status.setStatusTip(\"Este es un ítem de prueba\")\n",
    "        ver_status.triggered.connect(self.cambiar_status_bar)\n",
    "\n",
    "        limpiar_status = QAction(QIcon(None), \"&Limpiar Status\", self)\n",
    "        limpiar_status.setStatusTip(\"Esta acción limpia la barra de estado\")\n",
    "        limpiar_status.triggered.connect(self.limpiar_status_bar)\n",
    "\n",
    "        buscar = QAction(QIcon(os.path.join(\"img\", \"search_icon.png\")), \"&Search\", self)\n",
    "        buscar.setStatusTip(\"Un ícono de búsqueda\")\n",
    "\n",
    "        salir = QAction(QIcon(None), \"&Exit\", self)\n",
    "        salir.setShortcut(\"Ctrl+Q\")\n",
    "        salir.setStatusTip(\"Salir de la aplicación\")\n",
    "        salir.triggered.connect(QApplication.quit)\n",
    "\n",
    "        \"\"\"Creamos la barra de menú.\"\"\"\n",
    "        menubar = self.menuBar()\n",
    "        archivo_menu = menubar.addMenu(\"Archivo\")  # primer menú\n",
    "        archivo_menu.addAction(ver_status)\n",
    "        archivo_menu.addAction(salir)\n",
    "\n",
    "        otro_menu = menubar.addMenu(\"Otro Menú\")  # segundo menú\n",
    "        otro_menu.addAction(limpiar_status)\n",
    "\n",
    "        \"\"\"Creamos la barra de herramientas.\"\"\"\n",
    "        toolbar = self.addToolBar(\"Toolbar\")\n",
    "        toolbar.addAction(buscar)\n",
    "        toolbar.addAction(salir)\n",
    "\n",
    "        \"\"\"Incluimos la barra de estado.\"\"\"\n",
    "        self.statusBar().showMessage(\"Listo\")\n",
    "        self.onchange_status_bar.connect(self.actualizar_status_bar)\n",
    "\n",
    "        \"\"\"\n",
    "        Configuramos el widget central con una instancia de la clase\n",
    "        MiVentana(). Además cargamos la señal en el central widget para\n",
    "        que este pueda interactuar con la barra de estados de la ventana\n",
    "        principal.\n",
    "        \"\"\"\n",
    "        self.form = MiVentana(self.onchange_status_bar)\n",
    "        self.setCentralWidget(self.form)\n",
    "\n",
    "    def cambiar_status_bar(self):\n",
    "        self.statusBar().showMessage(\"Cambié el Status\")\n",
    "\n",
    "    def limpiar_status_bar(self):\n",
    "        self.statusBar().showMessage(\"Status limpio.\")\n",
    "\n",
    "    def actualizar_status_bar(self, msg):\n",
    "        self.statusBar().showMessage(f\"Actualizado. {msg}\")\n",
    "\n",
    "```"
   ]
  },
  {
   "cell_type": "markdown",
   "metadata": {},
   "source": [
    "## Vista en macOS\n",
    "\n",
    "Cuando trabajamos con `QMainWindows` en macOS, la barra del menú no está junto a nuestra ventana, sino que está en una barra externa. Esta barra está en la parte superior de nuestra pantalla junto a al logo de Apple A continuación se muestra una imagen de la ventana creada en el ejemplo anterior y donde está la barra del menú.\n",
    "\n",
    "![](img/pyqt-mainwindow-mac.png?1)"
   ]
  }
 ],
 "metadata": {
  "kernelspec": {
   "display_name": "Python 3 (ipykernel)",
   "language": "python",
   "name": "python3"
  },
  "language_info": {
   "codemirror_mode": {
    "name": "ipython",
    "version": 3
   },
   "file_extension": ".py",
   "mimetype": "text/x-python",
   "name": "python",
   "nbconvert_exporter": "python",
   "pygments_lexer": "ipython3",
   "version": "3.10.10"
  },
  "varInspector": {
   "cols": {
    "lenName": 16,
    "lenType": 16,
    "lenVar": 40
   },
   "kernels_config": {
    "python": {
     "delete_cmd_postfix": "",
     "delete_cmd_prefix": "del ",
     "library": "var_list.py",
     "varRefreshCmd": "print(var_dic_list())"
    },
    "r": {
     "delete_cmd_postfix": ") ",
     "delete_cmd_prefix": "rm(",
     "library": "var_list.r",
     "varRefreshCmd": "cat(var_dic_list()) "
    }
   },
   "types_to_exclude": [
    "module",
    "function",
    "builtin_function_or_method",
    "instance",
    "_Feature"
   ],
   "window_display": false
  },
  "vscode": {
   "interpreter": {
    "hash": "a3a63619a7d9caf1f944c17a21d0e2ba5f9b4e8cf352ed74fca5bac06f551692"
   }
  }
 },
 "nbformat": 4,
 "nbformat_minor": 4
}
