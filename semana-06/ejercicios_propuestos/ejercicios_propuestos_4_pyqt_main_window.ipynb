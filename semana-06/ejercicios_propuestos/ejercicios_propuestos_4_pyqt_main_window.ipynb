{
 "cells": [
  {
   "cell_type": "markdown",
   "metadata": {},
   "source": [
    "<p>\n",
    "<font size='5' face='Georgia, Arial'>IIC-2233 Apunte Programación Avanzada</font><br>\n",
    "<font size='1'> Ejercicios creados a partir de 2019-2 por Equipo Docente IIC2233. </font>\n",
    "<font size='1'> Actualizados en 2023-2.</font>\n",
    "</p>\n",
    "\n",
    "\n",
    "# Ejercicios propuestos: Interfaces gráficas II\n",
    "## PyQT Main Windows"
   ]
  },
  {
   "cell_type": "markdown",
   "metadata": {},
   "source": [
    "Los siguientes problemas se proveen como oportunidad de ejercitar los conceptos revisados en el material de interfaces gráficas I. Si tienes dudas sobre algún problema o alguna solución, no dudes en dejar una *issue* en el [foro del curso](https://github.com/IIC2233/syllabus/issues)."
   ]
  },
  {
   "cell_type": "markdown",
   "metadata": {},
   "source": [
    "### Ejercicio 1: Mi abuela Luz"
   ]
  },
  {
   "cell_type": "markdown",
   "metadata": {},
   "source": [
    "Mi abuela Luz, con esto de la cuarentena, ha tenido mucho tiempo libre y como se aburre le ha surgido un particular interés por la tecnología. Específicamente, le llama la atención la aplicación \"Galería\" en su celular, donde puede ver todas sus fotos favoritas. Sin embargo, como ya esta viejita sus manos tiemblan y le cuesta cambiar y encontrar las fotos deslizando el dedo, según ella, se le pierden. Por esto, para mantenerla entretenida, ¡te pido ayuda para desarrollar una nueva galería a prueba de abuelos!\n",
    "\n",
    "Esta debe contar de un menú principal llamado **\"CARPETAS\"** el cual tenga como opciones las carpetas que hay en su galería, estas son: **\"Nietos\"**, **\"Amigas\"** y **\"Flores\"**. Cada vez que se hace *click* a una de estas opciones, se debe mostrar una foto de dicha carpeta, en la pantalla principal. Te proveemos fotos de prueba, en el directorio `FotosGaleria`, dentro de `img`.\n",
    "\n",
    "Ademas de la pantalla principal, debe tener un boton, **\"Cambiar foto\"**, que al ser apretado cambia la foto que se muestra de esa carpeta. Por otro lado, debe tener un menú de herramientas en donde esté la opción **\"Salir\"**.\n",
    "\n",
    "Finalmente, debe contar con una barra de estado que mostrará el porcentaje de batería (inicialmente *100%*), esta debe ir cambiando cada 2 segundos, si llega a cero el programa debe terminar."
   ]
  },
  {
   "cell_type": "markdown",
   "metadata": {},
   "source": [
    "![](img/GALERIA.png)"
   ]
  },
  {
   "cell_type": "markdown",
   "metadata": {},
   "source": [
    "### Ejercicio 2: Como manejar el tiempo a tu antojo"
   ]
  },
  {
   "cell_type": "markdown",
   "metadata": {},
   "source": [
    "Inspirado en las largas horas de estudio y en el grandísimo meme de Google \"Cómo dormir 8 horas en 15 minutos\" es que se te propone crear tu propio reloj usando *Main Window* de PyQt **y sin utilizar datetime**. En él podrás hacer que el tiempo pase literalmente volando y que efectivamente se pueda hacer realidad el meme.\n",
    "\n",
    "Para este ejercicio deberás implementar las distintas funciones que se piden a continuación:"
   ]
  },
  {
   "cell_type": "markdown",
   "metadata": {},
   "source": [
    "1. Primero, deberás mostrar la hora y cómo esta va cambiando a medida que pasa el tiempo, para lo cual deberás utilizar tus conocimientos de *Main Window*. El reloj ya viene implementado en el módulo `reloj.py` (en un archivo separado a este cuaderno) y las conexiones entre *front-end* y *back-end* también lo están, por lo que deberás crear la ventana donde se mostrará la hora y deberás crear una barra de menú que contenga las opciones: \"Ajustes\", \"Hora\" y \"Cronómetro\". Estás corresponderán a funciones que se piden más adelante. Cabe mencionar que la hora empezará a correr automáticamente cuando se inicie el programa y partirá desde cero. También, queda a decisión tuya crear una barra de estados o un *toolbar*. A continuación te mostraremos un ejemplo:\n",
    "\n",
    "![](img/hora.png)\n",
    "\n",
    "Puedes cambiar el formato de la hora como gustes. También puedes cambiar la tipografía y tamaño usando `QFont` de la librería `PyQt6.QtGui`."
   ]
  },
  {
   "cell_type": "markdown",
   "metadata": {},
   "source": [
    "2. Ahora deberás implementar el menú \"Cronómetro\" y su respectiva acción \"Acceder al cronómetro\" que, al seleccionarla, deberá mostrar un crónometro en pantalla. Este sería capaz de partir desde cero y al accionar un botón de inicio, este comenzaría a correr. Además, una vez que se inicia el cronómetro se deberán mostrar los botones de pausar y reiniciar, los que, al seleccionarlos, deberán pausar el tiempo y reiniciar el tiempo del cronómetro respectivamente. Ojo, la hora implementada en el paso 1 no se debe pausar ni reiniciar en ningún momento, es decir, a pesar de que se selecciones otras opciones de menús, como pasar al cronómetro, el tiempo debe seguir corriendo en la hora principal, aún cuando esta se deje de visualizar. A continuación te mostraremos un ejemplo de como debe quedar el cronómetro:\n",
    "\n",
    "![](img/tiempo_inicial.png)\n",
    "![](img/tiempo_iniciado.png)\n",
    "\n",
    "Al igual que en el ejercicio anterior, queda a tu disposición el formato en que se muestra la hora."
   ]
  },
  {
   "cell_type": "markdown",
   "metadata": {},
   "source": [
    "3. Una vez implementado el crónometro, queremos que sea posible poder volver a ver la hora luego de haber accedido al cronómetro. Para esto, deberás implementar la acción `Acceder a la hora` del menú `Hora`, la cual deberá mostrar nuevamente la hora que se logró visualizar en el paso 1. Es decir, se debe volver a mostrar algo como en la primera imagen. "
   ]
  },
  {
   "cell_type": "markdown",
   "metadata": {},
   "source": [
    "4. Finalmente, deberás implementar la acción `Cambiar hora` del menú `Ajustes`, la cual deberá dar la opción de cambiar la hora del reloj. Importante: mantener el formato pedido de la hora insertada al ejecutar esta acción. \n",
    "\n",
    "![](img/cambio_hora.jpg)"
   ]
  },
  {
   "cell_type": "markdown",
   "metadata": {},
   "source": [
    "En el archivo `reloj_frontend.py` se incluyó un código que puedes usar para implementar las funciones pedidas."
   ]
  }
 ],
 "metadata": {
  "kernelspec": {
   "display_name": "Python 3 (ipykernel)",
   "language": "python",
   "name": "python3"
  },
  "language_info": {
   "codemirror_mode": {
    "name": "ipython",
    "version": 3
   },
   "file_extension": ".py",
   "mimetype": "text/x-python",
   "name": "python",
   "nbconvert_exporter": "python",
   "pygments_lexer": "ipython3",
   "version": "3.10.10"
  }
 },
 "nbformat": 4,
 "nbformat_minor": 4
}
