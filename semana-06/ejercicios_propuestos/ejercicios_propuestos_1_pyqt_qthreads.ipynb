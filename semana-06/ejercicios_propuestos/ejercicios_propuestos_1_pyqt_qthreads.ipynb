{
 "cells": [
  {
   "cell_type": "markdown",
   "metadata": {},
   "source": [
    "<p>\n",
    "<font size='5' face='Georgia, Arial'>IIC-2233 Apunte Programación Avanzada</font><br>\n",
    "<font size='1'> Ejercicios creados a partir de 2019-2 por Equipo Docente IIC2233. </font>\n",
    "<font size='1'> Actualizados en 2023-2.</font>\n",
    "</p>\n",
    "\n",
    "\n",
    "# Ejercicios propuestos: Interfaces gráficas II\n",
    "## PyQT QThreads"
   ]
  },
  {
   "cell_type": "markdown",
   "metadata": {},
   "source": [
    "Los siguientes problemas se proveen como oportunidad de ejercitar los conceptos revisados en el material de interfaces gráficas I. Si tienes dudas sobre algún problema o alguna solución, no dudes en dejar una *issue* en el [foro del curso](https://github.com/IIC2233/syllabus/issues)."
   ]
  },
  {
   "cell_type": "markdown",
   "metadata": {},
   "source": [
    "### Ejercicio 1: Sigue el cuadrado 2"
   ]
  },
  {
   "cell_type": "markdown",
   "metadata": {},
   "source": [
    "Crea una ventana de tamaño 500 por 500, que contenga un rectangulo de color verde dentro. Su posición inicial debe ser aleatoria y deberá tener las dimensiones: 50 por 50. Para crear el rectángulo, utiliza `QPixmap` y un `QLabel` dentro de la ventana.\n",
    "\n",
    "Agrega el siguiente comportamiento: si el usuario hace *click* dentro de la región que abarca el rectangulo verde, entonces su posición se mueve a una nueva posición aleatoria de forma gradual, como una animación. Si hace *click* fuera de la región abarcada por el rectangulo, no hay efecto. Utiliza `QThread` y **señales** para lograrlo."
   ]
  },
  {
   "cell_type": "markdown",
   "metadata": {},
   "source": [
    "Se muestra un ejemplo a continuación:\n",
    "    \n",
    "![](img/prob-3-2.png)"
   ]
  }
 ],
 "metadata": {
  "kernelspec": {
   "display_name": "Python 3 (ipykernel)",
   "language": "python",
   "name": "python3"
  },
  "language_info": {
   "codemirror_mode": {
    "name": "ipython",
    "version": 3
   },
   "file_extension": ".py",
   "mimetype": "text/x-python",
   "name": "python",
   "nbconvert_exporter": "python",
   "pygments_lexer": "ipython3",
   "version": "3.10.10"
  }
 },
 "nbformat": 4,
 "nbformat_minor": 4
}
