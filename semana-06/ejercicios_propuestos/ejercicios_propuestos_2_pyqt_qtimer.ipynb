{
 "cells": [
  {
   "cell_type": "markdown",
   "metadata": {},
   "source": [
    "<p>\n",
    "<font size='5' face='Georgia, Arial'>IIC-2233 Apunte Programación Avanzada</font><br>\n",
    "<font size='1'> Ejercicios creados a partir de 2019-2 por Equipo Docente IIC2233. </font>\n",
    "<font size='1'> Actualizados en 2023-2.</font>\n",
    "</p>\n",
    "\n",
    "\n",
    "# Ejercicios propuestos: Interfaces gráficas II\n",
    "## PyQT QTimer"
   ]
  },
  {
   "cell_type": "markdown",
   "metadata": {},
   "source": [
    "Los siguientes problemas se proveen como oportunidad de ejercitar los conceptos revisados en el material de interfaces gráficas I. Si tienes dudas sobre algún problema o alguna solución, no dudes en dejar una *issue* en el [foro del curso](https://github.com/IIC2233/syllabus/issues)."
   ]
  },
  {
   "cell_type": "markdown",
   "metadata": {},
   "source": [
    "### Ejercicio 1: Cuadrados cambiantes"
   ]
  },
  {
   "cell_type": "markdown",
   "metadata": {},
   "source": [
    "Crea una ventana de 250 por 250 que contenga:\n",
    "- Dos cuadrados: de tamaño 50 por 50, en posiciones iniciales a tu elección.\n",
    "- Dos botones: uno con el texto \"Iniciar\", y el otro con el texto \"Detener\".\n",
    "\n",
    "Agrega el siguiente comportamiento: \n",
    "\n",
    "- Al hacer *click* sobre el botón \"Iniciar\", los cuadrados comienzan a cambiar gradualmente de tamaño. Uno comienza disminuyendo, mientras que el otro aumentando de tamaño. Si alguno alcanza el mínimo tamaño de 25 por 25, entonces comienza a aumentar, mientras que si alcanza el máximo tamaño de 75 por 75, comienza a disminuir de tamaño. \n",
    "- Al hacer *click* sobre el botón \"Detener\", se detiene el crecimiento/decrecimiento gradual de los cuadrados, pero al hacer clic sobre \"Iniciar\" nuevamente, debe resumir el movimiento como habian quedado al presionar \"Detener\".\n",
    "\n",
    "Utiliza `QTimer` y **señales** para lograrlo. Un ejemplo visual queda a continuación, donde la ventana comienza como la primera imagen, y luego evoluciona a mostrarse como en la segunda y tercera imagen:\n",
    "\n",
    "![](img/prob9-1.png)\n",
    "![](img/prob9-2.png)\n",
    "![](img/prob9-3.png)"
   ]
  }
 ],
 "metadata": {
  "kernelspec": {
   "display_name": "Python 3 (ipykernel)",
   "language": "python",
   "name": "python3"
  },
  "language_info": {
   "codemirror_mode": {
    "name": "ipython",
    "version": 3
   },
   "file_extension": ".py",
   "mimetype": "text/x-python",
   "name": "python",
   "nbconvert_exporter": "python",
   "pygments_lexer": "ipython3",
   "version": "3.10.10"
  }
 },
 "nbformat": 4,
 "nbformat_minor": 4
}
