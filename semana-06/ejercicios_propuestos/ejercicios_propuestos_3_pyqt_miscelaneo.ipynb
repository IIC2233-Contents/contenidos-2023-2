{
 "cells": [
  {
   "cell_type": "markdown",
   "metadata": {},
   "source": [
    "<p>\n",
    "<font size='5' face='Georgia, Arial'>IIC-2233 Apunte Programación Avanzada</font><br>\n",
    "<font size='1'> Ejercicios creados a partir de 2023-2 por Equipo Docente IIC2233. </font>\n",
    "</p>\n",
    "\n",
    "\n",
    "# Ejercicios propuestos: Interfaces gráficas II\n",
    "## PyQT Misceláneo"
   ]
  },
  {
   "cell_type": "markdown",
   "metadata": {},
   "source": [
    "Los siguientes problemas se proveen como oportunidad de ejercitar los conceptos revisados en el material de interfaces gráficas I. Si tienes dudas sobre algún problema o alguna solución, no dudes en dejar una *issue* en el [foro del curso](https://github.com/IIC2233/syllabus/issues)."
   ]
  },
  {
   "cell_type": "markdown",
   "metadata": {},
   "source": [
    "### Ejercicio 1: Pausa\n",
    "\n",
    "Modifica el ejemplo aplicado de los contenidos e implementa la opción de pausar el movimiento de los cuadrados. Para esto, deberás implementar el método `keyPressEvent` y cada vez que se presiona la tecla `P` gatillar este evento.\n",
    "* Si el juego está andando, presionar `P` deberá detener el movimiento de todos.\n",
    "* Si el juego ya está pausado, presionar `P` deberá reanudar su movimiento.\n",
    "\n",
    "Para este requisito, si la tecla `P` se mantiene presionada, solo se debe contar como que fue presionada 1 vez. No múltiples veces.\n",
    "\n",
    "Intenta realizar este ejercicio tanto con `QTimer` como con `QThread`."
   ]
  },
  {
   "cell_type": "markdown",
   "metadata": {},
   "source": [
    "### Ejercicio 2: Soy Veloz\n",
    "\n",
    "Modifica el aplicado de los contenidos, cada cuadrado tenía una velocidad establecida, ahora queremos agregar una forma de aumentar dicha velocidad. Para esto, deberás implementar el método `keyPressEvent` para que cada vez que se oprima una tecla (queda a tu criterio) aumente la velocidad. No hay límite para este aumento. Para lograr este efecto, se recomiendo una de las 2 siguientes alternativas:\n",
    "1. Aumentar la cantidad de pixeles que se mueve por en cada ejecución del _thread_.\n",
    "2. Disminuir el tiempo entre cada ejecución del _thread_. \n",
    "\n",
    "Para este requisito, si la tecla se mantiene presionada, debe contar únicamente que se activó una vez el aumento de velocidad.\n",
    "\n",
    "Intenta realizar este ejercicio tanto con `QTimer` como con `QThread`."
   ]
  },
  {
   "cell_type": "markdown",
   "metadata": {},
   "source": [
    "### Ejercicio 3: Siente el choque\n",
    "\n",
    "Tome el ejemplo aplicado subido en los contenidos y agregue un sonido cada vez que un `Cuadrado` llega a un borde. Para esto, los pasos sugeridos son:\n",
    "1. Definir una señal en `Juego` que permita comunicar, desde el _back-end_ que hubo un cambio de dirección.\n",
    "2. Conectar esa señal en `main.py` con una función encargada de reproducir el sonido.\n",
    "3. Entregar dicha señal a cada `Cuadrado`\n",
    "4. Cada `Cuadrado` debe emitir dicha señal cuando corresponda.\n",
    "5. Definir el reproductor de sonido que estimes conveniente para reproducir.\n",
    "\n",
    "**Importante** el reproductor sólo puede reproducir 1 sonido a la vez, pero aquí tenemos varios cuadrados que pueden chocar casi simultáneamente. Por lo tanto, deberás ver cómo enfrentar esta situación.\n",
    "\n",
    "Se provee de `bonk.mp3` y `bonk.wav` en el directorio `sounds` para que puedas ocupar en este ejercicio.\n",
    "\n",
    "Para este ejercicio, puedes usar cualquiera de los 2 _back-end_ (`QTimer` o `QThread`)."
   ]
  }
 ],
 "metadata": {
  "kernelspec": {
   "display_name": "Python 3 (ipykernel)",
   "language": "python",
   "name": "python3"
  },
  "language_info": {
   "codemirror_mode": {
    "name": "ipython",
    "version": 3
   },
   "file_extension": ".py",
   "mimetype": "text/x-python",
   "name": "python",
   "nbconvert_exporter": "python",
   "pygments_lexer": "ipython3",
   "version": "3.10.10"
  }
 },
 "nbformat": 4,
 "nbformat_minor": 4
}
