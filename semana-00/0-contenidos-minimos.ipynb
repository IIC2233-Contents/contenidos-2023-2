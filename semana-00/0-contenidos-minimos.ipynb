{
 "cells": [
  {
   "cell_type": "markdown",
   "metadata": {},
   "source": [
    "<p>\n",
    "<font size='5' face='Georgia, Arial'>IIC-2233 Apunte Programación Avanzada</font><br>\n",
    "<font size='1'> Material creado en 2023-2 por Equipo Docente IIC2233.</font>\n",
    "</p>"
   ]
  },
  {
   "cell_type": "markdown",
   "metadata": {},
   "source": [
    "# Tabla de contenidos\n",
    "\n",
    "1. [Contenidos mínimos IIC1103](#contenidos-mínimos-iic1103)\n",
    "2. [Tipos de datos](#tipos-de-datos)\n",
    "3. [Funciones](#funciones)\n",
    "4. [Archivos](#archivos)\n",
    "5. [Objetos](#objetos)"
   ]
  },
  {
   "cell_type": "markdown",
   "metadata": {},
   "source": [
    "## Contenidos mínimos IIC1103\n",
    "\n",
    "Luego de haber aprobado el curso de Introducción a la Programación, se espera tener conocimiento sobre los siguientes tópicos:\n",
    "\n",
    "1. Resolución de problemas con algoritmos.\n",
    "2. Tipos de datos, variables, operadores y expresiones.\n",
    "3. Control de flujo condicional.\n",
    "4. Control de flujo cíclico.\n",
    "5. Funciones importadas, propias y recursivas.\n",
    "6. Manejo de strings.\n",
    "7. Listas simples y listas de listas.\n",
    "8. Abrir y crear archivos.\n",
    "9. Programación orientada a objetos. \n",
    "10. Ordenamiento.\n",
    "\n",
    "Aquí te dejaremos un resumen de los contenidos mínimos mas importantes a saber en el lenguaje Python."
   ]
  },
  {
   "cell_type": "code",
   "execution_count": 1,
   "metadata": {},
   "outputs": [
    {
     "name": "stdout",
     "output_type": "stream",
     "text": [
      "False\n",
      "True\n"
     ]
    }
   ],
   "source": [
    "## Tipos de datos\n",
    "### *Integer y float*\n",
    "#Representan números enteros `int` y números decimales `float`, y nos permiten trabajar con operadores aritméticos.\n",
    "\n",
    "#Ejemplo: \n",
    "\n",
    "x = 10\n",
    "y  = 20\n",
    "z = x + y # 30\n",
    "\n",
    "\n",
    "### *String*\n",
    "#Es un objeto que representa cadenas de caracteres y nos permite trabajar con texto.\n",
    "\n",
    "#Ejemplo: \n",
    "\n",
    "s = 'Bienvenidos a IIC2233'\n",
    "\n",
    "\n",
    "### *Boolean*\n",
    "#Representan el valor de verdad de una expresión. Por ejemplo, la expresión resultante de una operación de comparación 1 >= 0 es Verdadera o `True`, mientras que la expresión 10 == 5 es Falsa o `False`.\n",
    "\n",
    "#Ejemplo: \n",
    "\n",
    "a = True\n",
    "b = 3 > 4\n",
    "print(a == b) # False\n",
    "\n",
    "\n",
    "### Listas\n",
    "#Colección finita de elementos ordenados, los cuales usualmente son otros tipos de datos como los vistos anteriormente. Las listas son mutables y su contenido puede ser accedido utilizando el índice correspondiente al orden en que se encuentra en la lista.\n",
    "\n",
    "\n",
    "#Ejemplo: \n",
    "\n",
    "lista = [10, 'variable', True, 5.5]\n",
    "print(lista[2]) # 10\n"
   ]
  },
  {
   "cell_type": "code",
   "execution_count": 17,
   "metadata": {},
   "outputs": [
    {
     "name": "stdout",
     "output_type": "stream",
     "text": [
      "30\n",
      "Bienvenidos a IIC2233\n",
      "30 Bienvenidos a IIC2233\n",
      "Eh, esto ha funcionado. Como si fuera robarle un dulce a un niño\n"
     ]
    }
   ],
   "source": [
    "print(z)\n",
    "print(s)\n",
    "print(str(z) + \" \" + s + \"\\nEh, esto ha funcionado. Como si fuera robarle un dulce a un niño.\")\n",
    "\n"
   ]
  },
  {
   "cell_type": "markdown",
   "metadata": {},
   "source": [
    "## Funciones\n",
    "\n",
    "Las funciones permiten encapsular código que resuelve una tarea específica. Existen funciones que vienen con python y se denominan *built-in functions*. Pueden ver en la [documentación oficial](https://docs.python.org/3.5/library/functions.html) una lista con todas ellas. Además de las funciones que están siempre presentes, podemos incorporar nuevas funcionalidades mediante la importación de **módulos**. Los módulos proveen diversas funciones agrupadas.\n",
    "\n",
    "#### Importar modulo completo\n",
    "\n",
    "```python\n",
    "import modulo\n",
    "\n",
    "modulo.funcion_1(parametro_1, parametro_2, ..., parametro_n)\n",
    "\n",
    "modulo.funcion_2(parametro_1, parametro_2, ..., parametro_n)\n",
    "```\n",
    "\n",
    "\n",
    "#### Importar función(es) específica(s)\n",
    "\n",
    "```python\n",
    "from modulo import funcion_1, funcion_2, ..., funcion_n\n",
    "\n",
    "funcion_1(parametro_1, parametros_2, ..., parametro_n)\n",
    "```\n",
    "\n",
    "#### Aliasing\n",
    "\n",
    "Es posible darle el nombre que nosotros queramos al módulo o a sus funciones. Esto se denomina *aliasing*.\n",
    "\n",
    "```python\n",
    "import modulo as alias\n",
    "\n",
    "alias.funcion_1(parametro_1, parametro_2, ..., parametro_n)\n",
    "```python"
   ]
  },
  {
   "cell_type": "markdown",
   "metadata": {},
   "source": [
    "#### Funciones definidas por el programador\n",
    "Aparte de las *built-in functions* y las funciones importadas desde módulos, podemos definir nuestras propias funciones para utilizarlas en nuestros programas. Para crear una nueva función utilizamos la _keyword_ `def`, entregamos parámetros y podemos opcionalmente utilizar la _keyword_ `return` para retornar un valor.\n",
    "\n",
    "```\n",
    "def nombre_funcion(parametro_1, parametro_2, ..., parametro_n):\n",
    "    bloque_de_codigo_de_la_funcion\n",
    "    ...\n",
    "    bloque_de_codigo_de_la_funcion\n",
    "    return valor_de_retorno\n",
    "```"
   ]
  },
  {
   "cell_type": "code",
   "execution_count": 26,
   "metadata": {},
   "outputs": [],
   "source": [
    "def sumar(n1, n2):\n",
    "    suma = n1 + n2\n",
    "    while suma <=30:\n",
    "        suma = 2*suma\n",
    "    return suma+ suma+suma, suma, 2*suma\n"
   ]
  },
  {
   "cell_type": "markdown",
   "metadata": {},
   "source": [
    "Para utilizar la función debemos llamarla, y de retornar un valor debemos almacenar este en una variable.\n",
    "```python\n",
    "salida = nombre_funcion(entrada_1, entrada_2, ..., entrada_n)\n",
    "```\n",
    "Las funciones pueden recibir 0 o más parámetros y retornar 0 o más valores. Lo habitual es retornar 1 valor. Cuando se alcanza el primer `return`, la función termina."
   ]
  },
  {
   "cell_type": "code",
   "execution_count": 43,
   "metadata": {},
   "outputs": [
    {
     "name": "stdout",
     "output_type": "stream",
     "text": [
      "(180, 60, 120)\n"
     ]
    }
   ],
   "source": [
    "s = sumar(10,20)\n",
    "print(s)"
   ]
  },
  {
   "cell_type": "markdown",
   "metadata": {},
   "source": [
    "## Archivos\n",
    "\n",
    "Un archivo es un documento binario con un nombre y una extensión, por ejemplo `tarea1.py`. Debemos partir abriendo y cerrando el archivo.\n",
    "* `open(path, modo)`: Retorna un objeto que representa al archivo en `path`. El parámetro `modo` indica lo que podemos hacer con el archivo.\n",
    "    - `modo='r'`: lectura (por defecto)\n",
    "    - `modo='w'`: escritura\n",
    "    - `modo='a'`: *append*\n",
    "* `file.close()`: Cierra el archivo.\n",
    "\n",
    "La diferencia entre los modos escritura y *append*, es que:\n",
    "* En el modo escritura, se crea un nuevo archivo en `path`. Si el archivo ya existe, borra su contenido. \n",
    "* En el modo *append*, si el archivo ya existe, el contenido nuevo se agrega a continuación del ya existente.\n",
    "\n",
    "Para leer archivos, Python provee de distintas funciones y métodos. Para las siguientes instrucciones, se asume que se guardó lo retornado por `open(path, modo)` en una variable de nombre `file`.\n",
    "\n",
    "* `file.readline()`: Retorna la siguiente línea del archivo.\n",
    "* `file.readlines()`: Retorna en una variable del tipo lista todo el contenido del archivo.\n",
    "\n",
    "Para crear archivos, usaremos:\n",
    "\n",
    "* `file.write(s)`: Escribe el string `s` en el archivo (**no** agrega el caracter de fin de liínea `'\\n'`). \n",
    "* `print(s, file=file)`: Escribe el string `s` en el archivo (**si** agrega el caracter de fin de línea `'\\n'`)."
   ]
  },
  {
   "cell_type": "markdown",
   "metadata": {},
   "source": [
    "## Objetos\n",
    "\n",
    "La Programación Orientada a Objetos es un paradigma de programación que consiste en modelar un problema preocupándose de los **objetos** que en él participan: sus atributos, comportamiento e interacción. En el área de desarrollo de software, un **objeto** es una colección de **datos** que además tiene **comportamientos**\n",
    "asociados. Por una parte, los datos **describen** a los objetos, mientras que los comportamientos **representan acciones** que ocurren en ellos. \n",
    "\n",
    "La **Programación orientada a objetos** u **OOP** (*Object-oriented Programming*) es un *paradigma de programación* (una manera de programar) en el cual los programas modelan las funcionalidades a través de la interacción entre **objetos** por medio de sus datos y sus comportamientos. \n",
    "\n",
    "En OOP los objetos son descritos de manera general mediante **clases**. Una clase describe los datos que caracterizan a un objeto; a estos datos los llamamos **atributos**. Una clase también describe los comportamientos de los objetos, y a estos comportamientos los llamamos **métodos**. Cada vez que creamos un objeto a partir de una clase, decimos que estamos _instanciando_ esa clase, por lo tanto **un objeto es una instancia de una clase**."
   ]
  },
  {
   "cell_type": "code",
   "execution_count": 41,
   "metadata": {},
   "outputs": [],
   "source": [
    "class Persona:\n",
    "    def __init__(camello, nombre, apellido):\n",
    "        camello.nombre = nombre\n",
    "        camello.apellido = apellido\n",
    "        camello.edad = 25\n",
    "    def __str__(camello):\n",
    "        return f\"Mi nombre es {camello.nombre} {camello.apellido}\"\n",
    "\n",
    "    def saludar(camello, otra_persona):\n",
    "        print(f'Hola {otra_persona.nombre},\\nsoy {camello.nombre} y te saludo.')"
   ]
  },
  {
   "cell_type": "code",
   "execution_count": 42,
   "metadata": {},
   "outputs": [
    {
     "name": "stdout",
     "output_type": "stream",
     "text": [
      "Mi nombre es Renato Leal\n",
      "Hola Renato,\n",
      "soy 432 y te saludo.\n"
     ]
    }
   ],
   "source": [
    "Francesca = 432\n",
    "Aguirre = 3\n",
    "p1 = Persona(Francesca, Aguirre)\n",
    "p2 = Persona(\"Renato\", \"Leal\")\n",
    "print(p2)\n",
    "p1.saludar(p2)"
   ]
  },
  {
   "cell_type": "markdown",
   "metadata": {},
   "source": [
    "Para definir una clase en Python, usamos la _keyword_ `class`. Dentro de la definición de la clase, definimos todos los atributos dentro de un método especial: el método  `__init__()`. Este método se llama durante la **inicialización** de la clase, cada vez que ejecutamos:\n",
    "\n",
    "```\n",
    "p1 = Persona(\"Francesca\", \"Aguirre\")\n",
    "p2 = Persona(\"Renato\", \"Leal\")\n",
    "```\n",
    "de esta manera todos los objetos que vayamos crear de la clase `Persona` poseerán estos atributos inicializados.\n",
    "\n",
    "Podemos crear **métodos de la instancia**, ***los cuales reciben como primer argumento el nombre.*** `self`**, el cual es una referencia a la instanca de la clase sobre la que están actuando. \n",
    "\n",
    "```\n",
    "p1.saludar(p2)\n",
    "```\n",
    "                estamos invocando al método `saludar`, donde `self` es una referencia al instancia `p1` sobre la cual se accede a su atributo `nombre` y al atributo `nombre` de otra instancia de la misma clase. El nombre `self` no es un **keyword [, por lo que puede ser cualquier nombre. Sin embargo, en la práctica usar `self` se ha convertido en una convención\n",
    "    "
   ]
  },
  {
   "cell_type": "markdown",
   "metadata": {},
   "source": [
    "-----\n",
    "Si no te acuerdas de alguno de estos contenidos, te recomendamos preguntar en las [issues](https://github.com/IIC2233/Syllabus/issues) del GitHub del curso."
   ]
  }
 ],
 "metadata": {
  "kernelspec": {
   "display_name": "Python 3 (ipykernel)",
   "language": "python",
   "name": "python3"
  },
  "language_info": {
   "codemirror_mode": {
    "name": "ipython",
    "version": 3
   },
   "file_extension": ".py",
   "mimetype": "text/x-python",
   "name": "python",
   "nbconvert_exporter": "python",
   "pygments_lexer": "ipython3",
   "version": "3.10.4"
  },
  "varInspector": {
   "cols": {
    "lenName": 16,
    "lenType": 16,
    "lenVar": 40
   },
   "kernels_config": {
    "python": {
     "delete_cmd_postfix": "",
     "delete_cmd_prefix": "del ",
     "library": "var_list.py",
     "varRefreshCmd": "print(var_dic_list())"
    },
    "r": {
     "delete_cmd_postfix": ") ",
     "delete_cmd_prefix": "rm(",
     "library": "var_list.r",
     "varRefreshCmd": "cat(var_dic_list()) "
    }
   },
   "types_to_exclude": [
    "module",
    "function",
    "builtin_function_or_method",
    "instance",
    "_Feature"
   ],
   "window_display": false
  }
 },
 "nbformat": 4,
 "nbformat_minor": 4
}
