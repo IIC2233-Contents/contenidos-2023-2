{
 "cells": [
  {
   "cell_type": "markdown",
   "metadata": {},
   "source": [
    "<p>\n",
    "<font size='5' face='Georgia, Arial'>IIC-2233 Apunte Programación Avanzada</font><br>\n",
    "<font size='1'> Ejercicios creados a partir de 2019-2 por Equipo Docente IIC2233. </font>\n",
    "<font size='1'> Actualizados en 2023-2.</font>\n",
    "</p>\n",
    "\n",
    "\n",
    "# Ejercicios propuestos: Interfaces gráficas I\n",
    "## Diseño *front-end - back-end*"
   ]
  },
  {
   "cell_type": "markdown",
   "metadata": {},
   "source": [
    "Los siguientes problemas se proveen como oportunidad de ejercitar los conceptos revisados en el material de interfaces gráficas I. Si tienes dudas sobre algún problema o alguna solución, no dudes en dejar una *issue* en el [foro del curso](https://github.com/IIC2233/syllabus/issues)."
   ]
  },
  {
   "cell_type": "markdown",
   "metadata": {},
   "source": [
    "### Ejercicio 1: Ventana para calculadora"
   ]
  },
  {
   "cell_type": "markdown",
   "metadata": {},
   "source": [
    "A partir del siguiente código entregado, debes utilizarlo como el *back-end* de un programa, y debes crear su *front-end*. Este *back-end* modela una calculadora, capaz de operar dos valores según suma, resta, multiplicación y división, además de revisar el *input* previamente.\n",
    "\n",
    "Este *back-end* incluye una señal llamada `senal_mostrar_resultado` que se emitirá despues de procesar cualquier *input* que le llegue al método `validar_input`."
   ]
  },
  {
   "cell_type": "markdown",
   "metadata": {},
   "source": [
    "```python\n",
    "# calculadora.py\n",
    "from PyQt5.QtCore import pyqtSignal, QObject\n",
    "\n",
    "\n",
    "class Calculadora(QObject):\n",
    "\n",
    "    senal_mostrar_resultado = pyqtSignal(str)\n",
    "\n",
    "    def suma(self, valor1, valor2):\n",
    "        string_resultado = str(int(valor1) + int(valor2))\n",
    "        self.senal_mostrar_resultado.emit(string_resultado)\n",
    "\n",
    "    def resta(self, valor1, valor2):\n",
    "        string_resultado = str(int(valor1) - int(valor2))\n",
    "        self.senal_mostrar_resultado.emit(string_resultado)\n",
    "\n",
    "    def cuociente(self, valor1, valor2):\n",
    "        string_resultado = str(float(valor1) / float(valor2))\n",
    "        self.senal_mostrar_resultado.emit(string_resultado)\n",
    "\n",
    "    def multiplicacion(self, valor1, valor2):\n",
    "        string_resultado = str(int(valor1) * int(valor2))\n",
    "        self.senal_mostrar_resultado.emit(string_resultado)\n",
    "\n",
    "    def validar_input(self, accion):\n",
    "        # método que recibe como señal un diccionario de la forma\n",
    "        # accion = {'operación': operacion, 'valor1': valor1, 'valor2: valor2'}\n",
    "        if accion['valor1'].isnumeric() and accion['valor2'].isnumeric():\n",
    "            if accion['operacion'] == \"sumar\":\n",
    "                self.suma(accion['valor1'], accion['valor2'])\n",
    "            elif accion['operacion'] == \"restar\":\n",
    "                self.resta(accion['valor1'], accion['valor2'])\n",
    "            elif accion['operacion'] == \"multiplicar\":\n",
    "                self.multiplicacion(accion['valor1'], accion['valor2'])\n",
    "            elif accion['operacion'] == \"dividir\":\n",
    "                if accion['valor2'] == 0:\n",
    "                    self.senal_mostrar_resultado.emit('Error: No dividir por cero')\n",
    "                else:\n",
    "                    self.cuociente(accion['valor1'], accion['valor2'])\n",
    "        else:\n",
    "            self.senal_mostrar_resultado.emit('Error: Input inválido')\n",
    "```"
   ]
  },
  {
   "cell_type": "markdown",
   "metadata": {},
   "source": [
    "El código de *back-end* se espera lo coloques en un módulo `calculadora.py`, mientras que el *front-end* y código principal utilicen dicho módulo. \n",
    "\n",
    "Para el *front-end* y código principal se te provee una base a continuación. Completa la clase `Ventana` para crear una ventana capaz de recibir dos valores, con botones para realizar las operaciones sumar, restar, multiplicar y dividir, y capaz de mostrar el resultado de operación. Si algún valor ingresado no es un número, muestra el mensaje: `'Error: Input inválido'`.\n",
    "Recuerda conectar tu *front-end* y *back-end* a través de señales en el código principal (`if __name__ == '__main__'`)."
   ]
  },
  {
   "cell_type": "markdown",
   "metadata": {},
   "source": [
    "```python\n",
    "# ventana_ejercicio_1.py\n",
    "import sys\n",
    "from PyQt6.QtCore import pyqtSignal, QObject\n",
    "from PyQt6.QtWidgets import (QApplication, QWidget, QLabel, QPushButton, QLineEdit)\n",
    "from calculadora import Calculadora\n",
    "\n",
    "\n",
    "class Ventana(QWidget):\n",
    "    senal_calcular = pyqtSignal(dict)\n",
    "    def __init__(self):\n",
    "        super().__init__()\n",
    "        # completar\n",
    "\n",
    "\n",
    "if __name__ == '__main__':\n",
    "    def hook(type, value, traceback):\n",
    "        print(type)\n",
    "        print(traceback)\n",
    "\n",
    "    sys.__excepthook__ = hook\n",
    "    \n",
    "    app = QApplication([])\n",
    "    calculadora = Calculadora()\n",
    "    ventana = Ventana()\n",
    "\n",
    "    # conectar señales a continuación\n",
    "    # Recuerda conectar cada señal con el método de la clase que corresponda\n",
    "\n",
    "    \n",
    "    sys.exit(app.exec())\n",
    "```"
   ]
  },
  {
   "cell_type": "markdown",
   "metadata": {},
   "source": [
    "A modo de ejemplo, puedes seguir la siguiente idea para la ventana:\n",
    "\n",
    "![](img/prob-4-1.png)"
   ]
  },
  {
   "cell_type": "markdown",
   "metadata": {},
   "source": [
    "### Ejercicio 2: Separa el programa"
   ]
  },
  {
   "cell_type": "markdown",
   "metadata": {},
   "source": [
    "En este ejercicio, te entregamos un programa listo e implementado, pero lamentablemente, su desarrollador no siguió la idea de separación entre *back-end* y *front-end*. Debes tomar el programa y modificarlo de tal forma de generar una separación entre lógica de programa (*back-end*) y lógica de interfaz gráfica (*front-end*).\n",
    "\n",
    "El programa muestra en pantalla una imagen de una pitón, que comienza al centro de una grilla invisible de tamaño 3 por 3. Al usar las teclas `WASD`, se puede mover la pitón a través de la grilla según la dirección de la tecla. El programa se encarga de cargar las imágenes en pantalla, conectar la interacción de teclas, realizar el movimiento de la pitón, y actualizar la grilla luego de cambiar de posición. Crea un módulo separado a la ventana, que representará al *back-end*, de tal forma que este se encargue de la posición interna de la pitón, y de actualizar dicha posición cuando recibe una dirección de movimiento. En el código de la ventana solo puede quedar código relacionado al cargado y actualización de celdas, interacción mediante teclas, además de las conexiones con el *back-end*. Utiliza señales para conectar el nuevo módulo de *back-end* con la clase `Ventana` del *front-end*.\n",
    "\n",
    "***Idea:* La interacción mediante señales puede ser de la siguiente forma: una señal se dedica a enviar desde el *front-end* al *back-end* la dirección de movimiento después de apretar una tecla, y otra señal va en sentido contrario enviando la posición antigua y nueva de la pitón, para que se actualice en la ventana.**\n",
    "\n",
    "Hay muchas soluciones distintas para esto. Intenta realizar una al menos, y luego puedes cuestionarte como mejorarlo."
   ]
  },
  {
   "cell_type": "markdown",
   "metadata": {},
   "source": [
    "```python\n",
    "import sys\n",
    "from os import path\n",
    "from PyQt6.QtCore import pyqtSignal, QObject, Qt\n",
    "from PyQt6.QtWidgets import (QApplication, QWidget, QLabel)\n",
    "from PyQt6.QtGui import QPixmap\n",
    "\n",
    "\n",
    "class Ventana(QWidget):\n",
    "    def __init__(self):\n",
    "        super().__init__()\n",
    "        self.posicion = (1, 1)\n",
    "        self.ruta_imagen = path.join('img', 'python_icon.png')\n",
    "        self.inicializa_gui()\n",
    "\n",
    "    def inicializa_gui(self):\n",
    "        self.setGeometry(300, 300, 300, 300)\n",
    "        self.etiquetas = {}\n",
    "        for fila in range(3):\n",
    "            for columna in range(3):\n",
    "                nueva_etiqueta = QLabel(self)\n",
    "                nueva_etiqueta.setGeometry(fila * 100, columna * 100, 100, 100)\n",
    "                if (fila, columna) == self.posicion:\n",
    "                    pixmap = QPixmap(self.ruta_imagen)\n",
    "                else:\n",
    "                    pixmap = QPixmap(100, 100)\n",
    "                    pixmap.fill(Qt.white)\n",
    "                nueva_etiqueta.setPixmap(pixmap)\n",
    "                nueva_etiqueta.setScaledContents(True)\n",
    "                self.etiquetas[(fila, columna)] = nueva_etiqueta\n",
    "\n",
    "    def mover_python(self, direccion):\n",
    "        ex_posicion = self.posicion\n",
    "        if direccion == 'arriba':\n",
    "            self.posicion = (ex_posicion[0], (ex_posicion[1] - 1) % 3)\n",
    "        elif direccion == 'abajo':\n",
    "            self.posicion = (ex_posicion[0], (ex_posicion[1] + 1) % 3)\n",
    "        elif direccion == 'izquierda':\n",
    "            self.posicion = ((ex_posicion[0] - 1) % 3, ex_posicion[1])\n",
    "        elif direccion == 'derecha':\n",
    "            self.posicion = ((ex_posicion[0] + 1) % 3, ex_posicion[1])\n",
    "        if ex_posicion != self.posicion:\n",
    "            pixmap = QPixmap(100, 100)\n",
    "            pixmap.fill(Qt.white)\n",
    "            self.etiquetas[ex_posicion].setPixmap(pixmap)\n",
    "            pixmap = QPixmap(self.ruta_imagen)\n",
    "            self.etiquetas[self.posicion].setPixmap(pixmap)\n",
    "\n",
    "    def keyPressEvent(self, event):\n",
    "        if event.key() == 65:  # A\n",
    "            self.mover_python('izquierda')\n",
    "        elif event.key() == 87:  # W\n",
    "            self.mover_python('arriba')\n",
    "        elif event.key() == 83:  # S\n",
    "            self.mover_python('abajo')\n",
    "        elif event.key() == 68:  # D\n",
    "            self.mover_python('derecha')\n",
    "\n",
    "\n",
    "if __name__ == '__main__':\n",
    "    def hook(type, value, traceback):\n",
    "        print(type)\n",
    "        print(traceback)\n",
    "\n",
    "    sys.__excepthook__ = hook\n",
    "\n",
    "    app = QApplication([])\n",
    "    ventana = Ventana()\n",
    "    ventana.show()\n",
    "    sys.exit(app.exec())\n",
    "```"
   ]
  }
 ],
 "metadata": {
  "kernelspec": {
   "display_name": "Python 3 (ipykernel)",
   "language": "python",
   "name": "python3"
  },
  "language_info": {
   "codemirror_mode": {
    "name": "ipython",
    "version": 3
   },
   "file_extension": ".py",
   "mimetype": "text/x-python",
   "name": "python",
   "nbconvert_exporter": "python",
   "pygments_lexer": "ipython3",
   "version": "3.9.10"
  },
  "vscode": {
   "interpreter": {
    "hash": "a3a63619a7d9caf1f944c17a21d0e2ba5f9b4e8cf352ed74fca5bac06f551692"
   }
  }
 },
 "nbformat": 4,
 "nbformat_minor": 4
}
