{
 "cells": [
  {
   "cell_type": "markdown",
   "metadata": {},
   "source": [
    "<p>\n",
    "<font size='5' face='Georgia, Arial'>IIC-2233 Apunte Programación Avanzada</font><br>\n",
    "<font size='1'> Ejercicios creados a partir de 2019-2 por Equipo Docente IIC2233. </font>\n",
    "<font size='1'> Actualizados en 2023-2.</font>\n",
    "</p>\n",
    "\n",
    "\n",
    "# Ejercicios propuestos: Interfaces gráficas I\n",
    "## Elementos gráficos básicos"
   ]
  },
  {
   "cell_type": "markdown",
   "metadata": {},
   "source": [
    "Los siguientes problemas se proveen como oportunidad de ejercitar los conceptos revisados en el material de interfaces gráficas I. Si tienes dudas sobre algún problema o alguna solución, no dudes en dejar una *issue* en el [foro del curso](https://github.com/IIC2233/syllabus/issues)."
   ]
  },
  {
   "cell_type": "markdown",
   "metadata": {},
   "source": [
    "### Ejercicio 1: Posición y tamaño de ventanas"
   ]
  },
  {
   "cell_type": "markdown",
   "metadata": {},
   "source": [
    "A continuación, se presenta el primer código de ejemplo para crear un programa con una ventana. Las dimensiones y título de la ventana están \"*hardcodeados*\", es decir, sus valores están fijos dentro de su definición. \n",
    "\n",
    "Toma el siguiente código, y alteralo para que al instanciar `MiVentana` reciba la posición `(x, y)`, las dimensiones `(ancho, alto)` y el título `(titulo)` para fijar la ventana creada. Luego, instancia **cinco** ventanas simultaneas con distintos valores para los argumentos anteriores. "
   ]
  },
  {
   "cell_type": "markdown",
   "metadata": {},
   "source": [
    "```python\n",
    "\n",
    "import sys\n",
    "from PyQt5.QtWidgets import QWidget, QApplication\n",
    "\n",
    "\n",
    "class MiVentana(QWidget):\n",
    "    def __init__(self):\n",
    "        super().__init__()\n",
    "        self.setGeometry(200, 100, 300, 300)\n",
    "        self.setWindowTitle('Mi Primera Ventana')\n",
    "\n",
    "\n",
    "if __name__ == '__main__':\n",
    "    def hook(type, value, traceback):\n",
    "        print(type)\n",
    "        print(traceback)\n",
    "    sys.__excepthook__ = hook\n",
    "    \n",
    "    app = QApplication([])\n",
    "    ventana = MiVentana()\n",
    "    ventana.show()\n",
    "    sys.exit(app.exec())\n",
    "```"
   ]
  },
  {
   "cell_type": "markdown",
   "metadata": {},
   "source": [
    "La siguiente imagen muestra un ejemplo, no es necesario que siga las mismas dimensiones y nombres que este:\n",
    "\n",
    "![](img/prob-2-1.png)"
   ]
  },
  {
   "cell_type": "markdown",
   "metadata": {},
   "source": [
    "### Ejercicio 2: Elementos básico en inicio de sesión"
   ]
  },
  {
   "cell_type": "markdown",
   "metadata": {},
   "source": [
    "El objetivo de este problema es que crees una ventana de **inicio de sesión** de tu red social favorita. Esta no tendrá comportamiento de interacción, solo será estática. Para crear esta ventana, debes indicarle al usuario dónde especificar su información personal para identificarlo. Específicamente, debe contener:\n",
    "\n",
    "- Etiquetas que digan \"Usuario\", \"Correo\" y \"Contraseña\". Utiliza `QLabel`.\n",
    "- Para cada una de las etiquetas mencionadas, agrega un campo de texto diferente y posiciónalo contiguo a la etiqueta correspondiente. Utiliza `QLineEdit`.\n",
    "- Una imagen del logo de tu red social favorita. Puedes buscarla en la web, descargarla y cargarla para lograrlo. Utiliza `QPixMap` y `QLabel`.\n",
    "- Un botón que diga \"Ingresar\". Utiliza `QPushButton`.\n",
    "\n",
    "Como ubiques los elementos queda a criterio tuyo, puedes encontrar un ejemplo de un resultado posible a continuación:\n",
    "\n",
    "![](img/prob-2-2.png)"
   ]
  },
  {
   "cell_type": "markdown",
   "metadata": {},
   "source": [
    "### Ejercicio 3: ¡Más elementos básicos!"
   ]
  },
  {
   "cell_type": "markdown",
   "metadata": {},
   "source": [
    "Ahora, el objetivo de este problema es crear una ventana de **registro** de tu red social favorita. Para esto, es necesario crear campos distintos para ingresar datos del usuario. Esta ventana debe contener:\n",
    "\n",
    "- Etiquetas que digan \"Usuario\", \"Género\", \"Edad\" y \"Configuración\". Utiliza `QLabel`.\n",
    "- Para el campo de usuario, agrega un campo de texto. Utiliza `QLineEdit`.\n",
    "- Para el campo de género, agrega botones radiales con opciones: \"Femenino\", \"Masculino\", \"No Binario\", \"No mencionar\" (y otras opciones que desees agregar). Para lograrlo, busca en la web el *widget*: `QRadioButton`, y utilizalo.\n",
    "- Para el campo de edad, agrega un campo numérico con valor mínimo 18 y sin valor máximo. Para lograrlo, busca en la web el *widget*: `QSpinBox`, y utilizalo.\n",
    "- Para el campo configuración, agrega botones para marcar con opciones: \"Cuenta privada\", \"Recibir noticias\", \"Acepto términos y condiciones\". Para lograrlo, busca en la web el *widget*: `QCheckBox`, y utilizalo.\n",
    "- Finalmente, agrega un botón que diga \"Continuar\". Utiliza `QPushButton`.\n",
    "\n",
    "Como ubiques los elementos queda a criterio tuyo, puedes encontrar un ejemplo de un resultado posible a continuación:\n",
    "\n",
    "![](img/prob-2-3.png)"
   ]
  }
 ],
 "metadata": {
  "kernelspec": {
   "display_name": "Python 3 (ipykernel)",
   "language": "python",
   "name": "python3"
  },
  "language_info": {
   "codemirror_mode": {
    "name": "ipython",
    "version": 3
   },
   "file_extension": ".py",
   "mimetype": "text/x-python",
   "name": "python",
   "nbconvert_exporter": "python",
   "pygments_lexer": "ipython3",
   "version": "3.9.10"
  },
  "vscode": {
   "interpreter": {
    "hash": "a3a63619a7d9caf1f944c17a21d0e2ba5f9b4e8cf352ed74fca5bac06f551692"
   }
  }
 },
 "nbformat": 4,
 "nbformat_minor": 4
}
