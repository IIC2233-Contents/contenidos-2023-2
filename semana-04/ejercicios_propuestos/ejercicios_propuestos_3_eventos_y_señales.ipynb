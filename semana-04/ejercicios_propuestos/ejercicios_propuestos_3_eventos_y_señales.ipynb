{
 "cells": [
  {
   "cell_type": "markdown",
   "metadata": {},
   "source": [
    "<p>\n",
    "<font size='5' face='Georgia, Arial'>IIC-2233 Apunte Programación Avanzada</font><br>\n",
    "<font size='1'> Ejercicios creados a partir de 2019-2 por Equipo Docente IIC2233. </font>\n",
    "<font size='1'> Actualizados en 2023-2.</font>\n",
    "</p>\n",
    "\n",
    "\n",
    "# Ejercicios propuestos: Interfaces gráficas I\n",
    "## Eventos y señales"
   ]
  },
  {
   "cell_type": "markdown",
   "metadata": {},
   "source": [
    "Los siguientes problemas se proveen como oportunidad de ejercitar los conceptos revisados en el material de interfaces gráficas I. Si tienes dudas sobre algún problema o alguna solución, no dudes en dejar una *issue* en el [foro del curso](https://github.com/IIC2233/syllabus/issues)."
   ]
  },
  {
   "cell_type": "markdown",
   "metadata": {},
   "source": [
    "### Ejercicio 1: Cuenta clics"
   ]
  },
  {
   "cell_type": "markdown",
   "metadata": {},
   "source": [
    "Crea una ventana que contenga:\n",
    "\n",
    "- Una etiqueta de texto que diga \"0 clics\".\n",
    "- Un botón (`QPushButton`).\n",
    "\n",
    "Agrega el siguiente comportamiento: cada vez que se haga clic sobre el botón, se debe actualizar el contenido de la etiqueta con el número actual de clics que se han realizado.\n",
    "\n",
    "Se muestra un ejemplo a continuación:\n",
    "\n",
    "![](img/prob-3-1.png)"
   ]
  },
  {
   "cell_type": "markdown",
   "metadata": {},
   "source": [
    "### Ejercicio 2: Sigue el cuadrado"
   ]
  },
  {
   "cell_type": "markdown",
   "metadata": {},
   "source": [
    "Crea una ventana de tamaño 500 por 500, que contenga un rectangulo de color verde dentro. Su posición inicial debe ser aleatoria y de dimensiones: 50 por 50. Para crear el rectángulo, utiliza `QPixMap` y un `QLabel` dentro de la ventana.\n",
    "\n",
    "Agrega el siguiente comportamiento: si el usuario hace clic dentro de la región que abarca el rectangulo verde, entonces su posición se mueve a una nueva posición aleatoria. Si hace clic fuera de la región abarcada por el rectangulo, no hay efecto. El movimiento del rectangulo debe ser instantaneo, no gradual."
   ]
  },
  {
   "cell_type": "markdown",
   "metadata": {},
   "source": [
    "Se muestra un ejemplo a continuación:\n",
    "\n",
    "![](img/prob-3-2.png)"
   ]
  },
  {
   "cell_type": "markdown",
   "metadata": {},
   "source": [
    "### Ejercicio 3: Trabajar con `KeyPressEvent`"
   ]
  },
  {
   "cell_type": "markdown",
   "metadata": {},
   "source": [
    "Crea una ventana de tamaño 300 x 300 que contenga:\n",
    "\n",
    "- Una etiqueta de texto que diga \"Blanco\".\n",
    "- Un `QPixMap` de dimensiones 100 x 100 que contenga un rectangulo con el color blanco.\n",
    "\n",
    "Para agregarle un color a una instancia de `QPixmap` puedes utilizar su método `fill(Qt.color)`, donde se reemplaza `color` con el color deseado en inglés (`Qt.white` para blanco).\n",
    "\n",
    "Además, agrega el siguiente comportamiento: cada vez que se apriete la tecla `V` en el teclado se debe cambiar el color del rectangulo a verde y el texto a 'Verde'. De la misma forma al apretar la tecla `A` en el teclado se debe cambiar ambos parametros a azul, con `R` a rojo y con `B` a blanco.\n",
    "\n",
    "Para rellenar con esos colores, de forma similar al blanco, serían: `green` para verde, `red` para rojo y `blue` para azul.\n",
    "\n",
    "*Tip*: Cada tecla tiene un código único dado por `event.key()`, el cual puedes utilizar para comprobar que tecla se esta apretando.\n"
   ]
  },
  {
   "cell_type": "markdown",
   "metadata": {},
   "source": [
    "\n",
    "La ventana se debería ver de la siguiente forma:\n",
    "\n",
    "\n",
    "![](img/prob-3-3-ventana_blanco.png)\n",
    "![](img/prob-3-3-ventana_azul.png)\n",
    "\n",
    "A continuación se presenta el código base para empezar a realizar este ejercicio. El primer paso es copiar y pegar este código en un archivo de extensión `.py`, luego completar con lo solicitado y ejecutarlo."
   ]
  },
  {
   "cell_type": "markdown",
   "metadata": {},
   "source": [
    "```python\n",
    "import sys\n",
    "from PyQt6.QtWidgets import (QApplication, QWidget, QLabel)\n",
    "from PyQt6.QtGui import (QPixmap, QColor)\n",
    "from PyQt6.QtCore import Qt\n",
    "\n",
    "\n",
    "class MiVentana(QWidget):\n",
    "    def __init__(self):\n",
    "        super().__init__()\n",
    "        self.inicializa_gui()\n",
    "\n",
    "    def inicializa_gui(self):\n",
    "        pass\n",
    "\n",
    "    def keyPressEvent(self, event):\n",
    "        \"\"\"\n",
    "        Este método maneja el evento que se produce al presionar las teclas.\n",
    "        \"\"\"\n",
    "        pass\n",
    "\n",
    "\n",
    "if __name__ == '__main__':\n",
    "    def hook(type, value, traceback):\n",
    "        print(type)\n",
    "        print(traceback)\n",
    "    sys.__excepthook__ = hook\n",
    "    \n",
    "    app = QApplication([])\n",
    "    ex = MiVentana()\n",
    "    sys.exit(app.exec())\n",
    "    \n",
    "```"
   ]
  }
 ],
 "metadata": {
  "kernelspec": {
   "display_name": "Python 3 (ipykernel)",
   "language": "python",
   "name": "python3"
  },
  "language_info": {
   "codemirror_mode": {
    "name": "ipython",
    "version": 3
   },
   "file_extension": ".py",
   "mimetype": "text/x-python",
   "name": "python",
   "nbconvert_exporter": "python",
   "pygments_lexer": "ipython3",
   "version": "3.9.10"
  },
  "vscode": {
   "interpreter": {
    "hash": "a3a63619a7d9caf1f944c17a21d0e2ba5f9b4e8cf352ed74fca5bac06f551692"
   }
  }
 },
 "nbformat": 4,
 "nbformat_minor": 4
}
