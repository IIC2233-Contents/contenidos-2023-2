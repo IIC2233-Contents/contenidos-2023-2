{
 "cells": [
  {
   "cell_type": "markdown",
   "metadata": {},
   "source": [
    "<p>\n",
    "<font size='5' face='Georgia, Arial'>IIC-2233 Apunte Programación Avanzada</font><br>\n",
    "<font size='1'> Ejercicios creados a partir de 2019-2 por Equipo Docente IIC2233. </font>\n",
    "<font size='1'> Actualizados en 2023-2.</font>\n",
    "</p>\n",
    "\n",
    "\n",
    "# Ejercicios propuestos: Interfaces gráficas I\n",
    "## Interfaces gráficas"
   ]
  },
  {
   "cell_type": "markdown",
   "metadata": {},
   "source": [
    "Los siguientes problemas se proveen como oportunidad de ejercitar los conceptos revisados en el material de interfaces gráficas I. Si tienes dudas sobre algún problema o alguna solución, no dudes en dejar una *issue* en el [foro del curso](https://github.com/IIC2233/syllabus/issues)."
   ]
  },
  {
   "cell_type": "markdown",
   "metadata": {},
   "source": [
    "### Ejercicio 1: Probar y entender el código básico"
   ]
  },
  {
   "cell_type": "markdown",
   "metadata": {},
   "source": [
    "A continuación vuelve a compartir el código base de ventana revisado en el material. La idea de este ejercicio es que completes lo sugerido en el material, y ejecutes este código desde tu computador. El primer paso es copiar y pegar este código en un archivo de extensión `.py`, y ejecutarlo."
   ]
  },
  {
   "cell_type": "markdown",
   "metadata": {},
   "source": [
    "```python\n",
    "\n",
    "import sys\n",
    "from PyQt6.QtWidgets import QWidget, QApplication\n",
    "\n",
    "\n",
    "class MiVentana(QWidget):\n",
    "    def __init__(self):\n",
    "        super().__init__()\n",
    "\n",
    "        # Definimos la geometría de la ventana.\n",
    "        # Parámetros: (x_superior_izq, y_superior_izq, ancho, alto)\n",
    "        self.setGeometry(200, 100, 300, 300)\n",
    "\n",
    "        # Podemos dar nombre a la ventana (Opcional)\n",
    "        self.setWindowTitle('Mi Primera Ventana')\n",
    "\n",
    "\n",
    "if __name__ == '__main__':\n",
    "    def hook(type, value, traceback):\n",
    "        print(type)\n",
    "        print(traceback)\n",
    "    sys.__excepthook__ = hook\n",
    "    \n",
    "    app = QApplication([])\n",
    "    ventana = MiVentana()\n",
    "    ventana.show()\n",
    "    sys.exit(app.exec())\n",
    "```"
   ]
  },
  {
   "cell_type": "markdown",
   "metadata": {},
   "source": [
    "También, prueba haciendo los siguientes cambios, para entender como instanciar un programa con interfaz gráfica.\n",
    "\n",
    "1. Comenta la línea `app = QApplication([])` (es decir, agregar `#` al comienzo), y ejecuta el programa. Lanzará error porque no existe aplicación gráfica antes de crear un *widget*.\n",
    "\n",
    "\n",
    "2. Des-comenta `app = QApplication([])`, y ahora duplícala. Deberían haber dos líneas `app = QApplication([])` seguidas. Si ejecutas, el programa se cae por intentar crear otra aplicación.\n",
    "\n",
    "\n",
    "3. Elimina la línea duplicada, volviendo al estado inicial. Ahora intenta comentando la línea `ventana.show()` y ejecutnado. En este caso, el programa no se caee y sigue andando, pero nada aparece. Es porque la ventana fue creada, pero nada la hace mostrarse aún.\n",
    "\n",
    "\n",
    "4. Des-comenta `ventana.show()`, y ahora bajo esa línea agrega: `ventana2 = MiVentana()` y luego `ventana2.show()`. Al ejecutar, esto produce dos ventanas (fíjate bien, ya que una está sobre la otra). Una aplicación puede tener múltiples ventanas mostrandose, ¡no solo una!\n",
    "\n",
    "\n",
    "5. Finalmente, comenta la línea `sys.exit(app.exec())`. Si ejecutas en ese estado, el programa comienza pero termina rápidamente. Esto porque es esta última línea la que previene que el programa se termine, y lo deja en un estado de espera a que eventos ocurran. En este ejemplo aún no vinculamos eventos."
   ]
  }
 ],
 "metadata": {
  "kernelspec": {
   "display_name": "Python 3 (ipykernel)",
   "language": "python",
   "name": "python3"
  },
  "language_info": {
   "codemirror_mode": {
    "name": "ipython",
    "version": 3
   },
   "file_extension": ".py",
   "mimetype": "text/x-python",
   "name": "python",
   "nbconvert_exporter": "python",
   "pygments_lexer": "ipython3",
   "version": "3.9.10"
  },
  "vscode": {
   "interpreter": {
    "hash": "a3a63619a7d9caf1f944c17a21d0e2ba5f9b4e8cf352ed74fca5bac06f551692"
   }
  }
 },
 "nbformat": 4,
 "nbformat_minor": 4
}
