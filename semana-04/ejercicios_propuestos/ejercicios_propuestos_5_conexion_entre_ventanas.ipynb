{
 "cells": [
  {
   "cell_type": "markdown",
   "metadata": {},
   "source": [
    "<p>\n",
    "<font size='5' face='Georgia, Arial'>IIC-2233 Apunte Programación Avanzada</font><br>\n",
    "<font size='1'> Ejercicios creados a partir de 2019-2 por Equipo Docente IIC2233. </font>\n",
    "<font size='1'> Actualizados en 2023-2.</font>\n",
    "</p>\n",
    "\n",
    "\n",
    "# Ejercicios propuestos: Interfaces gráficas I\n",
    "## Ejemplos de conexión entre ventanas"
   ]
  },
  {
   "cell_type": "markdown",
   "metadata": {},
   "source": [
    "Los siguientes problemas se proveen como oportunidad de ejercitar los conceptos revisados en el material de interfaces gráficas I. Si tienes dudas sobre algún problema o alguna solución, no dudes en dejar una *issue* en el [foro del curso](https://github.com/IIC2233/syllabus/issues)."
   ]
  },
  {
   "cell_type": "markdown",
   "metadata": {},
   "source": [
    "### Ejercicio 1:  Ayuda a Homero a encontrar su *donut*"
   ]
  },
  {
   "cell_type": "markdown",
   "metadata": {},
   "source": [
    "Homero Simpson está desesperado por una *donut*. Esta *donut* se encuentra detrás de un botón. El siguiente código abre una ventana inicial que te mostrará dos botones, pero ninguno funciona al presionarse. Sigue las instrucciones que te entreguen las ventanas para ayudar a Homero a comer su *donut*.\n",
    "\n",
    "El primer paso es copiar y pegar este código en un archivo de extensión `.py`, luego completar con lo solicitado y ejecutarlo."
   ]
  },
  {
   "cell_type": "markdown",
   "metadata": {},
   "source": [
    "```python\n",
    "\n",
    "import sys\n",
    "import os\n",
    "from PyQt6.QtWidgets import QApplication, QWidget, QPushButton, QLabel, QVBoxLayout\n",
    "from PyQt6.QtCore import pyqtSignal\n",
    "from PyQt6.QtGui import QPixmap\n",
    "\n",
    "class VentanaDeHomero(QWidget):\n",
    "    \n",
    "    senal_abrir_ventana = pyqtSignal()\n",
    "    senal_abrir_ventana_donut = pyqtSignal()\n",
    "\n",
    "    rutas_por_titulo = {\n",
    "        'Primero': os.path.join('img', 'ejercicio_5', 'primero.jpg'),\n",
    "        'Segundo': os.path.join('img', 'ejercicio_5', 'segunda.jpg'),\n",
    "        'Tercera': os.path.join('img', 'ejercicio_5', 'tercera.jpg')\n",
    "    }\n",
    "\n",
    "    def __init__(self, titulo, x, y, otra_ventana=None):\n",
    "        super().__init__()\n",
    "\n",
    "        self.setWindowTitle(titulo)\n",
    "        self.setGeometry(x, y, 500, 600)\n",
    "        self.senal_abrir_ventana.connect(self.show)\n",
    "\n",
    "        self.ventana_donut = otra_ventana # Podría pasarla así la donut...\n",
    "\n",
    "        # Las ventanas tienen pistas :o\n",
    "        self.label_pista = QLabel(self)\n",
    "        self.label_pista.setGeometry(0, 0, 500, 500)\n",
    "        ruta_imagen = os.path.join(self.rutas_por_titulo.get(titulo, ''))\n",
    "        pixeles = QPixmap(ruta_imagen)\n",
    "        self.label_pista.setPixmap(pixeles)\n",
    "        self.label_pista.setScaledContents(True)\n",
    "\n",
    "        self.layout_principal = QVBoxLayout()\n",
    "        self.layout_principal.addWidget(self.label_pista)\n",
    "\n",
    "        if titulo == \"Primero\":\n",
    "            self.boton = QPushButton(\"Abrir Primer Botón\", self)\n",
    "            self.boton.clicked.connect(self.abrir_ventana_1)\n",
    "\n",
    "            self.boton2 = QPushButton(\"Abrir Segundo Botón\", self)\n",
    "            self.boton2.clicked.connect(self.abrir_ventana_2)\n",
    "\n",
    "            self.layout_principal.addWidget(self.boton)\n",
    "            self.layout_principal.addWidget(self.boton2)\n",
    "\n",
    "        elif titulo == \"Tercera\":\n",
    "\n",
    "            self.boton2 = QPushButton(\"Volver\", self)\n",
    "            self.boton2.clicked.connect(self.abrir_ventana_2)\n",
    "\n",
    "            self.layout_principal.addWidget(self.boton2)\n",
    "\n",
    "        self.setLayout(self.layout_principal)\n",
    "\n",
    "    def abrir_ventana_1(self):\n",
    "        # Parte 1\n",
    "        # Esta no es la mejor forma de abrir ventanas,\n",
    "        # arregla esta función para que Homero pueda encontrar\n",
    "        # su donut.\n",
    "        ventana_donut = VentanaDeHomero(\"Otra ventana\", 300, 100)\n",
    "        ventana_donut.show()\n",
    "        \n",
    "\n",
    "    def abrir_ventana_2(self):\n",
    "        self.hide()\n",
    "        self.senal_abrir_ventana_donut.emit()\n",
    "\n",
    "\n",
    "if __name__ == '__main__':\n",
    "    def hook(type, value, traceback):\n",
    "        print(type)\n",
    "        print(traceback)\n",
    "\n",
    "    sys.__excepthook__ = hook\n",
    "    \n",
    "    app = QApplication([])\n",
    "\n",
    "    ventana_donut_2 = VentanaDeHomero(\"Segundo\", 300, 100)\n",
    "    ventana_donut_3 = VentanaDeHomero(\"Tercera\", 500, 100)\n",
    "    \n",
    "    ventana_inicial = VentanaDeHomero(\"Primero\", 100, 100, ventana_donut_2)\n",
    "\n",
    "    # Parte 2 (primero haz la parte 1 de abrir_ventana_1)\n",
    "    # Acá podría conectar señales entre ventana_inicial y ventana_3... ¿Y mi donut?\n",
    "    \n",
    "    # 2.1 Conecta la senal_abrir_ventana_donut de ventana_inicial \n",
    "    # con show de ventana_donut_3\n",
    "\n",
    "\n",
    "    # 2.2 Conecta la senal_abrir_ventana_donut de ventana_donut_3 \n",
    "    # con show de ventana_inicial\n",
    "\n",
    "    ventana_inicial.show()\n",
    "    sys.exit(app.exec())\n",
    "```"
   ]
  }
 ],
 "metadata": {
  "kernelspec": {
   "display_name": "Python 3 (ipykernel)",
   "language": "python",
   "name": "python3"
  },
  "language_info": {
   "codemirror_mode": {
    "name": "ipython",
    "version": 3
   },
   "file_extension": ".py",
   "mimetype": "text/x-python",
   "name": "python",
   "nbconvert_exporter": "python",
   "pygments_lexer": "ipython3",
   "version": "3.9.10"
  },
  "vscode": {
   "interpreter": {
    "hash": "a3a63619a7d9caf1f944c17a21d0e2ba5f9b4e8cf352ed74fca5bac06f551692"
   }
  }
 },
 "nbformat": 4,
 "nbformat_minor": 4
}
