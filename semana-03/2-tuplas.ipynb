{
 "cells": [
  {
   "cell_type": "markdown",
   "metadata": {
    "colab_type": "text",
    "id": "eWR9iZ8qQeYM"
   },
   "source": [
    "<p>\n",
    "<font size='5' face='Georgia, Arial'>IIC2233 Apunte Programación Avanzada</font><br>\n",
    "<font size='1'>&copy; 2015 Karim Pichara - Christian Pieringer. Todos los derechos reservados.</font>\n",
    "<br>\n",
    "<font size='1'> Modificado desde 2017-2 al 2022-2 por Equipo Docente IIC2233</font>\n",
    "</p>"
   ]
  },
  {
   "cell_type": "markdown",
   "metadata": {},
   "source": [
    "# Tabla de contenidos\n",
    "\n",
    "1. [Estructuras secuenciales](#Estructuras-secuenciales)\n",
    "    1. [Tuplas](#Tuplas)\n",
    "        1. [Desempaquetamiento de elementos](#Desempaquetamiento-de-elementos)\n",
    "        2. [*Slicing* de tuplas](#Slicing-de-tuplas)\n",
    "    2. [*Named tuples*](#Named-tuples)"
   ]
  },
  {
   "cell_type": "markdown",
   "metadata": {
    "colab_type": "text",
    "id": "Ip7wjy55QeYW"
   },
   "source": [
    "# Estructuras secuenciales"
   ]
  },
  {
   "cell_type": "markdown",
   "metadata": {
    "colab_type": "text",
    "id": "S8o-99HuQeYW"
   },
   "source": [
    "En esta sección estudiaremos estructuras basadas en un **ordenamiento secuencial** de los elementos, según como son ingresados en la estructura. Todas las estructuras de este tipo se caracterizan porque soportan **indexación de los elementos** de la forma `secuencia[índice]`, donde el `índice` **empieza en 0** y llega hasta el **largo de la secuencia - 1**. \n",
    "\n",
    "En este tipo de estructuras encontramos: `tuple`, `list` y `str`. Si bien los *strings* son estructuras secuenciales que soportan indexación, en esta sección nos concentraremos en `tuple`."
   ]
  },
  {
   "cell_type": "markdown",
   "metadata": {
    "colab_type": "text",
    "id": "k5e2nkSHQeYX"
   },
   "source": [
    "## Tuplas"
   ]
  },
  {
   "cell_type": "markdown",
   "metadata": {
    "colab_type": "text",
    "id": "4YBLEUvbQeYX"
   },
   "source": [
    "Las **tuplas** (`tuple`) se utilizan para manejar datos de forma **ordenada** e **inmutable**, es decir, no se pueden cambiar los valores que contiene. Para acceder a algún elemento de una tupla, es necesario usar índices correlativos al orden en que los valores fueron agregados.\n",
    "\n",
    "![](img/indices_secuencia.png)\n",
    "\n",
    "Las tuplas pueden ser heterogéneas, y de hecho es su uso más común, lo que significa que pueden contener objetos pertenecientes a clases o tipos de datos distintos, incluyendo otras tuplas. Una tupla se puede crear de las siguientes maneras:"
   ]
  },
  {
   "cell_type": "code",
   "execution_count": 1,
   "metadata": {
    "colab": {
     "autoexec": {
      "startup": false,
      "wait_interval": 0
     },
     "base_uri": "https://localhost:8080/",
     "height": 85,
     "output_extras": [
      {
       "item_id": 1
      }
     ]
    },
    "colab_type": "code",
    "executionInfo": {
     "elapsed": 706,
     "status": "ok",
     "timestamp": 1520879324770,
     "user": {
      "displayName": "Cristian Ruz",
      "photoUrl": "//lh4.googleusercontent.com/-0WhxkzATSqY/AAAAAAAAAAI/AAAAAAAAIqQ/WE7Rcv4pnN8/s50-c-k-no/photo.jpg",
      "userId": "108117710965209443485"
     },
     "user_tz": 180
    },
    "id": "N-rV68cLQeYY",
    "outputId": "726687d1-e857-4f59-d7ca-bd3d2b0e0f42"
   },
   "outputs": [
    {
     "name": "stdout",
     "output_type": "stream",
     "text": [
      "<class 'tuple'> ()\n",
      "<class 'tuple'> (0, 1, 2) 0 1\n",
      "<class 'tuple'> (0,)\n",
      "<class 'tuple'> (0, 'uno') 0 uno\n"
     ]
    }
   ],
   "source": [
    "# Usando tuple() sin ingresar elementos, se crea una tupla vacía.\n",
    "a = tuple()\n",
    "\n",
    "# Declarando explícitamente los elementos de la tupla,\n",
    "# ingresándolos entre paréntesis.\n",
    "b = (0, 1, 2)\n",
    "\n",
    "# Cuando creamos una tupla de tamaño 1, debemos incluir una coma al final.\n",
    "c = (0, )\n",
    "\n",
    "# Pueden ser creadas con objetos de distinto tipo.\n",
    "# Al momento de la creación se pueden omitir los paréntesis.\n",
    "d = 0, 'uno'\n",
    "\n",
    "print(type(a), a)\n",
    "print(type(b), b, b[0], b[1])\n",
    "print(type(c), c)\n",
    "print(type(d), d, d[0], d[1])"
   ]
  },
  {
   "cell_type": "markdown",
   "metadata": {
    "colab_type": "text",
    "id": "CSWPkYTVQeYc"
   },
   "source": [
    "Las tuplas son estructuras de datos **inmutables**. Esto significa que **no es posible agregar o eliminar elementos**, o bien cambiar el contenido de la tupla una vez que ésta fue creada.\n",
    "\n",
    "En el siguiente ejemplo, la posición 2 de la tupla `a` contiene originalmente un `float`. Si intentamos reemplazar el contenido de esta posición por un *string* (o cualquier otro valor), se genera un *error de tipo* (`TypeError`), debido a que los objetos de la clase `tuple` *no permiten asignación*."
   ]
  },
  {
   "cell_type": "code",
   "execution_count": 2,
   "metadata": {
    "cellView": "code",
    "colab": {
     "autoexec": {
      "startup": false,
      "wait_interval": 0
     },
     "base_uri": "https://localhost:8080/",
     "height": 198,
     "output_extras": [
      {
       "item_id": 1
      }
     ]
    },
    "colab_type": "code",
    "executionInfo": {
     "elapsed": 621,
     "status": "error",
     "timestamp": 1520879327058,
     "user": {
      "displayName": "Cristian Ruz",
      "photoUrl": "//lh4.googleusercontent.com/-0WhxkzATSqY/AAAAAAAAAAI/AAAAAAAAIqQ/WE7Rcv4pnN8/s50-c-k-no/photo.jpg",
      "userId": "108117710965209443485"
     },
     "user_tz": 180
    },
    "id": "DaAmguADQeYd",
    "outputId": "2e4b3fac-f617-4428-fe76-26d32015632f"
   },
   "outputs": [
    {
     "ename": "TypeError",
     "evalue": "'tuple' object does not support item assignment",
     "output_type": "error",
     "traceback": [
      "\u001b[0;31m---------------------------------------------------------------------------\u001b[0m",
      "\u001b[0;31mTypeError\u001b[0m                                 Traceback (most recent call last)",
      "Cell \u001b[0;32mIn[2], line 2\u001b[0m\n\u001b[1;32m      1\u001b[0m a \u001b[38;5;241m=\u001b[39m (\u001b[38;5;124m'\u001b[39m\u001b[38;5;124mChile\u001b[39m\u001b[38;5;124m'\u001b[39m, \u001b[38;5;241m2\u001b[39m, \u001b[38;5;241m4.15\u001b[39m, \u001b[38;5;124m'\u001b[39m\u001b[38;5;124mAgosto\u001b[39m\u001b[38;5;124m'\u001b[39m)\n\u001b[0;32m----> 2\u001b[0m \u001b[43ma\u001b[49m\u001b[43m[\u001b[49m\u001b[38;5;241;43m2\u001b[39;49m\u001b[43m]\u001b[49m \u001b[38;5;241m=\u001b[39m \u001b[38;5;124m'\u001b[39m\u001b[38;5;124msemestre\u001b[39m\u001b[38;5;124m'\u001b[39m\n",
      "\u001b[0;31mTypeError\u001b[0m: 'tuple' object does not support item assignment"
     ]
    }
   ],
   "source": [
    "a = ('Chile', 2, 4.15, 'Agosto')\n",
    "a[2] = 'semestre'"
   ]
  },
  {
   "cell_type": "markdown",
   "metadata": {
    "colab_type": "text",
    "id": "Y8r_x5yHdaGN"
   },
   "source": [
    "Sin embargo, sí es posible modificar algún valor contenido *dentro* de un elemento de la tupla, siempre que el tipo de datos lo permita. En el siguiente caso **no** estamos modificando el objeto `tuple`, sino un valor interno (la posición 0) de la lista que está en la posición 3 de la tupla `meses`."
   ]
  },
  {
   "cell_type": "code",
   "execution_count": 3,
   "metadata": {
    "colab": {
     "autoexec": {
      "startup": false,
      "wait_interval": 0
     },
     "base_uri": "https://localhost:8080/",
     "height": 34,
     "output_extras": [
      {
       "item_id": 1
      }
     ]
    },
    "colab_type": "code",
    "executionInfo": {
     "elapsed": 732,
     "status": "ok",
     "timestamp": 1520880114636,
     "user": {
      "displayName": "Cristian Ruz",
      "photoUrl": "//lh4.googleusercontent.com/-0WhxkzATSqY/AAAAAAAAAAI/AAAAAAAAIqQ/WE7Rcv4pnN8/s50-c-k-no/photo.jpg",
      "userId": "108117710965209443485"
     },
     "user_tz": 180
    },
    "id": "xgumMpoXd3If",
    "outputId": "815615ff-9bba-4878-fb9e-d575e2b6fe8d"
   },
   "outputs": [
    {
     "name": "stdout",
     "output_type": "stream",
     "text": [
      "(2023, 'semestre', 2, ['Ene', 'Sep', 'Oct', 'Nov', 'Dic'])\n"
     ]
    }
   ],
   "source": [
    "meses = (2023, \"semestre\", 2, ['Ago', 'Sep', 'Oct', 'Nov', 'Dic'])\n",
    "\n",
    "meses[3][0] = 'Ene'\n",
    "print(meses)"
   ]
  },
  {
   "cell_type": "markdown",
   "metadata": {
    "colab_type": "text",
    "id": "QPtgAFHIQeYg"
   },
   "source": [
    "### Desempaquetamiento de elementos\n",
    "\n",
    "Las tuplas pueden ser **desempaquetadas** en variables individuales. En el siguiente ejemplo creamos una función llamada `calcular_geometria()`, que recibe como entrada los lados de un cuadrilátero y retorna algunas medidas geométricas. Cuando las funciones retornan más de un valor, lo hacen empaquetando todos los valores en una tupla. Esto es simplemente un [truco](https://en.wikipedia.org/wiki/Syntactic_sugar) de Python, replicable en otros lenguajes, para aparentar que se entregan múltiples valores de retorno."
   ]
  },
  {
   "cell_type": "code",
   "execution_count": 4,
   "metadata": {
    "colab": {
     "autoexec": {
      "startup": false,
      "wait_interval": 0
     },
     "base_uri": "https://localhost:8080/",
     "height": 85,
     "output_extras": [
      {
       "item_id": 1
      }
     ]
    },
    "colab_type": "code",
    "executionInfo": {
     "elapsed": 653,
     "status": "ok",
     "timestamp": 1520880118274,
     "user": {
      "displayName": "Cristian Ruz",
      "photoUrl": "//lh4.googleusercontent.com/-0WhxkzATSqY/AAAAAAAAAAI/AAAAAAAAIqQ/WE7Rcv4pnN8/s50-c-k-no/photo.jpg",
      "userId": "108117710965209443485"
     },
     "user_tz": 180
    },
    "id": "wB7LtfXeQeYh",
    "outputId": "d18ef0f7-e486-4543-c9b7-e4dc75b2ac71"
   },
   "outputs": [
    {
     "name": "stdout",
     "output_type": "stream",
     "text": [
      "1: (200.0, 60.0, 10.0, 5.0)\n",
      "<class 'tuple'>\n",
      "2: 60.0\n",
      "3: 200.0, 60.0, 10.0, 5.0\n",
      "4: 200.0, 60.0, 10.0, 5.0\n"
     ]
    }
   ],
   "source": [
    "def calcular_geometria(a, b):\n",
    "    area = a * b\n",
    "    perimetro = (2 * a) + (2 * b)\n",
    "    punto_medio_a = a / 2\n",
    "    punto_medio_b = b / 2\n",
    "    # Los paréntesis son opcionales, ya que estamos creando una tupla\n",
    "    return (area, perimetro, punto_medio_a, punto_medio_b)\n",
    "\n",
    "\n",
    "# Obtenemos una tupla con los datos provenientes de la función.\n",
    "data = calcular_geometria(20.0, 10.0)\n",
    "print(f\"1: {data}\")\n",
    "\n",
    "# El tipo de dato obtenido es 'tuple'\n",
    "print(type(data))\n",
    "\n",
    "# Obtenemos un valor desde la tupla directamente usando su índice\n",
    "p = data[1]\n",
    "print(f\"2: {p}\")\n",
    "\n",
    "# Desempaquetamos en variables independientes\n",
    "# los valores contenidos en una tupla\n",
    "a, p, mpa, mpb = data\n",
    "print(f\"3: {a}, {p}, {mpa}, {mpb}\")\n",
    "\n",
    "# Las funciones devuelven el conjunto de valores\n",
    "# como una tupla. Se puede desempaquetar directamente\n",
    "# en variables individuales como en el caso anterior.\n",
    "a, p, mpa, mpb = calcular_geometria(20.0, 10.0)\n",
    "print(f\"4: {a}, {p}, {mpa}, {mpb}\")"
   ]
  },
  {
   "cell_type": "markdown",
   "metadata": {
    "colab_type": "text",
    "id": "lXrSWaH_QeYk"
   },
   "source": [
    "### *Slicing* de tuplas\n",
    "\n",
    "Es posible tomar secciones de la tupla usando la notación de ***slicing***. En esta notación, los índices indican *desde dónde* y *hasta dónde* deseamos recuperar datos de la tupla. La sintaxis de la notación de *slicing* es:\n",
    "\n",
    "`secuencia[inicio:término:pasos]`\n",
    "\n",
    "Por defecto, el número de pasos es 1. La siguiente figura muestra un ejemplo de cómo se deben considerar los índices al usar la notación de *slicing*. \n",
    "\n",
    "![](img/indices_slicing.png)"
   ]
  },
  {
   "cell_type": "markdown",
   "metadata": {
    "colab_type": "text",
    "id": "Fim3_iG0QeYk"
   },
   "source": [
    "Forma general de hacer *slicing* en Python:\n",
    "\n",
    "- `a[start:end]`: retorna los elementos desde `start` hasta `end - 1`.\n",
    "\n",
    "- `a[start:]`: retorna los elementos desde `start` hasta el final del arreglo.\n",
    "\n",
    "- `a[:end]`: retorna los elementos desde el principio hasta `end - 1`.\n",
    "\n",
    "- `a[:]`: crea una copia (*shallow*) del arreglo completo. Es decir, el arreglo retornado está en una nueva dirección de memoria, pero los elementos que están en este nuevo arreglo, hacen referencia a la dirección de memoria de los elementos del arreglo inicial.\n",
    "\n",
    "- `a[start:end:step]`: retorna los elementos desde `start` hasta no pasar `end`, en pasos de a `step`.\n",
    "\n",
    "- `a[-1]`: retorna el último elemento en el arreglo.\n",
    "\n",
    "- `a[-n:]`: retorna los últimos `n` elementos en el arreglo.\n",
    "\n",
    "- `a[:-n]`: retorna todos los elementos del arreglo menos los últimos `n` elementos.\n",
    "\n",
    "Veamos algunos ejemplos de *slicing* aplicado a tuplas."
   ]
  },
  {
   "cell_type": "code",
   "execution_count": 5,
   "metadata": {},
   "outputs": [
    {
     "name": "stdout",
     "output_type": "stream",
     "text": [
      "data: (400, 20, 1, 4, 10, 11, 12, 500)\n",
      "1. data[1:3]: (20, 1)\n",
      "2. data[3:]: (4, 10, 11, 12, 500)\n",
      "3. data[:5]: (400, 20, 1, 4, 10)\n",
      "4. data[2::2]: (1, 10, 12)\n",
      "5. data[1:6:2]: (20, 4, 11)\n",
      "6. data[::-1]: (500, 12, 11, 10, 4, 1, 20, 400)\n"
     ]
    }
   ],
   "source": [
    "# Usando los valores asignados en a, podemos obtener los valores de una sección de la tupla.\n",
    "data = (400, 20, 1, 4, 10, 11, 12, 500)\n",
    "print(f'data: {data}')\n",
    "\n",
    "# 1. Recuperamos los elementos que están entre los índices 1 y 3\n",
    "a = data[1:3]\n",
    "print(f'1. data[1:3]: {a}')\n",
    "\n",
    "# 2. Recuperamos desde el índice 3 en adelante\n",
    "a = data[3:]\n",
    "print(f'2. data[3:]: {a}')\n",
    "\n",
    "# 3. Recuperamos los valores hasta el índice 5\n",
    "a = data[:5]\n",
    "print(f'3. data[:5]: {a}')\n",
    "\n",
    "# 4. Recuperamos desde el índice 2 en adelante respecto del slice en pasos de a dos\n",
    "a = data[2::2]\n",
    "print(f'4. data[2::2]: {a}')\n",
    "\n",
    "# 5. Recuperamos entre los índices 1 y 4, en pasos de a dos\n",
    "a = data[1:6:2]\n",
    "print(f'5. data[1:6:2]: {a}')\n",
    "\n",
    "# 6. Una secuencia puede ser fácilmente invertida\n",
    "a = data[::-1]\n",
    "print(f'6. data[::-1]: {a}')"
   ]
  },
  {
   "cell_type": "markdown",
   "metadata": {
    "colab_type": "text",
    "id": "iT_HXzQ7QeYq"
   },
   "source": [
    "## *Named tuples*"
   ]
  },
  {
   "cell_type": "markdown",
   "metadata": {
    "colab_type": "text",
    "id": "QHUD7LyIQeYr"
   },
   "source": [
    "Los [*named tuples*](https://docs.python.org/3/library/collections.html#collections.namedtuple) son estructuras que permiten definir campos para cada una de las posiciones en que han sido ingresados los datos. Son útiles como una forma de agrupar datos. Generalmente, se utilizan como alternativa a las clases cuando los datos no tienen un comportamiento asociado. \n",
    "\n",
    "Este tipo de tupla requiere definir un objeto con los nombres de los atributos que tendrá la tupla. Para poder hacer uso de esta estructura se requiere importar el módulo `namedtuple` desde la librería `collections`. La inicialización básica de una `namedtuple` requiere un *string* con el nombre para el tipo de tupla y el nombre de los campos que tendrá, los que se entregan en una lista de *strings* como en el siguiente ejemplo:"
   ]
  },
  {
   "cell_type": "code",
   "execution_count": 6,
   "metadata": {
    "colab": {
     "autoexec": {
      "startup": false,
      "wait_interval": 0
     },
     "base_uri": "https://localhost:8080/",
     "height": 68,
     "output_extras": [
      {
       "item_id": 1
      }
     ]
    },
    "colab_type": "code",
    "executionInfo": {
     "elapsed": 641,
     "status": "ok",
     "timestamp": 1520880687215,
     "user": {
      "displayName": "Cristian Ruz",
      "photoUrl": "//lh4.googleusercontent.com/-0WhxkzATSqY/AAAAAAAAAAI/AAAAAAAAIqQ/WE7Rcv4pnN8/s50-c-k-no/photo.jpg",
      "userId": "108117710965209443485"
     },
     "user_tz": 180
    },
    "id": "EPktwjyAQeYt",
    "outputId": "d1ed7fd8-3518-4394-a49f-c4b8d2aac52a"
   },
   "outputs": [
    {
     "name": "stdout",
     "output_type": "stream",
     "text": [
      "13427974-5\n",
      "5\n",
      "<class '__main__.Register_type'>\n"
     ]
    }
   ],
   "source": [
    "from collections import namedtuple\n",
    "\n",
    "\n",
    "# Asignamos un nombre a la tupla (Register_type), y los nombres de los atributos que tendrá\n",
    "Register = namedtuple('Register_type', ['RUT', 'name', 'age'])\n",
    "\n",
    "# Instanciación e inicialización de la tupla\n",
    "c1 = Register('13427974-5', 'Christian', 20)\n",
    "c2 = Register('23066987-2', 'Dante', 5)\n",
    "\n",
    "print(c1.RUT)\n",
    "print(c2.age)\n",
    "print(type(c2))"
   ]
  },
  {
   "cell_type": "markdown",
   "metadata": {},
   "source": [
    "Al igual que las tuplas, las *named tuples* son inmutables."
   ]
  },
  {
   "cell_type": "code",
   "execution_count": 7,
   "metadata": {},
   "outputs": [
    {
     "ename": "AttributeError",
     "evalue": "can't set attribute",
     "output_type": "error",
     "traceback": [
      "\u001b[0;31m---------------------------------------------------------------------------\u001b[0m",
      "\u001b[0;31mAttributeError\u001b[0m                            Traceback (most recent call last)",
      "Cell \u001b[0;32mIn[7], line 1\u001b[0m\n\u001b[0;32m----> 1\u001b[0m \u001b[43mc1\u001b[49m\u001b[38;5;241;43m.\u001b[39;49m\u001b[43mname\u001b[49m \u001b[38;5;241m=\u001b[39m \u001b[38;5;124m'\u001b[39m\u001b[38;5;124mCristian\u001b[39m\u001b[38;5;124m'\u001b[39m\n",
      "\u001b[0;31mAttributeError\u001b[0m: can't set attribute"
     ]
    }
   ],
   "source": [
    "c1.name = 'Cristian'"
   ]
  }
 ],
 "metadata": {
  "colab": {
   "collapsed_sections": [],
   "default_view": {},
   "name": "01-introduccion.ipynb",
   "provenance": [],
   "version": "0.3.2",
   "views": {}
  },
  "kernelspec": {
   "display_name": "Python 3 (ipykernel)",
   "language": "python",
   "name": "python3"
  },
  "language_info": {
   "codemirror_mode": {
    "name": "ipython",
    "version": 3
   },
   "file_extension": ".py",
   "mimetype": "text/x-python",
   "name": "python",
   "nbconvert_exporter": "python",
   "pygments_lexer": "ipython3",
   "version": "3.10.4"
  }
 },
 "nbformat": 4,
 "nbformat_minor": 4
}
