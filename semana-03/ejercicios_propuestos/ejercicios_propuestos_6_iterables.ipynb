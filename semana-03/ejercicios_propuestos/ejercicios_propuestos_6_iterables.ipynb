{
 "cells": [
  {
   "cell_type": "markdown",
   "metadata": {},
   "source": [
    "<p>\n",
    "<font size='5' face='Georgia, Arial'>IIC-2233 Apunte Programación Avanzada</font><br>\n",
    "<font size='1'> Ejercicios creados a partir de 2019-2 por Equipo Docente IIC2233. </font>\n",
    "<font size='1'> Actualizados el 2023-2.</font>\n",
    "</p>\n",
    "\n",
    "\n",
    "# Ejercicios propuestos: Iterables\n",
    "## Iterables y generadores"
   ]
  },
  {
   "cell_type": "markdown",
   "metadata": {},
   "source": [
    "Los siguientes problemas se proveen como oportunidad de ejercitar los conceptos revisados en el material de **Iterables**. Si tienes dudas sobre algún problema o alguna solución, no dudes en dejar una *issue* en el [foro del curso](https://github.com/IIC2233/syllabus/issues)."
   ]
  },
  {
   "cell_type": "markdown",
   "metadata": {},
   "source": [
    "### Ejercicio 1: Iterador de números primos"
   ]
  },
  {
   "cell_type": "markdown",
   "metadata": {},
   "source": [
    "Para practicar tu comprensión sobre la materia de iterables, decidiste crear tu propia estructura iterable. Esta clase recibirá dos números, un mínimo y un máximo, de modo que al iterar sobre éste, devuelva los números primos en ese rango.\n",
    "\n",
    "Deberás completar el método `__iter__()` de la clase `IterablePrimos`, y los métodos `__iter__()` y `__next__()` de la clase `Iterador`. Puedes ayudarte usando la función auxiliar que te entregamos para saber si un número es primo o no, recuerda que el objetivo de este ejercicio es practicar sobre iterables e iteradores."
   ]
  },
  {
   "cell_type": "code",
   "execution_count": null,
   "metadata": {},
   "outputs": [],
   "source": [
    "def es_primo(nr):\n",
    "    if nr > 1:\n",
    "        for i in range(2, nr):\n",
    "            if not (nr % i):\n",
    "                return False\n",
    "        return True\n",
    "    return False"
   ]
  },
  {
   "cell_type": "code",
   "execution_count": null,
   "metadata": {},
   "outputs": [],
   "source": [
    "class IterablePrimos:\n",
    "    \n",
    "    def __init__(self, inicio, fin):\n",
    "        self.inicio = inicio\n",
    "        self.fin = fin\n",
    "    \n",
    "    def __iter__(self):\n",
    "        # Completar\n",
    "        pass"
   ]
  },
  {
   "cell_type": "markdown",
   "metadata": {},
   "source": [
    "Puedes usar la siguiente celda para probar tu implementación de las clases anteriores:"
   ]
  },
  {
   "cell_type": "code",
   "execution_count": null,
   "metadata": {},
   "outputs": [],
   "source": [
    "iterable_primos = IterablePrimos(1, 25)\n",
    "for i in iterable_primos:\n",
    "    print(i)"
   ]
  },
  {
   "cell_type": "markdown",
   "metadata": {},
   "source": [
    "### Ejercicio 2: Generador de serie armónica"
   ]
  },
  {
   "cell_type": "markdown",
   "metadata": {},
   "source": [
    "Para comenzar se te pedirá que realices un generador que permita aproximar una serie armónica infinita, expresada matemáticamente de la siguiente forma:\n",
    "\n",
    "![](../img/Ejercicio_propuesto.PNG)\n",
    "\n",
    "Como puedes ver, esta suma consiste en sumar $n$ iteraciones (hasta el infinito, en teoría) donde se va acumulando la suma de los inversos multiplicativos de cada número (es decir, el i-ésimo elemento sumado corresponde a $1/i$).\n",
    "\n",
    "Para empezar, te pedimos que definas un generador que retorne cada valor a sumar, donde el i-ésimo valor generado corresponda a $1/i$.\n",
    "\n",
    "**Ojo: no tienes que definir tu generador hasta infinito, ya que la capacidad de cómputo de tu computador es finita. Basta con que lo definas para calcular hasta $n=10$, por ejemplo.**"
   ]
  },
  {
   "cell_type": "code",
   "execution_count": null,
   "metadata": {},
   "outputs": [],
   "source": [
    "# Aquí define tu (generador)\n",
    "generador_serie_armonica = #Completar"
   ]
  },
  {
   "cell_type": "code",
   "execution_count": null,
   "metadata": {},
   "outputs": [],
   "source": [
    "# Aquí imprime cada valor del generador\n",
    "for i in generador_serie_armonica:\n",
    "    print(i)"
   ]
  },
  {
   "cell_type": "markdown",
   "metadata": {},
   "source": [
    "A continuación, como ya lograste imprimir cada uno de los elementos de la serie armónica, utiliza tu generador para calcular el resultado de la sumatoria.\n",
    "\n",
    "**Hint: te recomendamos usar `sum`.**"
   ]
  },
  {
   "cell_type": "code",
   "execution_count": null,
   "metadata": {},
   "outputs": [],
   "source": [
    "# ¡Recuerda que los valores de un generador se gastan!\n",
    "# (Para n=10, la suma debería darte cerca de 2.92897)\n",
    "sum(#Completar)  "
   ]
  }
 ],
 "metadata": {
  "kernelspec": {
   "display_name": "Python 3 (ipykernel)",
   "language": "python",
   "name": "python3"
  },
  "language_info": {
   "codemirror_mode": {
    "name": "ipython",
    "version": 3
   },
   "file_extension": ".py",
   "mimetype": "text/x-python",
   "name": "python",
   "nbconvert_exporter": "python",
   "pygments_lexer": "ipython3",
   "version": "3.10.10"
  }
 },
 "nbformat": 4,
 "nbformat_minor": 2
}
