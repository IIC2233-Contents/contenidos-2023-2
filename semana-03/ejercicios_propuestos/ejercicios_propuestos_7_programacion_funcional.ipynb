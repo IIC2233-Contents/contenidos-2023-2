{
 "cells": [
  {
   "cell_type": "markdown",
   "metadata": {},
   "source": [
    "<p>\n",
    "<font size='5' face='Georgia, Arial'>IIC-2233 Apunte Programación Avanzada</font><br>\n",
    "<font size='1'> Ejercicios creados a partir de 2019-2 por Equipo Docente IIC2233. </font>\n",
    "<font size='1'> Actualizados el 2023-2.</font>\n",
    "</p>\n",
    "\n",
    "\n",
    "# Ejercicios propuestos: Iterables\n",
    "## Programación funcional"
   ]
  },
  {
   "cell_type": "markdown",
   "metadata": {},
   "source": [
    "Los siguientes problemas se proveen como oportunidad de ejercitar los conceptos revisados en el material de **Iterables**. Si tienes dudas sobre algún problema o alguna solución, no dudes en dejar una *issue* en el [foro del curso](https://github.com/IIC2233/syllabus/issues)."
   ]
  },
  {
   "cell_type": "markdown",
   "metadata": {},
   "source": [
    "### Ejercicio 1: Similitud entre textos"
   ]
  },
  {
   "cell_type": "markdown",
   "metadata": {},
   "source": [
    "Se te ha hecho entrega de tres textos distintos y quieres saber cual de los tres posibles pares que se pueden armar entre estos se parece más. La métrica para medir que tanto se parecen dos textos es en cuantos índices los textos tienen exactamente el mismo caracter, por ejemplo para `hola` y `bola` esta métrica es 3.\n",
    "\n",
    "El problema es que estos textos podrían se extremadamente grandes, libros enteros incluso, por lo cual se te pide que utilices unas funciones particulares para resolver el problema. En especifico, las funciones `map` y `filter`."
   ]
  },
  {
   "cell_type": "code",
   "execution_count": null,
   "metadata": {},
   "outputs": [],
   "source": [
    "text_1 = \"Lorem ipsum dolor sit amet, consectetur adipiscing elit. Etiam fringilla est justo, et suscipit lacus hendrerit quis. Curabitur ultricies rutrum risus, vitae suscipit sem facilisis ultrices. Proin hendrerit, nunc sit amet rutrum sagittis, dui augue venenatis turpis, convallis semper quam eros non elit. Etiam tempor diam velit, eu vestibulum orci sodales gravida. Donec lacus felis, tempor non sem ut, elementum condimentum velit. Proin vehicula tempus quam, quis sodales metus lacinia nec. Pellentesque habitant morbi tristique senectus et netus et malesuada fames ac turpis egestas. Nunc ipsum risus, bibendum vel nisi ac, placerat tempor nisi. Curabitur vehicula fringilla fringilla. Donec fringilla eu elit ut condimentum. Aenean eu facilisis dolor. Phasellus a pharetra quam. Nunc a sagittis dolor, ut scelerisque nisi. Fusce interdum neque id laoreet commodo.\"\n",
    "text_2 = \"Nullam eu orci non velit commodo tincidunt. Quisque posuere ipsum id orci cursus consequat. Suspendisse eget aliquam risus. Morbi eget lorem orci. Pellentesque ut ornare est. Phasellus rhoncus laoreet felis, vitae dictum felis pharetra eu. Duis justo risus, mattis mattis sapien vitae, efficitur commodo leo. Duis vitae scelerisque sapien, id tristique mauris. Donec quis posuere nunc. Fusce laoreet, nunc eu blandit molestie, arcu enim aliquet velit, vel sagittis mauris diam et urna. In in ullamcorper velit. Class aptent taciti sociosqu ad litora torquent per conubia nostra, per inceptos himenaeos. Pellentesque semper, lectus sed posuere finibus, turpis nibh vestibulum ligula, varius sagittis purus ipsum et purus. Maecenas faucibus magna vel dolor dapibus, quis hendrerit mauris pellentesque. Quisque semper dolor mauris, sit amet congue erat ultricies et. Integer consequat facilisis arcu, vel scelerisque erat dictum vitae.\"\n",
    "text_3 = \"Suspendisse tincidunt accumsan neque, ac sollicitudin mi condimentum a. Phasellus at posuere ligula. Curabitur a sem eu tellus ornare scelerisque faucibus non quam. In egestas, enim sit amet vulputate pretium, quam lorem convallis est, non aliquet libero lorem sit amet magna. Vestibulum lacinia elit tellus, ut dapibus lorem imperdiet in. In hac habitasse platea dictumst. Nulla placerat vestibulum ligula. Pellentesque lectus orci, placerat in tristique non, lobortis quis erat. Suspendisse rhoncus, nisi ac mattis finibus, ipsum libero egestas ligula, sit amet pellentesque sapien nulla at odio.\"\n",
    "\n",
    "# Ingresa tu código despues de esta linea."
   ]
  },
  {
   "cell_type": "markdown",
   "metadata": {},
   "source": [
    "### Ejercicio 2: Cambiador de texto"
   ]
  },
  {
   "cell_type": "markdown",
   "metadata": {},
   "source": [
    "Luego de haber aprendido a usar listas por compresión y `reduce`, se te ocurre darle un uso entretenido, por lo que decides hacer un cambiador de texto. Este recibirá una lista con palabras y la procesará para dejar en mayúsculas todas aquellas palabras que comienzan con la letra a (puedes usarlo para otras letras también). A continuación de te entrega la lista con palabras:"
   ]
  },
  {
   "cell_type": "code",
   "execution_count": null,
   "metadata": {},
   "outputs": [],
   "source": [
    "texto = [\"hola\", \"me\", \"llamo\", \"amalia\", \"y\", \"me\", \"gustan\", \"las\", \"abejas\", \"y\", \"los\", \"arándanos\"]"
   ]
  },
  {
   "cell_type": "markdown",
   "metadata": {},
   "source": [
    "A continuación tendrás que utilizar listas por compresión para identificar las palabras y luego dejar en mayúscula las que empiezan con a:"
   ]
  },
  {
   "cell_type": "code",
   "execution_count": null,
   "metadata": {},
   "outputs": [],
   "source": [
    "palabras_con_a_inicial = [# Completar]"
   ]
  },
  {
   "cell_type": "markdown",
   "metadata": {},
   "source": [
    "Y finalmente `reduce`, para juntar nuevamente el texto."
   ]
  },
  {
   "cell_type": "code",
   "execution_count": null,
   "metadata": {},
   "outputs": [],
   "source": [
    "from functools import reduce\n",
    "texto = reduce(# Completar)\n",
    "print(texto)"
   ]
  },
  {
   "cell_type": "markdown",
   "metadata": {},
   "source": [
    "### Ejercicio 3: Limpiando datos"
   ]
  },
  {
   "cell_type": "markdown",
   "metadata": {},
   "source": [
    "En este ejercicio te daremos tres iterables con mucha información inútil, dentro de la cual hay un atributo en específico que es de interés. Deberás utilizar `map`, `filter` y/o `reduce` para extraer la información que necesitas. \n",
    "\n",
    "En la siguiente celda se carga la información a utilizar:"
   ]
  },
  {
   "cell_type": "code",
   "execution_count": null,
   "metadata": {},
   "outputs": [],
   "source": [
    "import os\n",
    "from collections import namedtuple\n",
    "\n",
    "\n",
    "Trash = namedtuple(\"Trash\", [\"trash_1\", \"trash_2\", \"trash_3\"])\n",
    "with open(os.path.join(\"data\", \"nombres.csv\")) as file:\n",
    "    nombres = file.read().splitlines()\n",
    "    \n",
    "with open(os.path.join(\"data\", \"apellidos.csv\")) as file:\n",
    "    apellidos = [Trash(*data.split(\",\")) for data in file.read().splitlines()]\n",
    "\n",
    "with open(os.path.join(\"data\", \"saldos.csv\")) as file:\n",
    "    saldos = list(map(int, file.read().splitlines()))"
   ]
  },
  {
   "cell_type": "markdown",
   "metadata": {},
   "source": [
    "Esta base de datos tiene información respecto a una persona y su estado económico. Esto es representado por su nombre, su apellido y sus ahorros en millones de pesos.\n",
    "\n",
    "En primer lugar en el iterable `nombres` se encuentran todos los nombres de las personas, sin embargo se encuentran mezclados con *strings* corruptos. Los *strings* corruptos están compuestos solo por números.\n",
    "\n",
    "Deberás utilizar las funciones apropiadas para extraer solo los strings que **no son corruptos**. \n",
    "\n",
    "**Hint:** puedes utilizar el método `isnumeric` de los *strings*, para verificar si un *string* está compuesto solo por números."
   ]
  },
  {
   "cell_type": "code",
   "execution_count": null,
   "metadata": {},
   "outputs": [],
   "source": [
    "# Este proceso es símil a la función filter\n",
    "# Escribe tu código aquí:\n",
    "nombres_arreglados = "
   ]
  },
  {
   "cell_type": "markdown",
   "metadata": {},
   "source": [
    "En segundo lugar en el iterable `apellidos` se encuentran todos los apellidos de las personas, sin embargo los datos del archivo han sido cargados a un `namedtuple` llamado `Trash`. Este tiene tres elementos, del cual solo nos interesa `trash_3`. \n",
    "\n",
    "Deberás utilizar las funciones apropiadas para extraer solo el atributo `trash_3` de cada elemento del iterable."
   ]
  },
  {
   "cell_type": "code",
   "execution_count": null,
   "metadata": {},
   "outputs": [],
   "source": [
    "# Este proceso es símil a la función map\n",
    "# Escribe tu código aquí:\n",
    "apellidos_arreglados = "
   ]
  },
  {
   "cell_type": "markdown",
   "metadata": {},
   "source": [
    "Finalmente en el iterable `dinero` se encuentran todas las ganacias de las personas, sin embargo los datos se encuentran repetidos múltiples veces.\n",
    "\n",
    "Deberás utilizar las funciones apropiadas para eliminar la información repetida."
   ]
  },
  {
   "cell_type": "code",
   "execution_count": null,
   "metadata": {},
   "outputs": [],
   "source": [
    "# Escribe tu código aquí:\n",
    "saldos_arreglados = "
   ]
  },
  {
   "cell_type": "markdown",
   "metadata": {},
   "source": [
    "Ahora que tienes todos tus resultados, es hora de mostrarlos adecuadamente. Deseas mostrar los tres datos uno al lado del otro más una numeración adecuada.\n",
    "\n",
    "Podrían serte útiles `zip` y `enumerate`."
   ]
  },
  {
   "cell_type": "code",
   "execution_count": null,
   "metadata": {},
   "outputs": [],
   "source": [
    "# Escribe tu código aquí:"
   ]
  },
  {
   "cell_type": "markdown",
   "metadata": {},
   "source": [
    "### Ejercicio 4: Cruzando información"
   ]
  },
  {
   "cell_type": "markdown",
   "metadata": {},
   "source": [
    "**Nota: Este es un buen ejercicio para combinar tus conocimientos sobre iteradores en conjunto con comprensión de listas.**\n",
    "\n",
    "Continuando con el ejercicio anterior, ahora deberás manejar los datos mediante `map` y `filter`. "
   ]
  },
  {
   "cell_type": "code",
   "execution_count": null,
   "metadata": {},
   "outputs": [],
   "source": [
    "datos = list(zip(nombres_arreglados, apellidos_arreglados, saldos_arreglados))\n",
    "print(datos[:5])\n",
    "# Si lo ves vacío, recuerda volver a cargar los datos (los generadores se consumen una vez)"
   ]
  },
  {
   "cell_type": "markdown",
   "metadata": {},
   "source": [
    "Primero, queremos obtener una lista con los nombres completos de cada persona, es decir, nombre + apellido, utilizando `map`. "
   ]
  },
  {
   "cell_type": "code",
   "execution_count": null,
   "metadata": {},
   "outputs": [],
   "source": [
    "# Escribe tu código acá\n",
    "nombres_completos = list()\n",
    "nombres_completos[:5]"
   ]
  },
  {
   "cell_type": "markdown",
   "metadata": {},
   "source": [
    "También deseamos saber quienes tienen un saldo entre 8 y 15. La función `filter` permite esto fácilmente."
   ]
  },
  {
   "cell_type": "code",
   "execution_count": null,
   "metadata": {},
   "outputs": [],
   "source": [
    "# Escribe tu código acá\n",
    "filtrado = list()\n",
    "print(filtrado)"
   ]
  },
  {
   "cell_type": "markdown",
   "metadata": {},
   "source": [
    "Pero, esto no se ve bien, utilicemos `map` para ver sólo el nombre y apellido."
   ]
  },
  {
   "cell_type": "code",
   "execution_count": null,
   "metadata": {},
   "outputs": [],
   "source": [
    "# Escribe tu código acá\n",
    "nombres_filtro = list()\n",
    "print(nombres_filtro)"
   ]
  },
  {
   "cell_type": "markdown",
   "metadata": {},
   "source": [
    "Por último, muestra el nombre de las personas cuyo nombre empieza con la misma letra que su apellido."
   ]
  },
  {
   "cell_type": "code",
   "execution_count": null,
   "metadata": {},
   "outputs": [],
   "source": [
    "# Escribe tu código acá\n"
   ]
  }
 ],
 "metadata": {
  "kernelspec": {
   "display_name": "Python 3 (ipykernel)",
   "language": "python",
   "name": "python3"
  },
  "language_info": {
   "codemirror_mode": {
    "name": "ipython",
    "version": 3
   },
   "file_extension": ".py",
   "mimetype": "text/x-python",
   "name": "python",
   "nbconvert_exporter": "python",
   "pygments_lexer": "ipython3",
   "version": "3.10.10"
  }
 },
 "nbformat": 4,
 "nbformat_minor": 2
}
