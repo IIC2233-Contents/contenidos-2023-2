{
 "cells": [
  {
   "cell_type": "markdown",
   "metadata": {},
   "source": [
    "<p>\n",
    "<font size='5' face='Georgia, Arial'>IIC2233 Apunte Programación Avanzada</font><br>\n",
    "<font size='1'>&copy; 2015 Karim Pichara - Christian Pieringer. Todos los derechos reservados.</font>\n",
    "<br>\n",
    "<font size='1'> Modificado desde 2018-1 al 2023-2 por Equipo Docente IIC2233</font>\n",
    "</p>"
   ]
  },
  {
   "cell_type": "markdown",
   "metadata": {},
   "source": [
    "# Tabla de contenidos\n",
    "\n",
    "1. [Iterables](#Iterables)\n",
    "    1. [Iterar sobre estructuras de datos](#Iterar-sobre-estructuras-de-datos)\n",
    "    2. [Forma básica de hacer una estructura iterable](#Forma-básica-de-hacer-una-estructura-iterable)\n",
    "    3. [Ejemplos de iteradores personalizados](#Ejemplos-de-iteradores-personalizados)\n",
    "1. [Generadores](#Generadores)\n",
    "    1. [Ejemplos](#Ejemplos)\n",
    "    2. [Otra forma de hacer iterable una estructura propia](#Otra-forma-de-hacer-iterable-una-estructura-propia)\n",
    "    3. [También podemos interactuar con la función generadora enviando mensajes](#También-podemos-interactuar-con-la-función-generadora-enviando-mensajes)"
   ]
  },
  {
   "cell_type": "markdown",
   "metadata": {},
   "source": [
    "# Iterables\n",
    "\n",
    "Esta semana además revisaremos técnicas que diversos lenguajes, entre ellos Python, proveen para recorrer estructuras de datos de manera sencilla y genérica. Veremos cómo implementar estos elementos y aplicar a estructuras existentes, o a estructuras creadas por nosotros."
   ]
  },
  {
   "cell_type": "markdown",
   "metadata": {},
   "source": [
    "## Iterar sobre estructuras de datos \n",
    "\n",
    "En muchas ocasiones implementaremos estructuras de datos en que resulta natural la noción de que pueden ser recorridas. Este es el caso para estructuras que hemos visto como listas, tuplas, *sets* y diccionarios. Nos gustaría que, cuando hagamos nuestras propias estructuras, algunas también puedan ser recorridas utilizando `for`, como lo haríamos con una lista. Para esto hay que entender dos conceptos claves: **iterable** e **iterador**.\n",
    "\n",
    "Un **iterable** es cualquier **objeto sobre el cual se puede iterar**. Un **iterable** podría aparecer al lado derecho de un `for` (`for i in iterable:`). Estructuras *built-ins* como *sets*, listas y diccionarios, son **iterables**.\n",
    "\n",
    "Un **iterable** siempre tiene **implementado el método** **`__iter__()`**. Se puede iterar todas las veces que uno quiera sobre un iterable, como es el caso de las listas. No es necesario que el objeto iterable se pueda indexar. Por ejemplo, los *sets* no se indexan, pero sí podemos iterar sobre ellos, como en el siguiente ejemplo:"
   ]
  },
  {
   "cell_type": "code",
   "execution_count": 5,
   "metadata": {},
   "outputs": [
    {
     "name": "stdout",
     "output_type": "stream",
     "text": [
      "1, 3, 4, 6, "
     ]
    }
   ],
   "source": [
    "# Un set no es indexable, pero sí es iterable.\n",
    "conjunto = {1, 3, 4, 6}\n",
    "\n",
    "for i in conjunto:\n",
    "    print(i, end=\", \")"
   ]
  },
  {
   "cell_type": "markdown",
   "metadata": {},
   "source": [
    "**Nota**: usamos `print(i, end=\" \")` donde `end=\" \"` para que el fin de un `print` sea solo un espacio y no un salto de línea (`\\n`). Así el print va hacia la derecha en vez de un número por línea."
   ]
  },
  {
   "cell_type": "markdown",
   "metadata": {},
   "source": [
    "Por otra parte, un **iterador** es un **objeto que itera sobre un iterable**, y es el objeto retornado por el método `__iter__()`. Este objeto iterador implementa el método `__next__()`, que nos retorna uno a uno los elementos de la estructura cada vez que se invoca a esta función. Cuando no quedan objetos por recorrer el iterador **debe** levantar una excepción de tipo `StopIteration`. "
   ]
  },
  {
   "cell_type": "code",
   "execution_count": 17,
   "metadata": {},
   "outputs": [
    {
     "name": "stdout",
     "output_type": "stream",
     "text": [
      "<class 'set_iterator'>\n",
      "<set_iterator object at 0x00000156746E3CC0>\n",
      "1\n",
      "3\n",
      "4\n"
     ]
    }
   ],
   "source": [
    "# iter(conjunto) nos entrega un objeto que itera sobre ese conjunto.\n",
    "conjunto = {1, 3, 4, 6}\n",
    "iterador = iter(conjunto)  # Esto es lo mismo que conjunto.__iter__()\n",
    "print(type(iterador))\n",
    "\n",
    "print(iterador)\n",
    "\n",
    "# Ahora vamos a invocar a next para que el iterador nos entregue\n",
    "# el siguiente valor del iterable\n",
    "print(next(iterador))      # Esto es lo mismo que iterador.__next__()\n",
    "print(next(iterador))\n",
    "print(next(iterador))"
   ]
  },
  {
   "cell_type": "markdown",
   "metadata": {},
   "source": [
    "Si al iterador le pedimos más elementos de los que tiene la estructura, levantará una excepción de tipo `StopIteration`."
   ]
  },
  {
   "cell_type": "code",
   "execution_count": 13,
   "metadata": {},
   "outputs": [
    {
     "name": "stdout",
     "output_type": "stream",
     "text": [
      "6\n"
     ]
    },
    {
     "ename": "StopIteration",
     "evalue": "",
     "output_type": "error",
     "traceback": [
      "\u001b[1;31m---------------------------------------------------------------------------\u001b[0m",
      "\u001b[1;31mStopIteration\u001b[0m                             Traceback (most recent call last)",
      "Cell \u001b[1;32mIn[13], line 2\u001b[0m\n\u001b[0;32m      1\u001b[0m \u001b[38;5;28mprint\u001b[39m(\u001b[38;5;28mnext\u001b[39m(iterador))\n\u001b[1;32m----> 2\u001b[0m \u001b[38;5;28mprint\u001b[39m(\u001b[38;5;28;43mnext\u001b[39;49m\u001b[43m(\u001b[49m\u001b[43miterador\u001b[49m\u001b[43m)\u001b[49m)\n",
      "\u001b[1;31mStopIteration\u001b[0m: "
     ]
    }
   ],
   "source": [
    "print(next(iterador))\n",
    "print(next(iterador))"
   ]
  },
  {
   "cell_type": "markdown",
   "metadata": {},
   "source": [
    "**Recordar** \n",
    "\n",
    "> Un iterable debe tener el método `__iter__` implementado, y debe retornar **siempre** un iterador. Por su parte, un iterador es un objeto que tiene el método `__next__` implementado, es decir puedo hacer `next(iterador)` y esto retornará un **valor**."
   ]
  },
  {
   "cell_type": "markdown",
   "metadata": {},
   "source": [
    "### Forma básica de hacer una estructura iterable\n",
    "\n",
    "Ahora veremos la forma más básica de crear un iterable, que es creando una **clase iteradora**. Hay más formas de hacer que una estructura sea iterable sin crear una nueva clase, entre ellas una que veremos [más adelante](#Otra-forma-de-hacer-iterable-una-estructura-propia).\n",
    "\n",
    "Empezamos creando una clase `Iterable` que implementará el método `__iter__`. "
   ]
  },
  {
   "cell_type": "code",
   "execution_count": 18,
   "metadata": {},
   "outputs": [],
   "source": [
    "class Iterable:\n",
    "    \n",
    "    def __init__(self, objeto):\n",
    "        self.objeto = objeto\n",
    "    \n",
    "    def __iter__(self):\n",
    "        return Iterador(self.objeto)"
   ]
  },
  {
   "cell_type": "markdown",
   "metadata": {},
   "source": [
    "Ahora creamos la clase `Iterador` que será la encargada de iterar sobre el iterable. Esta clase debe implementar el método `__next__` que retornará los valores.\n",
    "\n",
    "El método `__iter__` sólo debe retornar `self`. Es posible no implementarlo, pero no será posible obtener el iterador `iterador = iter(iterable)` y luego usar el iterador directamente en el `for`.\n",
    "\n",
    "En general, los iteradores no se pueden reiniciar."
   ]
  },
  {
   "cell_type": "code",
   "execution_count": 20,
   "metadata": {},
   "outputs": [],
   "source": [
    "class Iterador:\n",
    "    \n",
    "    def __init__(self, iterable):\n",
    "        # Hacemos una copia del iterable para no afectar los valores originales\n",
    "        self.iterable = iterable.copy()\n",
    "    \n",
    "    def __iter__(self): \n",
    "        return self\n",
    "    \n",
    "    def __next__(self):\n",
    "        if not self.iterable:\n",
    "            # Levantamos una excepción del tipo StopIteration\n",
    "            # con el mensaje \"Llegamos al final\".\n",
    "            raise StopIteration(\"Llegamos al final\")\n",
    "        else:\n",
    "            valor = self.iterable.pop(0)\n",
    "            return valor"
   ]
  },
  {
   "cell_type": "markdown",
   "metadata": {},
   "source": [
    "Ahora vamos a generar nuestro iterable con los datos de una lista."
   ]
  },
  {
   "cell_type": "code",
   "execution_count": 21,
   "metadata": {},
   "outputs": [
    {
     "name": "stdout",
     "output_type": "stream",
     "text": [
      "1 2 3 4 5 "
     ]
    }
   ],
   "source": [
    "datos = [1, 2, 3, 4, 5]\n",
    "iterable = Iterable(datos)\n",
    "for i in iterable:\n",
    "    print(i, end=\" \")"
   ]
  },
  {
   "cell_type": "markdown",
   "metadata": {},
   "source": [
    "Recordemos que un iterable se puede iterar las veces que uno quiera. Si volvermos a hacer el `for`:"
   ]
  },
  {
   "cell_type": "code",
   "execution_count": 22,
   "metadata": {},
   "outputs": [
    {
     "name": "stdout",
     "output_type": "stream",
     "text": [
      "1 2 3 4 5 "
     ]
    }
   ],
   "source": [
    "for i in iterable:\n",
    "    print(i, end=\" \")"
   ]
  },
  {
   "cell_type": "markdown",
   "metadata": {},
   "source": [
    "Por otro lado, si usamos un **iterador**, este solo funcionará una vez."
   ]
  },
  {
   "cell_type": "code",
   "execution_count": 25,
   "metadata": {},
   "outputs": [
    {
     "name": "stdout",
     "output_type": "stream",
     "text": [
      "1 2 3 4 5 "
     ]
    }
   ],
   "source": [
    "iterador = Iterador(datos)\n",
    "# Primer intento\n",
    "for i in iterador:\n",
    "    print(i, end=\" \")\n",
    "    \n",
    "# Segundo intento con el mismo iterador\n",
    "for i in iterador:\n",
    "    print(i, end=\" \")"
   ]
  },
  {
   "cell_type": "markdown",
   "metadata": {},
   "source": [
    "Por este motivo, cada vez que queramos tener una conjunto de datos iterable, tenemos que construir un `Iterable` cuyo método `__iter__` retorne un nuevo `Iterador`. De este modo, cada vez que hagamos `for`, se retorna un nuevo `Iterador`."
   ]
  },
  {
   "cell_type": "markdown",
   "metadata": {},
   "source": [
    "Ahora, vemos un nuevo caso:  **si el iterador no implementa `__iter__`**"
   ]
  },
  {
   "cell_type": "code",
   "execution_count": 26,
   "metadata": {},
   "outputs": [],
   "source": [
    "class IterableMalo:\n",
    "    \n",
    "    def __init__(self, objeto):\n",
    "        self.objeto = objeto\n",
    "    \n",
    "    def __iter__(self):\n",
    "        return IteradorMalo(self.objeto)\n",
    "\n",
    "    \n",
    "class IteradorMalo:\n",
    "    \n",
    "    def __init__(self, iterable):\n",
    "        self.iterable = iterable.copy()\n",
    "    \n",
    "    def __next__(self):\n",
    "        if not self.iterable:\n",
    "            raise StopIteration(\"Llegamos al final\")\n",
    "        else:           \n",
    "            valor = self.iterable.pop(0)\n",
    "            return valor"
   ]
  },
  {
   "cell_type": "code",
   "execution_count": 27,
   "metadata": {},
   "outputs": [
    {
     "ename": "TypeError",
     "evalue": "'IteradorMalo' object is not iterable",
     "output_type": "error",
     "traceback": [
      "\u001b[1;31m---------------------------------------------------------------------------\u001b[0m",
      "\u001b[1;31mTypeError\u001b[0m                                 Traceback (most recent call last)",
      "Cell \u001b[1;32mIn[27], line 3\u001b[0m\n\u001b[0;32m      1\u001b[0m iterable \u001b[38;5;241m=\u001b[39m IterableMalo(datos)\n\u001b[0;32m      2\u001b[0m iterador \u001b[38;5;241m=\u001b[39m \u001b[38;5;28miter\u001b[39m(iterable)\n\u001b[1;32m----> 3\u001b[0m \u001b[38;5;28;01mfor\u001b[39;00m i \u001b[38;5;129;01min\u001b[39;00m iterador:\n\u001b[0;32m      4\u001b[0m     \u001b[38;5;28mprint\u001b[39m(i, end\u001b[38;5;241m=\u001b[39m\u001b[38;5;124m\"\u001b[39m\u001b[38;5;124m \u001b[39m\u001b[38;5;124m\"\u001b[39m)\n",
      "\u001b[1;31mTypeError\u001b[0m: 'IteradorMalo' object is not iterable"
     ]
    }
   ],
   "source": [
    "iterable = IterableMalo(datos)\n",
    "iterador = iter(iterable)\n",
    "for i in iterador:\n",
    "    print(i, end=\" \")"
   ]
  },
  {
   "cell_type": "markdown",
   "metadata": {},
   "source": [
    "Esto ocurre porque `IteradorMalo` no tiene `__iter__` y por lo tanto, para el `for` esta clase no es **iterable**."
   ]
  },
  {
   "cell_type": "markdown",
   "metadata": {},
   "source": [
    "Como se mencionó anteriormente, un iterador solo se puede recorrer una vez. La ventaja de esto es que podemos iterrumpir el recorrido y luego continuar desde el punto en que lo dejamos:"
   ]
  },
  {
   "cell_type": "code",
   "execution_count": 28,
   "metadata": {},
   "outputs": [
    {
     "name": "stdout",
     "output_type": "stream",
     "text": [
      "1 2 3 "
     ]
    }
   ],
   "source": [
    "iterable = Iterable(datos)\n",
    "iterador = iter(iterable)\n",
    "for i in iterador:\n",
    "    print(i, end=\" \")\n",
    "    if i >= 3:\n",
    "        break"
   ]
  },
  {
   "cell_type": "code",
   "execution_count": 29,
   "metadata": {},
   "outputs": [
    {
     "name": "stdout",
     "output_type": "stream",
     "text": [
      "4 5 "
     ]
    }
   ],
   "source": [
    "for i in iterador:\n",
    "    print(i, end=\" \")"
   ]
  },
  {
   "cell_type": "markdown",
   "metadata": {},
   "source": [
    "Para empezar nuevamente a iterar, debemos **obtener otro iterador**. El código de abajo funciona, debido a que cuando se invoca otra vez la función `__iter__` del iterable debido al `for`, se retorna un **nuevo iterador**."
   ]
  },
  {
   "cell_type": "code",
   "execution_count": 30,
   "metadata": {},
   "outputs": [
    {
     "name": "stdout",
     "output_type": "stream",
     "text": [
      "1 2 3 4 5 "
     ]
    }
   ],
   "source": [
    "for i in iterable:\n",
    "    print(i, end=\" \")"
   ]
  },
  {
   "cell_type": "markdown",
   "metadata": {},
   "source": [
    "Cada iterador tiene su propia memoria, la cual **no depende del iterable**. Para verlo, creamos dos iteradores:"
   ]
  },
  {
   "cell_type": "code",
   "execution_count": 31,
   "metadata": {},
   "outputs": [],
   "source": [
    "iterador_1 = iter(iterable)\n",
    "iterador_2 = iter(iterable)"
   ]
  },
  {
   "cell_type": "markdown",
   "metadata": {},
   "source": [
    "Utilizamos el primero sólo tres veces:"
   ]
  },
  {
   "cell_type": "code",
   "execution_count": 32,
   "metadata": {},
   "outputs": [
    {
     "name": "stdout",
     "output_type": "stream",
     "text": [
      "1 2 3 "
     ]
    }
   ],
   "source": [
    "for i in iterador_1:\n",
    "    print(i, end=\" \")\n",
    "    if i >= 3:\n",
    "        break"
   ]
  },
  {
   "cell_type": "markdown",
   "metadata": {},
   "source": [
    "Y el segundo iterador recorre la colección otra vez, independiente de lo recorrido por el primero."
   ]
  },
  {
   "cell_type": "code",
   "execution_count": 33,
   "metadata": {},
   "outputs": [
    {
     "name": "stdout",
     "output_type": "stream",
     "text": [
      "1 2 3 4 5 "
     ]
    }
   ],
   "source": [
    "for i in iterador_2:\n",
    "    print(i, end=\" \")"
   ]
  },
  {
   "cell_type": "markdown",
   "metadata": {},
   "source": [
    "Pero si volvemos a recorrer la estructura con el primer iterador (que sólo usamos tres veces), continuaremos desde donde lo dejamos:"
   ]
  },
  {
   "cell_type": "code",
   "execution_count": 34,
   "metadata": {},
   "outputs": [
    {
     "name": "stdout",
     "output_type": "stream",
     "text": [
      "4 5 "
     ]
    }
   ],
   "source": [
    "for i in iterador_1:\n",
    "    print(i, end=\" \")"
   ]
  },
  {
   "cell_type": "markdown",
   "metadata": {},
   "source": [
    "Por último, una vez que el iterador agotó la estructura de datos no lo podemos utilizar de nuevo."
   ]
  },
  {
   "cell_type": "code",
   "execution_count": 35,
   "metadata": {},
   "outputs": [],
   "source": [
    "for i in iterador_1:\n",
    "    print(i, end=\" \")"
   ]
  },
  {
   "cell_type": "markdown",
   "metadata": {},
   "source": [
    "## Ejemplos de iteradores personalizados\n",
    "\n",
    "Un iterador no solo nos permite recorrer los elementos de un objeto iterable, sino que también permite definir la forma en que estos elementos serán recorridos."
   ]
  },
  {
   "cell_type": "code",
   "execution_count": 36,
   "metadata": {},
   "outputs": [],
   "source": [
    "datos = [5, 1, 3, 2, 4]"
   ]
  },
  {
   "cell_type": "markdown",
   "metadata": {},
   "source": [
    "Actualmente podemos según el orden propio del iterable:"
   ]
  },
  {
   "cell_type": "code",
   "execution_count": 37,
   "metadata": {},
   "outputs": [
    {
     "name": "stdout",
     "output_type": "stream",
     "text": [
      "5 1 3 2 4 "
     ]
    }
   ],
   "source": [
    "class IteradorOriginal:\n",
    "\n",
    "    def __init__(self, iterable):\n",
    "        self.iterable = iterable.copy()\n",
    "\n",
    "    def __iter__(self): \n",
    "        return self\n",
    "\n",
    "    def __next__(self):\n",
    "        if not self.iterable:\n",
    "            raise StopIteration(\"Llegamos al final\")\n",
    "        else:\n",
    "            valor = self.iterable.pop(0)\n",
    "            return valor\n",
    "\n",
    "\n",
    "iterable = IteradorOriginal(datos)\n",
    "for i in iter(iterable):\n",
    "    print(i, end=\" \")"
   ]
  },
  {
   "cell_type": "markdown",
   "metadata": {},
   "source": [
    "Pero nos podemos asegurar de recorrer los elementos de forma ordenada:"
   ]
  },
  {
   "cell_type": "code",
   "execution_count": 38,
   "metadata": {},
   "outputs": [
    {
     "name": "stdout",
     "output_type": "stream",
     "text": [
      "1 2 3 4 5 "
     ]
    }
   ],
   "source": [
    "class IteradorOrdenado:\n",
    "\n",
    "    def __init__(self, iterable):\n",
    "        self.iterable = iterable.copy()\n",
    "\n",
    "    def __iter__(self):\n",
    "        # Ordenamos los elementos del iterable antes de empezar a recorrerlos\n",
    "        self.iterable.sort()\n",
    "        return self\n",
    "\n",
    "    def __next__(self):\n",
    "        if not self.iterable:\n",
    "            raise StopIteration(\"Llegamos al final\")\n",
    "        else:\n",
    "            valor = self.iterable.pop(0)\n",
    "            return valor\n",
    "\n",
    "\n",
    "iterable = IteradorOrdenado(datos)\n",
    "for i in iter(iterable):\n",
    "    print(i, end=\" \")"
   ]
  },
  {
   "cell_type": "markdown",
   "metadata": {},
   "source": [
    "O de recorrer los elementos de forma aleatoria:"
   ]
  },
  {
   "cell_type": "code",
   "execution_count": 79,
   "metadata": {},
   "outputs": [
    {
     "name": "stdout",
     "output_type": "stream",
     "text": [
      "3 1 4 2 5 "
     ]
    }
   ],
   "source": [
    "from random import shuffle\n",
    "\n",
    "\n",
    "class IteradorAleatorio:\n",
    "    \n",
    "    def __init__(self, iterable):\n",
    "        self.iterable = iterable.copy()\n",
    "    \n",
    "    def __iter__(self):\n",
    "        # Mezclamos los elementos del iterable antes de empezar a recorrerlos\n",
    "        shuffle(self.iterable)\n",
    "        return self\n",
    "    \n",
    "    def __next__(self):\n",
    "        if not self.iterable:\n",
    "            raise StopIteration(\"Llegamos al final\")\n",
    "        else:\n",
    "            valor = self.iterable.pop(0)\n",
    "            return valor\n",
    "\n",
    "\n",
    "iterable = IteradorAleatorio(datos)\n",
    "for i in iter(iterable):\n",
    "    print(i, end=\" \")\n",
    "\n",
    "# De forma aleatoria partió con 3,14; nice XDDD."
   ]
  },
  {
   "cell_type": "markdown",
   "metadata": {},
   "source": [
    "# Generadores\n",
    "\n",
    "Los **generadores** son un caso especial de los **iteradores**. Los generadores nos permiten iterar sobre secuencias de datos sin la necesidad de almacenarlos en alguna estructura especial, evitando el uso innecesario de memoria. \n",
    "\n",
    "Una vez que terminamos de iterar sobre un generador, el generador desaparece. Esto es muy útil cuando queremos realizar cálculos sobre secuencias de números que sólo nos sirven para ese cálculo en particular. La sintaxis para crear generadores es muy parecida a la comprensión de listas, sólo que en vez de paréntesis cuadrados `[` `]` usamos paréntesis normales `(` `)`.\n",
    "\n",
    "Por ejemplo, crearemos un generador para los números pares del 0 al 18:"
   ]
  },
  {
   "cell_type": "code",
   "execution_count": 80,
   "metadata": {},
   "outputs": [],
   "source": [
    "# Por el sólo hecho de usar paréntesis estamos creando un generador.\n",
    "generador_pares = (2 * i for i in range(10))"
   ]
  },
  {
   "cell_type": "code",
   "execution_count": 81,
   "metadata": {},
   "outputs": [
    {
     "name": "stdout",
     "output_type": "stream",
     "text": [
      "<class 'generator'>\n"
     ]
    }
   ],
   "source": [
    "print(type(generador_pares))"
   ]
  },
  {
   "cell_type": "markdown",
   "metadata": {},
   "source": [
    "Ahora vamos a mostrar lo que nos entrega con un `for`. Esto es posible ya que **los generadores implementan `__iter__`** retornando `self`."
   ]
  },
  {
   "cell_type": "code",
   "execution_count": 82,
   "metadata": {},
   "outputs": [
    {
     "name": "stdout",
     "output_type": "stream",
     "text": [
      "0 2 4 6 8 10 12 14 16 18 "
     ]
    }
   ],
   "source": [
    "for i in generador_pares:\n",
    "    print(i, end=\" \")"
   ]
  },
  {
   "cell_type": "markdown",
   "metadata": {},
   "source": [
    "Nuevamente, como los generadores son un caso especial de iteradores, estos no se pueden usar otra vez, sino que tendremos que crear otro nuevo."
   ]
  },
  {
   "cell_type": "code",
   "execution_count": 83,
   "metadata": {},
   "outputs": [],
   "source": [
    "for i in generador_pares:\n",
    "    print(i, end=\" \")"
   ]
  },
  {
   "cell_type": "markdown",
   "metadata": {},
   "source": [
    "Recordar también que se puede usar `next`:"
   ]
  },
  {
   "cell_type": "code",
   "execution_count": 86,
   "metadata": {},
   "outputs": [
    {
     "name": "stdout",
     "output_type": "stream",
     "text": [
      "0\n",
      "2\n"
     ]
    }
   ],
   "source": [
    "generador_pares = (2 * i for i in range(10))\n",
    "print(next(generador_pares))\n",
    "print(next(generador_pares))"
   ]
  },
  {
   "cell_type": "markdown",
   "metadata": {},
   "source": [
    "Veamos cuánta memoria ocupa nuestro generador, *versus* una lista que contiene todos los resultados. Para ello ocuparemos la función [`getsizeof`](https://docs.python.org/3/library/sys.html#sys.getsizeof)."
   ]
  },
  {
   "cell_type": "code",
   "execution_count": 88,
   "metadata": {},
   "outputs": [],
   "source": [
    "from sys import getsizeof"
   ]
  },
  {
   "cell_type": "code",
   "execution_count": 91,
   "metadata": {},
   "outputs": [
    {
     "name": "stdout",
     "output_type": "stream",
     "text": [
      "Bytes del generador: 104\n",
      "Bytes de la lista: 184\n"
     ]
    }
   ],
   "source": [
    "generador_pares = (2 * i for i in range(10))\n",
    "lista_pares = [2 * i for i in range(10)]\n",
    "\n",
    "print(\"Bytes del generador:\", getsizeof(generador_pares))\n",
    "print(\"Bytes de la lista:\", getsizeof(lista_pares))\n",
    "\n",
    "# Fascinante la función getsizeof, muy útil. "
   ]
  },
  {
   "cell_type": "markdown",
   "metadata": {},
   "source": [
    "Esta diferencia es más grande si aumentamos la cantidad de resultados:"
   ]
  },
  {
   "cell_type": "code",
   "execution_count": 95,
   "metadata": {},
   "outputs": [
    {
     "name": "stdout",
     "output_type": "stream",
     "text": [
      "Bytes del generador: 104\n",
      "Bytes de la lista: 835128600\n"
     ]
    }
   ],
   "source": [
    "generador_pares = (2 * i for i in range(10 ** 8))\n",
    "lista_pares = [2 * i for i in range(10 ** 8)]\n",
    "\n",
    "print(\"Bytes del generador:\", getsizeof(generador_pares))\n",
    "print(\"Bytes de la lista:\", getsizeof(lista_pares))\n",
    "\n",
    "# Los bytes del generador parecen estancarse en 104. "
   ]
  },
  {
   "cell_type": "markdown",
   "metadata": {},
   "source": [
    "Concluimos que una ventaja de los generadores es que consumen mucho menos memoria, ya que **generan** cada nuevo elemento de la secuencia cuando se le solicita, y no mantienen todos los elementos de la secuencia en memoria. Es particularmente útil cuando queremos leer archivos con muchos datos. En lugar de usar una instrucción `archivo.readlines()` para leer todos los datos de una sola vez en memoria (supongamos que queremos leer un archivo de 1GB), podemos abrir el archivo, y usar un generador para extraer una línea a la vez y así evitar llenar la memoria. Precisamente el siguiente tema **Funciones generadores** permite construir una función que abra un archivo, y entregue una línea del archivo cada vez."
   ]
  },
  {
   "cell_type": "markdown",
   "metadata": {},
   "source": [
    "## Funciones Generadoras\n",
    "\n",
    "Las funciones en Python también tienen la posibilidad de funcionar como generadores, con la sentencia `yield`. El *statement* `yield` es un análogo a `return`, con ciertas diferencias. Por un lado, `yield` se encarga de retornar el valor indicado, pero también se asegura que en la próxima llamada a la función, la ejecución parta desde donde se dejó antes. \n",
    "\n",
    "En otras palabras, trabajamos con una función que una vez que entrega un valor a través de `yield`, está cediendo el control sólo en forma temporal, asumiendo que pronto será utilizada nuevamente para generar más valores.\n",
    "\n",
    "Creemos nuestra primera función generadora de números decrecientes:"
   ]
  },
  {
   "cell_type": "code",
   "execution_count": 96,
   "metadata": {},
   "outputs": [],
   "source": [
    "def conteo_decreciente(n):\n",
    "    print(f\"Contando en forma decreciente desde {n}\")\n",
    "    while n > 0:\n",
    "        yield n\n",
    "        n -= 1"
   ]
  },
  {
   "cell_type": "markdown",
   "metadata": {},
   "source": [
    "Vemos que cuando se llama a la función generadora, esta no ejecuta nada:"
   ]
  },
  {
   "cell_type": "code",
   "execution_count": 111,
   "metadata": {},
   "outputs": [],
   "source": [
    "x = conteo_decreciente(10)"
   ]
  },
  {
   "cell_type": "markdown",
   "metadata": {},
   "source": [
    "Esto se debe a que cuando se invoca la función generadora, esta retorna un **generador**. Luego, `x` es un generador de números desde el 10 hasta el 1."
   ]
  },
  {
   "cell_type": "code",
   "execution_count": 107,
   "metadata": {},
   "outputs": [
    {
     "name": "stdout",
     "output_type": "stream",
     "text": [
      "<class 'generator'>\n"
     ]
    }
   ],
   "source": [
    "print(type(x))"
   ]
  },
  {
   "cell_type": "markdown",
   "metadata": {},
   "source": [
    "Podemos usar el generador directamente en un `for`, ya que como vimos estos implementan `__iter__` devolviendo `self`."
   ]
  },
  {
   "cell_type": "code",
   "execution_count": 112,
   "metadata": {},
   "outputs": [
    {
     "name": "stdout",
     "output_type": "stream",
     "text": [
      "Contando en forma decreciente desde 10\n",
      "10\n",
      "9\n",
      "8\n",
      "7\n",
      "6\n",
      "5\n",
      "4\n",
      "3\n",
      "2\n",
      "1\n"
     ]
    }
   ],
   "source": [
    "for number in x:\n",
    "    print(number)"
   ]
  },
  {
   "cell_type": "markdown",
   "metadata": {},
   "source": [
    "También se puede usar `next`:"
   ]
  },
  {
   "cell_type": "code",
   "execution_count": 117,
   "metadata": {},
   "outputs": [
    {
     "name": "stdout",
     "output_type": "stream",
     "text": [
      "Contando en forma decreciente desde 5\n",
      "5\n",
      "4\n",
      "3\n"
     ]
    }
   ],
   "source": [
    "x = conteo_decreciente(5)\n",
    "print(next(x))\n",
    "print(next(x))\n",
    "print(next(x))"
   ]
  },
  {
   "cell_type": "markdown",
   "metadata": {},
   "source": [
    "### Ejemplos\n",
    "\n",
    "Veamos un ejemplo de una función generadora de números de Fibonacci:"
   ]
  },
  {
   "cell_type": "code",
   "execution_count": 118,
   "metadata": {},
   "outputs": [
    {
     "name": "stdout",
     "output_type": "stream",
     "text": [
      "1\n",
      "1\n",
      "2\n",
      "3\n",
      "5\n",
      "8\n",
      "13\n",
      "21\n",
      "34\n",
      "55\n",
      "89\n",
      "144\n",
      "233\n",
      "377\n",
      "610\n",
      "987\n",
      "1597\n",
      "2584\n",
      "4181\n",
      "6765\n",
      "10946\n",
      "17711\n",
      "28657\n",
      "46368\n",
      "75025\n",
      "121393\n",
      "196418\n",
      "317811\n",
      "514229\n",
      "832040\n"
     ]
    }
   ],
   "source": [
    "def fibonacci():\n",
    "    a, b = 0, 1\n",
    "    while True: # Notar que este generador nunca \"se agota\"\n",
    "        yield b\n",
    "        a, b = b, a + b\n",
    "\n",
    "generador_fibonacci = fibonacci()\n",
    "\n",
    "# Imprimimos los primeros 30 elementos\n",
    "for i in range(30):\n",
    "    print(next(generador_fibonacci))"
   ]
  },
  {
   "cell_type": "markdown",
   "metadata": {},
   "source": [
    "También veamos un ejemplo de que las funciones generadoras pueden operar con otras colecciones, como listas:"
   ]
  },
  {
   "cell_type": "code",
   "execution_count": 123,
   "metadata": {},
   "outputs": [
    {
     "name": "stdout",
     "output_type": "stream",
     "text": [
      "Retornaré el máximo acumulativo que tenga por ahora.\n",
      "1\n",
      "10\n",
      "14\n",
      "14\n",
      "14\n",
      "14\n",
      "19\n",
      "33\n"
     ]
    }
   ],
   "source": [
    "def maximo_acumulativo(valores):\n",
    "    \"\"\"Retorna el máximo visto hasta ahora en una colección de valores.\"\"\"\n",
    "    max_ = float('-inf')\n",
    "    print(\"Retornaré el máximo acumulativo que tenga por ahora.\")\n",
    "    for valor in valores:\n",
    "        max_ = max(valor, max_)\n",
    "        yield max_\n",
    "        \n",
    "lista = [1, 10, 14, 7, 9, 12, 19, 33]\n",
    "\n",
    "for i in maximo_acumulativo(lista):\n",
    "    print(i)"
   ]
  },
  {
   "cell_type": "markdown",
   "metadata": {},
   "source": [
    "### Otra forma de hacer iterable una estructura propia\n",
    "\n",
    "Si tenemos una estructura de datos propia, podemos usar una función generadora en `__iter__` en vez de crear nuestra propia clase iteradora. Para ilustrarlo usaremos el mismo ejemplo del principio:"
   ]
  },
  {
   "cell_type": "code",
   "execution_count": 131,
   "metadata": {},
   "outputs": [],
   "source": [
    "class Iterable:\n",
    "    \n",
    "    def __init__(self, objeto):\n",
    "        self.objeto = objeto.copy()\n",
    "    \n",
    "    def __iter__(self):\n",
    "        while self.objeto:\n",
    "            yield self.objeto.pop(0)"
   ]
  },
  {
   "cell_type": "code",
   "execution_count": 132,
   "metadata": {},
   "outputs": [],
   "source": [
    "datos = [1, 2, 3, 4, 5]\n",
    "iterable = Iterable(datos)"
   ]
  },
  {
   "cell_type": "code",
   "execution_count": 133,
   "metadata": {},
   "outputs": [
    {
     "name": "stdout",
     "output_type": "stream",
     "text": [
      "1 2 3 4 5 "
     ]
    }
   ],
   "source": [
    "for x in iterable:\n",
    "    print(x, end=\" \")"
   ]
  },
  {
   "cell_type": "code",
   "execution_count": 135,
   "metadata": {},
   "outputs": [
    {
     "name": "stdout",
     "output_type": "stream",
     "text": [
      "<class 'generator'>\n"
     ]
    }
   ],
   "source": [
    "iterador = iter(iterable)\n",
    "print(type(iterador))"
   ]
  },
  {
   "cell_type": "markdown",
   "metadata": {},
   "source": [
    "### También podemos interactuar con la función generadora enviando mensajes \n",
    "\n",
    "El método `send()` permite enviar un valor hacia el generador, lo que significa que la expresión `yield` lo recibirá. El valor enviado puede ser usado para asignarlo a otra variable, por ejemplo `v = yield value` guardará en la variable `v` el valor enviado con `send()`.\n",
    "\n",
    "Veamos un ejemplo de una función generadora que entrega números que se incrementan según lo que le es enviado mediante `send`:"
   ]
  },
  {
   "cell_type": "code",
   "execution_count": 149,
   "metadata": {},
   "outputs": [],
   "source": [
    "def funcion_generadora_send():\n",
    "    contador = 0\n",
    "    while True:\n",
    "        valor_recibido = yield contador\n",
    "        print(\"Hemos recibido {}\".format(valor_recibido))\n",
    "        if valor_recibido is None:  # Consideraremos 0 si nos llega un None\n",
    "            valor_recibido = 0\n",
    "        print(\"Sumaremos {} a nuestro contador\".format(valor_recibido))\n",
    "        contador += valor_recibido  # Sumamos el valor recibido al contador que llevamos"
   ]
  },
  {
   "cell_type": "code",
   "execution_count": 150,
   "metadata": {},
   "outputs": [],
   "source": [
    "generador_send = funcion_generadora_send()"
   ]
  },
  {
   "cell_type": "markdown",
   "metadata": {},
   "source": [
    "Lo primero en lo que nos tenemos que fijar es que debemos avanzar hasta `yield` antes de poder enviar valores. Es decir, la primera vez no podremos enviar nada, sólo usar `next`:"
   ]
  },
  {
   "cell_type": "code",
   "execution_count": 153,
   "metadata": {},
   "outputs": [
    {
     "ename": "TypeError",
     "evalue": "can't send non-None value to a just-started generator",
     "output_type": "error",
     "traceback": [
      "\u001b[1;31m---------------------------------------------------------------------------\u001b[0m",
      "\u001b[1;31mTypeError\u001b[0m                                 Traceback (most recent call last)",
      "Cell \u001b[1;32mIn[153], line 1\u001b[0m\n\u001b[1;32m----> 1\u001b[0m \u001b[43mgenerador_send\u001b[49m\u001b[38;5;241;43m.\u001b[39;49m\u001b[43msend\u001b[49m\u001b[43m(\u001b[49m\u001b[38;5;241;43m3\u001b[39;49m\u001b[43m)\u001b[49m\n",
      "\u001b[1;31mTypeError\u001b[0m: can't send non-None value to a just-started generator"
     ]
    }
   ],
   "source": [
    "generador_send.send(3)"
   ]
  },
  {
   "cell_type": "markdown",
   "metadata": {},
   "source": [
    "Ya hecho el primer `yield`, podemos enviarle valores a la función generadora:"
   ]
  },
  {
   "cell_type": "code",
   "execution_count": 154,
   "metadata": {},
   "outputs": [
    {
     "data": {
      "text/plain": [
       "0"
      ]
     },
     "execution_count": 154,
     "metadata": {},
     "output_type": "execute_result"
    }
   ],
   "source": [
    "next(generador_send)"
   ]
  },
  {
   "cell_type": "code",
   "execution_count": 155,
   "metadata": {},
   "outputs": [
    {
     "name": "stdout",
     "output_type": "stream",
     "text": [
      "Hemos recibido 5\n",
      "Sumaremos 5 a nuestro contador\n"
     ]
    },
    {
     "data": {
      "text/plain": [
       "5"
      ]
     },
     "execution_count": 155,
     "metadata": {},
     "output_type": "execute_result"
    }
   ],
   "source": [
    "generador_send.send(5)"
   ]
  },
  {
   "cell_type": "markdown",
   "metadata": {},
   "source": [
    "Hacer `next`, es equivalente a hacer `send` de `None`."
   ]
  },
  {
   "cell_type": "code",
   "execution_count": 156,
   "metadata": {},
   "outputs": [
    {
     "name": "stdout",
     "output_type": "stream",
     "text": [
      "Hemos recibido None\n",
      "Sumaremos 0 a nuestro contador\n"
     ]
    },
    {
     "data": {
      "text/plain": [
       "5"
      ]
     },
     "execution_count": 156,
     "metadata": {},
     "output_type": "execute_result"
    }
   ],
   "source": [
    "next(generador_send)"
   ]
  },
  {
   "cell_type": "code",
   "execution_count": 157,
   "metadata": {},
   "outputs": [
    {
     "name": "stdout",
     "output_type": "stream",
     "text": [
      "Hemos recibido 10\n",
      "Sumaremos 10 a nuestro contador\n"
     ]
    },
    {
     "data": {
      "text/plain": [
       "15"
      ]
     },
     "execution_count": 157,
     "metadata": {},
     "output_type": "execute_result"
    }
   ],
   "source": [
    "generador_send.send(10)"
   ]
  },
  {
   "cell_type": "code",
   "execution_count": 158,
   "metadata": {},
   "outputs": [
    {
     "name": "stdout",
     "output_type": "stream",
     "text": [
      "Hemos recibido 323\n",
      "Sumaremos 323 a nuestro contador\n"
     ]
    },
    {
     "data": {
      "text/plain": [
       "338"
      ]
     },
     "execution_count": 158,
     "metadata": {},
     "output_type": "execute_result"
    }
   ],
   "source": [
    "generador_send.send(323)"
   ]
  }
 ],
 "metadata": {
  "kernelspec": {
   "display_name": "Python 3 (ipykernel)",
   "language": "python",
   "name": "python3"
  },
  "language_info": {
   "codemirror_mode": {
    "name": "ipython",
    "version": 3
   },
   "file_extension": ".py",
   "mimetype": "text/x-python",
   "name": "python",
   "nbconvert_exporter": "python",
   "pygments_lexer": "ipython3",
   "version": "3.10.11"
  }
 },
 "nbformat": 4,
 "nbformat_minor": 4
}
