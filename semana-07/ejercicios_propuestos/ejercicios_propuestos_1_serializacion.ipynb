{
 "cells": [
  {
   "cell_type": "markdown",
   "metadata": {},
   "source": [
    "<p>\n",
    "<font size='5' face='Georgia, Arial'>IIC-2233 Apunte Programación Avanzada</font><br>\n",
    "<font size='1'> Actualizados el 2023-2.</font>\n",
    "</p>\n",
    "\n",
    "\n",
    "# Ejercicios propuestos: Serialización\n",
    "## Serialización"
   ]
  },
  {
   "cell_type": "markdown",
   "metadata": {},
   "source": [
    "Los siguientes problemas se proveen como oportunidad de ejercitar los conceptos revisados en el material de **Serialización y manejo de bytes**. Si tienes dudas sobre algún problema o alguna solución, no dudes en dejar una *issue* en el [foro del curso](https://github.com/IIC2233/syllabus/issues)."
   ]
  },
  {
   "cell_type": "markdown",
   "metadata": {},
   "source": [
    "### Ejercicio 1: Serialización con JSON  y *f-strings*"
   ]
  },
  {
   "cell_type": "markdown",
   "metadata": {},
   "source": [
    "¡Han contaminado el recetario de las pizzas del Tini Tamburini! Es por esta razón que han venido a pedirte ayuda mediante este ejercicio propuesto.\n",
    "\n",
    "Deberás deserializar el archivo **pizzeria.json** ubicado dentro de la carpeta `data`. Esta archivo contiene una lista de objetos de clase `Pizza`. Estos objetos tienen el atributo `ingredientes`, el cual ha sido contaminado con elementos que no son comestibles. Para identificarlos, el Tini le entrega un archivo llamado **comestibles.json** que tambien está dentro de la carpeta `data`, el cual será de ayuda para filtrar los ingredientes mediante el uso un `object_hook`. Finalmente, imprime todas las pizzas utilizando *f-strings*."
   ]
  },
  {
   "cell_type": "code",
   "execution_count": 100,
   "metadata": {},
   "outputs": [
    {
     "name": "stdout",
     "output_type": "stream",
     "text": [
      "Pizza: hawaiana \n",
      "Ingredientes:['pinia', 'queso', 'jamon']\n",
      "Pizza: vegetariana \n",
      "Ingredientes:['queso', 'aceitunas', 'champiniones']\n",
      "Pizza: machas a la parmesana \n",
      "Ingredientes:['machas', 'queso']\n",
      "Pizza: pepperoni \n",
      "Ingredientes:['pepperoni', 'queso']\n",
      "Pizza: pollo bbq \n",
      "Ingredientes:['cebolla', 'queso', 'pollo bbq']\n",
      "Pizza: jamon palmito \n",
      "Ingredientes:['jamon', 'palmitos', 'queso']\n",
      "Pizza: white \n",
      "Ingredientes:['aceitunas', 'tomate']\n",
      "Pizza: napolitana \n",
      "Ingredientes:['queso', 'albahaca', 'tomate']\n",
      "Pizza: queso \n",
      "Ingredientes:['queso', 'queso']\n"
     ]
    }
   ],
   "source": [
    "import json\n",
    "import os\n",
    "\n",
    "\n",
    "class Pizza:\n",
    "    def __init__(self, nombre, ingredientes, *args, **kwargs):\n",
    "        self.nombre = nombre\n",
    "        self.ingredientes = ingredientes\n",
    "\n",
    "    def __repr__(self):\n",
    "        return self.nombre\n",
    "\n",
    "    def __str__(self):\n",
    "        return \"Pizza: {} \\nIngredientes:{}\".format(self.nombre, self.ingredientes)\n",
    "\n",
    "\n",
    "archivo_pizzas = open(os.path.join(\"data\", \"pizzeria.json\"))\n",
    "comestibles = open(os.path.join(\"data\", \"comestibles.json\"))\n",
    "\n",
    "lista_comestibles = json.loads(comestibles.read())\n",
    "lista_pizzas = json.loads(archivo_pizzas.read())\n",
    "\n",
    "archivo_pizzas.close()\n",
    "comestibles.close()\n",
    "\n",
    "for pizza in lista_pizzas:\n",
    "    pizza = Pizza(nombre=pizza[\"nombre\"], ingredientes=pizza[\"ingredientes\"])\n",
    "    ingredientes = list()\n",
    "    for ingrediente in pizza.ingredientes:\n",
    "        if ingrediente in lista_comestibles:\n",
    "            ingredientes.append(ingrediente)\n",
    "    pizza.ingredientes = ingredientes\n",
    "    print(pizza)\n",
    "\n",
    "# Carga las pizzas del archivo pizzeria.json que está dentro de data\n",
    "# y finalmente imprime la lista de pizzas usando f-strings\n"
   ]
  },
  {
   "cell_type": "markdown",
   "metadata": {},
   "source": [
    "### Ejercicio 2: Serialización con JSON y *pickle*"
   ]
  },
  {
   "cell_type": "markdown",
   "metadata": {},
   "source": [
    "Mientras estás de visita en un museo, se descubre que en las descripciones de un conjunto de obras de arte se encuentra un mensaje oculto, el cual solo se puede descifrar a través del uso de *pickle* para serialización. Es por esto, que el director del museo pide tu ayuda.\n",
    "\n",
    "Para lograr descifrar el mensaje oculto, deberás implementar las siguientes funciones:\n",
    "\n",
    "- `cargar_obras(ruta_obras)`: El archivo **operas.json** contiene toda la información de las obras. Las obras contienen algunos datos que no son relevantes para la solución de este misterio. Por esto, se te entrega el archivo **caratteristicas.json**, que está en la carpeta `data`, con las características que sí deberás obtener de las obras, mediante la función `obras_hook`, que deberá retornar una **lista de objetos de la clase `Obra`**.\n",
    "- `generar_mensaje(lista_obras)`: Esta función debe serializar cada una de las obras utilizando `pickle`. Durante este proceso, deberás agregar a cada obra el attributo `messaggio`, con un mensaje generado por 3 palabras al azar del atributo `descrizione`. Los archivos generados deben ser guardados en la carpeta **Obras** que está dentro de la carpeta `data`. Cada archivo debe ser guardado con el siguiente formato: `<nome>-<autore>.opera` (sin `<` ni `>`), donde `nome` y `autore` son el nombre de la obra y el nombre de su respectivo autor. "
   ]
  },
  {
   "cell_type": "code",
   "execution_count": null,
   "metadata": {},
   "outputs": [],
   "source": [
    "import json\n",
    "import os\n",
    "import pickle\n",
    "import random\n",
    "\n",
    "\n",
    "CARATTERISTICAS_CAMMINO = os.path.join(\"data\", \"caratteristicas.json\")\n",
    "OPERAS_CAMMINO = os.path.join(\"data\", \"operas.json\")\n",
    "\n",
    "\n",
    "class Obra:\n",
    "    \"\"\"\n",
    "    Clase para las Obras de Antonini Da Ossa\n",
    "    \"\"\"\n",
    "\n",
    "    def __init__(\n",
    "        self,\n",
    "        nome=None,\n",
    "        autore=None,\n",
    "        anno=None,\n",
    "        posto=None,\n",
    "        stile=None,\n",
    "        descrizione=None,\n",
    "    ):\n",
    "        self.nome = nome\n",
    "        self.autore = autore\n",
    "        self.anno = anno\n",
    "        self.posto = posto\n",
    "        self.stile = stile\n",
    "        self.descrizione = descrizione\n",
    "\n",
    "    def __getstate__(self):\n",
    "        \"\"\"\n",
    "        Serializa las obras, agregando el atributo 'messaggio' al diccionario.\n",
    "        \"\"\"\n",
    "        pass\n",
    "\n",
    "\n",
    "def cargar_obras(ruta_obras):\n",
    "    \"\"\"\n",
    "\n",
    "    Funcion que carga las obras con las características pedidas,\n",
    "    y luego entrega la lista de Obras.\n",
    "    :param ruta_obras: Path de archivo de obras a cargar\n",
    "\n",
    "    NOTA: DEBE USARSE la funcion obras_hook() como\n",
    "     object hook para hacer el filtrado\n",
    "    \"\"\"\n",
    "    pass\n",
    "\n",
    "\n",
    "def obras_hook(dict_obras):\n",
    "    \"\"\"\n",
    "    Object hook que hace los objetos de la clase Obra y los añade a una lista.\n",
    "    HINT: Utilizar aquí el archivo caratteristicas ;)\n",
    "    \"\"\"\n",
    "    pass\n",
    "\n",
    "\n",
    "def generar_mensaje(lista_obras):\n",
    "    \"\"\"\n",
    "    Serializa las obras y las guarda en archivos\n",
    "    :param lista_obras: Lista de objetos de tipo obra cargados.\n",
    "    \"\"\"\n",
    "    pass"
   ]
  },
  {
   "cell_type": "markdown",
   "metadata": {},
   "source": [
    "### Ejercicio 3: Serialización usando Pickle y JSON\n",
    "\n",
    "Eres conocid@ por tod@s por tu gran amor al cine, razón por la cual tu novia Victoria te ha pedido que por favor le recomiendes películas buenas para poder ver. Para hacer esta recomendación, debes hacer uso del archivo `movies.json` que está dentro de la carpeta `data`. \n",
    "Este archivo tiene un diccionario por película con varias características, de las cuales solamente debes guardar algunas. El procedimiento que debes llevar a cabo es el siguiente:\n",
    "\n",
    "1. Completar la funcion `cargar_películas()` que debe deserializar la información de las películas del archivo `movies.json`, solamente incluyendo los datos que son relevantes especificados en el archivo `caracteristicas.pkl` (que está en la carpeta `data`), mediante la funcion `hook_peliculas()`. Esta última debe retorna una lista de objetos de la clase Pelicula. Notar que el archivo `caracteristicas.pkl` también debe ser deserializado, utilizando Pickle, para obtener la información en el.\n",
    "\n",
    "2. Completar la función `recomendar_peliculas(lista_peliculas)` que recibe una lista de objetos de la clase Pelicula. Esta debe ser capaz de serializar, mediante Pickle, cada película en un archivo llamado `recomendaciones.pkl` (este lo crearás tu). Para la serialización, debes completar el método `__getstate__()` para poder agregar una opinión (tu recomendación) al diccionario a serializar de cada película. Notar que los strings de opinión a elegir se encuentran en el archivo `opiniones.pkl` que está dentro de `data`, por lo que debes deserializar este también, mediante Pickle, para obtenerlas. Puedes usar la librería `random` importada para elegir una opinión al azar."
   ]
  },
  {
   "cell_type": "code",
   "execution_count": null,
   "metadata": {},
   "outputs": [],
   "source": [
    "import json\n",
    "import pickle\n",
    "import random\n",
    "\n",
    "\n",
    "class Pelicula:\n",
    "    def __init__(\n",
    "        self, title=None, category_name=None, release_year=None, running_time=None\n",
    "    ):\n",
    "        self.title = title\n",
    "        self.category_name = category_name\n",
    "        self.release_year = release_year\n",
    "        self.running_time = running_time\n",
    "\n",
    "    def __getstate__(self):\n",
    "        \"\"\"\n",
    "        Aquí debes personalizar la serialización de las películas, agregando una opinion al\n",
    "        diccionario. Recuerda obtener las opiniones deserializando el archivo opiniones.pkl\n",
    "        con Pickle.\n",
    "        \"\"\"\n",
    "        pass\n",
    "\n",
    "\n",
    "def hook_peliculas(peliculas):\n",
    "    \"\"\"\n",
    "    Debes utilizar esta función para personalizar la deserialización de las películas en\n",
    "    movies.json.\n",
    "    \"\"\"\n",
    "    pass\n",
    "\n",
    "\n",
    "def cargar_peliculas():\n",
    "    \"\"\"\n",
    "    Esta función debe deserializar la información de cada película, pero icluyendo solamente la\n",
    "    información especificada en caracteristicas.pkl (este archivo debe ser deserializado con Pickle)\n",
    "    utilizando la función hook_peliculas() para el filtrado.\n",
    "    \"\"\"\n",
    "    pass\n",
    "\n",
    "\n",
    "def recomendar_peliculas(peliculas):\n",
    "    \"\"\"\n",
    "    Se deben serializar las películas en el archivo recomendaciones.pkl utilizando Pickle,\n",
    "    incluyendo un mensaje de opinión mediante el método __getstate__() de la clase Pelicula.\n",
    "    \"\"\"\n",
    "    pass"
   ]
  },
  {
   "cell_type": "code",
   "execution_count": null,
   "metadata": {},
   "outputs": [],
   "source": [
    "# Main code\n",
    "\"\"\"\n",
    "Al correr este código, deberías obtener un archivo llamado recomendaciones.pkl con la información\n",
    "de cada película y la opinion para cada una de estas.\n",
    "\"\"\"\n",
    "peliculas = cargar_peliculas()\n",
    "recomendar_peliculas(peliculas)\n"
   ]
  },
  {
   "cell_type": "code",
   "execution_count": null,
   "metadata": {},
   "outputs": [],
   "source": [
    "\"\"\"\n",
    "El siguiente código puede ser corrido para comprobar que se realizo el ejercicio correctamente.\n",
    "Deberían imprimirse diccionarios por película, con todas las caracteristicas de cada película del \n",
    "archivo caracteristicas.pkl como keys y una key \"opinion\" que tiene como value alguna de las tres \n",
    "opiniones del archivo opiniones.pkl.\n",
    "\"\"\"\n",
    "\n",
    "with open(\"recomendaciones.pkl\", \"rb\") as file:\n",
    "    peliculas_recomendadas = list()\n",
    "    while True:\n",
    "        try:\n",
    "            peliculas_recomendadas.append(pickle.load(file))\n",
    "        except EOFError:\n",
    "            break\n",
    "for p in peliculas_recomendadas:\n",
    "    print(p.__dict__)\n"
   ]
  },
  {
   "cell_type": "markdown",
   "metadata": {},
   "source": [
    "### Ejercicio 4: Serialización usando JSON\n",
    "\n",
    "Durante las caóticas inscripciones de cursos para el segundo semestre del 2020 un hacker aprovechó la situación y corrompió la base de datos de los estudiantes, dejándolos con asignaturas inexistentes en el sistema. Afortunadamente, existe un archivo `asignaturas.json`, dentro de la carpeta `data`, en donde están los cursos disponibles. Tu trabajo será instanciar los Alumnos con los cursos correctos, filtrando (por medio de un hook) aquellos cursos que no correspondan y guardar todos los alumnos en un archivo llamado `alumnos.json`."
   ]
  },
  {
   "cell_type": "code",
   "execution_count": null,
   "metadata": {},
   "outputs": [],
   "source": [
    "import json\n",
    "import os\n",
    "\n",
    "\n",
    "class Alumno:\n",
    "    def __init__(self, nombre, num_alumno, cursos):\n",
    "        self.nombre = nombre\n",
    "        self.num_alumno = num_alumno\n",
    "        self.cursos = cursos\n",
    "\n",
    "    def __repr__(self):\n",
    "        string_cursos = \", \".join(self.cursos)\n",
    "        return f\"Asignaturas de {self.nombre}: \\n{string_cursos}\\n\"\n",
    "\n",
    "\n",
    "with open(os.path.join(\"data\", \"asignaturas.json\")) as file:\n",
    "    # Modifica la linea siguiente para cargar la LISTA de asignaturas\n",
    "    asignaturas = None\n",
    "    pass\n",
    "\n",
    "\n",
    "def hook_function(diccionario):\n",
    "    # Completa esta función para deserializar los alumnos.\n",
    "    # Debes dejar solamente las asignaturas presentes en la lista cargada arriba\n",
    "    pass\n",
    "\n",
    "\n",
    "with open(\"alumnos.json\", \"r\") as file:\n",
    "    # Carga los alumnos en una lista usando object_hook\n",
    "    lista_alumnos = None\n",
    "    pass\n",
    "\n",
    "print(*lista_alumnos, sep=\"\\n\")"
   ]
  }
 ],
 "metadata": {
  "kernelspec": {
   "display_name": "Python 3 (ipykernel)",
   "language": "python",
   "name": "python3"
  },
  "language_info": {
   "codemirror_mode": {
    "name": "ipython",
    "version": 3
   },
   "file_extension": ".py",
   "mimetype": "text/x-python",
   "name": "python",
   "nbconvert_exporter": "python",
   "pygments_lexer": "ipython3",
   "version": "3.10.11"
  },
  "varInspector": {
   "cols": {
    "lenName": 16,
    "lenType": 16,
    "lenVar": 40
   },
   "kernels_config": {
    "python": {
     "delete_cmd_postfix": "",
     "delete_cmd_prefix": "del ",
     "library": "var_list.py",
     "varRefreshCmd": "print(var_dic_list())"
    },
    "r": {
     "delete_cmd_postfix": ") ",
     "delete_cmd_prefix": "rm(",
     "library": "var_list.r",
     "varRefreshCmd": "cat(var_dic_list()) "
    }
   },
   "types_to_exclude": [
    "module",
    "function",
    "builtin_function_or_method",
    "instance",
    "_Feature"
   ],
   "window_display": false
  }
 },
 "nbformat": 4,
 "nbformat_minor": 2
}
