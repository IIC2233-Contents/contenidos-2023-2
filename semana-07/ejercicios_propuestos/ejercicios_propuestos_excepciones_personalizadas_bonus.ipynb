{
 "cells": [
  {
   "cell_type": "markdown",
   "metadata": {
    "colab_type": "text",
    "id": "cX64GGVNtdx2"
   },
   "source": [
    "<p>\n",
    "<font size='5' face='Georgia, Arial'>IIC-2233 Apunte Programación Avanzada</font><br>\n",
    "<font size='1'> Ejercicios creados a partir de 2019-2 por Equipo Docente IIC2233. </font>\n",
    "<font size='1'> Actualizados el 2023-2.</font>\n",
    "</p>\n",
    "\n",
    "\n",
    "# Ejercicios propuestos: Excepciones\n",
    "## Excepciones Personalizadas"
   ]
  },
  {
   "cell_type": "markdown",
   "metadata": {
    "colab_type": "text",
    "id": "urwU7L6Ftdx3"
   },
   "source": [
    "Los siguientes problemas se proveen como oportunidad de ejercitar los conceptos revisados en el material de **Excepciones**. Si tienes dudas sobre algún problema o alguna solución, no dudes en dejar una *issue* en el [foro del curso](https://github.com/IIC2233/syllabus/issues)."
   ]
  },
  {
   "cell_type": "markdown",
   "metadata": {
    "colab_type": "text",
    "id": "NBRFODVT7GN7"
   },
   "source": [
    "### Ejercicio 1: DCCopiones"
   ]
  },
  {
   "cell_type": "markdown",
   "metadata": {
    "colab_type": "text",
    "id": "8j_XYcXq7GN7"
   },
   "source": [
    "Los estudiantes del curso Avanzación Programada acaban de entregar sus tareas. Sin embargo, existen sospechas de que algunos se copiaron entre ellos. Como en el DDC nos tomamos en serio el tema de la copia (espero que hayan leído el [código de honor](https://www.ing.puc.cl/wp-content/uploads/2015/08/cdigo-de-honor.pdf)), debemos penalizar a los estudiantes que incurran en esas prácticas. Es por eso que el profesor Ristián Cruz y el cuerpo de ayudantes de Avanzación Programada ¡te han delegado la tarea de completar el sistema para detectar casos de copia! Para que se haga más simple tu tarea, los códigos de los alumnos fueron pasados por una función de _hashing_ [SHA-256](https://en.wikipedia.org/wiki/SHA-2), es decir, todo el código fue transformado a un solo _string_ alfanumérico llamado _hash_, y están guardados dentro de la carpeta `estudiantes`. Tu misión se resume en revisar si existen estudiantes que tengan el mismo _hash_.\n",
    "\n",
    "La clase `Corrector` es la que se encarga de revisar cada estudiantes, y levanta una excepción `ErrorCopia` cada vez que identifica un caso de copia. Debes crear la clase `ErrorCopia` (que hereda de `Exception` y modela una excepción). Cada instancia de `ErrorCopia` debe contener: el estudiante que fue pillado copiando (`estudiante`), el estudiante al que le copió (`copion`), el _hash_ que ambos comparten (`hash_copiado`). Además, debe llevar cuenta de cuantos casos de copia han ocurrido hasta el momento (`casos_de_copia`), y debe tener una estructura de datos que contenga a los estudiantes involucrados (`estudiantes_copiones`), en la cual no se repitan los estudiantes, si es que más de dos se copiaron entre sí.\n"
   ]
  },
  {
   "cell_type": "code",
   "execution_count": null,
   "metadata": {
    "colab": {},
    "colab_type": "code",
    "id": "s9-IEbwd7GN8"
   },
   "outputs": [],
   "source": [
    "import os\n",
    "\n",
    "\n",
    "# Retorna una lista con los estudiantes del curso.\n",
    "def get_estudiantes(path):\n",
    "    estudiantes = []\n",
    "    with open(path, \"r\", encoding=\"utf-8\") as archivo:\n",
    "        for line in archivo.readlines():\n",
    "            estudiantes.append(line.strip().split(\",\")[0])\n",
    "    return estudiantes\n",
    "\n",
    "\n",
    "class ErrorCopia(Exception):\n",
    "\n",
    "    # Definir atributos de clase podría ser util...\n",
    "    estudiantes_copiones = []\n",
    "\n",
    "    def __init__(self, estudiante, copion, hash_copiado):\n",
    "        # COMPLETAR\n",
    "        pass\n",
    "\n",
    "\n",
    "class Corrector:\n",
    "\n",
    "    def __init__(self):\n",
    "        self.codigos_comprimidos = self.extract_codigos()\n",
    "        self.estudiantes_revisados = dict()\n",
    "\n",
    "    # Extrae los pares alumnos, código desde codigos_comprimidos.txt.\n",
    "    def extract_codigos(self):\n",
    "        codigos_comprimidos = dict()\n",
    "        path_archivo = os.path.join(\"estudiantes\", \"codigos_comprimidos.txt\")\n",
    "        with open(path_archivo, \"r\", encoding=\"utf-8\") as archivo:\n",
    "            for linea in archivo.readlines():\n",
    "                estudiante, hash_estudiante = linea.strip().split(\",\")\n",
    "                codigos_comprimidos[estudiante] = hash_estudiante\n",
    "        return codigos_comprimidos\n",
    "\n",
    "    # Revisa si estudiante copió.\n",
    "    def revisar(self, estudiante):\n",
    "        hash_estudiante = self.codigos_comprimidos[estudiante]\n",
    "        for estudiante_revisado in self.estudiantes_revisados:\n",
    "            # Se detecta copia.\n",
    "            if self.estudiantes_revisados[estudiante_revisado] == hash_estudiante:\n",
    "                self.estudiantes_revisados[estudiante] = hash_estudiante\n",
    "                # Aquí se levanta la excepción\n",
    "                raise ErrorCopia(estudiante_revisado, estudiante, hash_estudiante)\n",
    "        self.estudiantes_revisados[estudiante] = hash_estudiante\n",
    "\n",
    "\n",
    "if __name__ == \"__main__\":\n",
    "    lista_estudiantes = get_estudiantes(os.path.join(\"estudiantes\", \"codigos_comprimidos.txt\"))\n",
    "\n",
    "    corrector = Corrector()\n",
    "\n",
    "    for nombre in lista_estudiantes:\n",
    "        try:\n",
    "            corrector.revisar(nombre)\n",
    "        except ErrorCopia as error:\n",
    "            print(f\"Caso de copia encontrado entre {error.estudiante} y {error.copion}!\")\n",
    "            print(f\"Ambos tienen el hash {error.hash_copiado}\")\n",
    "            print(f\"Ya van {error.casos_de_copia} casos de copia :(\")\n",
    "            print()\n",
    "\n",
    "    if ErrorCopia.estudiantes_copiones:\n",
    "        print(\"Estudiantes que fueron pillados copiando:\")\n",
    "        for estudiante in ErrorCopia.estudiantes_copiones:\n",
    "            print(\"\\t - \" + estudiante)\n",
    "        print(\"Que pena :'(\")\n",
    "    else:\n",
    "        print(\"No hubo casos de copia! Felicitaciones por la honestidad :)\")"
   ]
  },
  {
   "cell_type": "markdown",
   "metadata": {},
   "source": [
    "### Ejercicio 2: DCCompletos"
   ]
  },
  {
   "cell_type": "markdown",
   "metadata": {},
   "source": [
    "El DDC ha decidido hacer una completada, porque nos gusta mucho comer. Pero se dieron cuenta de que es necesario tener un sistema para evitar que alguien le robe completos a otros y alguien se quede sin comer. Por eso inventaron un sistema de *tickets* y es necesario hacer la excepción personalizada `ErrorTratanDeRobar`, para levantarla cuando se encuentran duplicados y llevar un registro de cuantos duplicados se han encontrado. \n",
    "\n",
    "Se te entrega el esqueleto de la excepción `ErrorTratanDeRobar`. Esta es levantada por la clase `Tienda` cuando encuentra clientes con *tickets* duplicados. Cada instancia del error debe contener la siguiente información del error para que funcione el código descrito: el nombre del cliente como un atributo, el número del ticket como un atributo, y una *property* que entrega la cantidad de *tickets* duplicados que se han encontrado hasta ahora para ese *ticket*. Debes completar la excepción `ErrorTratanDeRobar` para que se logre el comportamiento esperado."
   ]
  },
  {
   "cell_type": "code",
   "execution_count": null,
   "metadata": {},
   "outputs": [],
   "source": [
    "from collections import namedtuple, defaultdict\n",
    "\n",
    "# Modelamos los clientes.\n",
    "Cliente = namedtuple('Cliente', ['ticket', 'nombre', 'apellido'])\n",
    "\n",
    "\n",
    "class ErrorTratanDeRobar(Exception):\n",
    "\n",
    "    # ¿Será buena idea un atributo de clase?\n",
    "\n",
    "    def __init__(self, cliente):\n",
    "        pass\n",
    "\n",
    "    @property\n",
    "    def cantidad_repeticiones(self):\n",
    "        pass\n",
    "\n",
    "\n",
    "# Modelamos la tienda con una estructura simple para almacenar sus clientes.\n",
    "class Tienda:\n",
    "\n",
    "    def __init__(self, nombre):\n",
    "        self.nombre = nombre\n",
    "        self.clientes = dict()\n",
    "\n",
    "    # Método encargado de entregar un completo,\n",
    "    # en caso de encontrar duplicado, lanza error\n",
    "    def recibir(self, cliente):\n",
    "        if cliente.ticket in self.clientes:\n",
    "            raise ErrorTratanDeRobar(cliente)\n",
    "        else:\n",
    "            self.clientes[cliente.ticket] = cliente\n",
    "            print(f'✅ Cliente {cliente.nombre} de ticket {cliente.ticket} '\n",
    "                  'ha recibido su completo exitosamente.\\n')\n",
    "\n",
    "\n",
    "if __name__ == \"__main__\":\n",
    "\n",
    "    clientes_que_no_han_comido = [\n",
    "        Cliente('1', 'Daniela', 'Poblete'),\n",
    "        Cliente('2', 'Tomás', 'González'),\n",
    "        Cliente('3', 'Enzo', 'Tamburirni'),\n",
    "        Cliente('4', 'Daniela', 'Concha'),\n",
    "        Cliente('2', 'Dante', 'Pinto'),\n",
    "        Cliente('5', 'Juan', 'Aguillon'),\n",
    "        Cliente('1', 'Caua', 'Paz'),\n",
    "        Cliente('6', 'Máx', 'Narea'),\n",
    "        Cliente('1', 'Javiera', 'Ochoa')\n",
    "    ]\n",
    "\n",
    "    DCCompletos = Tienda('DDCompletos')\n",
    "\n",
    "    for cliente in clientes_que_no_han_comido:\n",
    "        try:\n",
    "            DCCompletos.recibir(cliente)\n",
    "        except ErrorTratanDeRobar as error:\n",
    "            print(f'❌ Cliente {error.nombre} tratando de robar un completo '\n",
    "                  f'con el ticket {error.ticket} encontrado')\n",
    "            print(f'Ya van {error.cantidad_repeticiones} repetidos para el '\n",
    "                  f'ticket {error.ticket}')\n",
    "            print()"
   ]
  }
 ],
 "metadata": {
  "colab": {
   "collapsed_sections": [],
   "name": "ejercicios_propuestos.ipynb",
   "provenance": []
  },
  "kernelspec": {
   "display_name": "Python 3 (ipykernel)",
   "language": "python",
   "name": "python3"
  },
  "language_info": {
   "codemirror_mode": {
    "name": "ipython",
    "version": 3
   },
   "file_extension": ".py",
   "mimetype": "text/x-python",
   "name": "python",
   "nbconvert_exporter": "python",
   "pygments_lexer": "ipython3",
   "version": "3.10.10"
  }
 },
 "nbformat": 4,
 "nbformat_minor": 4
}
