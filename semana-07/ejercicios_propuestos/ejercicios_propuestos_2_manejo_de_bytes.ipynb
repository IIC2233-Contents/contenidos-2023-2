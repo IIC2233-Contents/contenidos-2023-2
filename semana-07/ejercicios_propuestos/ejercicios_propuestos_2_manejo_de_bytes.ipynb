{
 "cells": [
  {
   "cell_type": "markdown",
   "metadata": {},
   "source": [
    "<p>\n",
    "<font size='5' face='Georgia, Arial'>IIC-2233 Apunte Programación Avanzada</font><br>\n",
    "<font size='1'> Actualizados el 2023-2.</font>\n",
    "</p>\n",
    "\n",
    "\n",
    "# Ejercicios propuestos: Serialización\n",
    "## Manejo de bytes"
   ]
  },
  {
   "cell_type": "markdown",
   "metadata": {},
   "source": [
    "Los siguientes problemas se proveen como oportunidad de ejercitar los conceptos revisados en el material de **Serialización y manejo de bytes**. Si tienes dudas sobre algún problema o alguna solución, no dudes en dejar una *issue* en el [foro del curso](https://github.com/IIC2233/syllabus/issues)."
   ]
  },
  {
   "cell_type": "markdown",
   "metadata": {},
   "source": [
    "### Ejercicio 1: `bytearrays` y *context managers*"
   ]
  },
  {
   "cell_type": "markdown",
   "metadata": {},
   "source": [
    "El archivo **simpatico.bmp** ha sido corrompido con *bytes* no correspondientes. Para limpiarlo, deberás implementar el siguiente algoritmo:\n",
    "\n",
    "1. Abrir el archivo **malvado.mal**, que está dentro de la carpeta `data`, en modo lectura de *bytes*.\n",
    "2. Obtener *chunks* de 8 bytes.\n",
    "3. Encontrar el máximo de esos 8 *bytes*.\n",
    "4. Eliminar todos los *bytes* con ese valor dentro del *chunk*.\n",
    "5. Repetir el proceso con el resto de los *bytes*.\n",
    "6. Escribir el archivo **simpatico.bmp** con los bytes obtenidos.\n",
    "\n",
    "**Sobre los pasos 2 a 4**: \n",
    "\n",
    "- Considerando un *chunk* de 8 *bytes*, con los siguientes valores (paso 2): `4 8 255 15 16 23 255 42`\n",
    "- Se obtiene el máximo de ese *chunk* de bytes (paso 3): `255`.\n",
    "- Se eliminan todos los *bytes* con ese valor, resultando: `4 8 15 16 23 42`"
   ]
  },
  {
   "cell_type": "code",
   "execution_count": null,
   "metadata": {},
   "outputs": [],
   "source": []
  },
  {
   "cell_type": "markdown",
   "metadata": {},
   "source": [
    "### Ejercicio 2: Manejo de bytes en imágenes\n",
    "\n",
    "En el siguiente ejercicio, se te entrega una imagen en el archivo `imagen.bmp` que está dentro de la carpeta `data`. Debes \"encriptar\" este archivo, para hacerlo no legible. Posteriormente, deberás crear \"la llave\", que te permita devolver el archivo a su estado original. Para esto deberás seguir los siguientes pasos:\n",
    "    \n",
    "1. Para encriptar, deberás:\n",
    "    - Leer la imagen como bytes\n",
    "    - Ir guardando los *chunks* en un `bytearray`\n",
    "    - Deberás procesar la imagen en *chunks* de 10 *bytes*\n",
    "    - A cada uno de esos *chunks*, deberás agregarle ceros hasta llegar a los 20 *bytes*\n",
    "    - Agregar al `bytearray` creado para tu archivo encriptado los *chunks* rellenados.\n",
    "    - Escribir el nuevo archivo con el nombre `imagen_virus.jpg`\n",
    "\n",
    "\n",
    "2. Para crear la función llave que desencripte el archivo:\n",
    "    - Crear un `bytearray` para los *bytes* recuperados.\n",
    "    - Leer el archivo como *bytes*\n",
    "    - Iterar sobre cada uno de los *chunks* (Recuerda que los nuevos *bytes* están organizados de a 20)\n",
    "    - Recuperar los *bytes* originales.\n",
    "    - Juntar los *bytes* recuperados en tu nuevo `bytearray`\n",
    "    - Escribir el nuevo archivo con el nombre `imagen_recuperada.jpg`\n",
    "        "
   ]
  },
  {
   "cell_type": "code",
   "execution_count": null,
   "metadata": {},
   "outputs": [],
   "source": [
    "import os\n",
    "\n",
    "\n",
    "def transforma_a_byter(path_imagen):\n",
    "    pass\n",
    "\n",
    "\n",
    "def quita_virus(path_imagen):\n",
    "    pass\n",
    "\n",
    "\n",
    "transforma_a_byter(os.path.join(\"data\", \"imagen.bmp\"))\n",
    "quita_virus(\"imagen_virus.jpg\")"
   ]
  }
 ],
 "metadata": {
  "kernelspec": {
   "display_name": "Python 3 (ipykernel)",
   "language": "python",
   "name": "python3"
  },
  "language_info": {
   "codemirror_mode": {
    "name": "ipython",
    "version": 3
   },
   "file_extension": ".py",
   "mimetype": "text/x-python",
   "name": "python",
   "nbconvert_exporter": "python",
   "pygments_lexer": "ipython3",
   "version": "3.10.10"
  },
  "varInspector": {
   "cols": {
    "lenName": 16,
    "lenType": 16,
    "lenVar": 40
   },
   "kernels_config": {
    "python": {
     "delete_cmd_postfix": "",
     "delete_cmd_prefix": "del ",
     "library": "var_list.py",
     "varRefreshCmd": "print(var_dic_list())"
    },
    "r": {
     "delete_cmd_postfix": ") ",
     "delete_cmd_prefix": "rm(",
     "library": "var_list.r",
     "varRefreshCmd": "cat(var_dic_list()) "
    }
   },
   "types_to_exclude": [
    "module",
    "function",
    "builtin_function_or_method",
    "instance",
    "_Feature"
   ],
   "window_display": false
  }
 },
 "nbformat": 4,
 "nbformat_minor": 2
}
