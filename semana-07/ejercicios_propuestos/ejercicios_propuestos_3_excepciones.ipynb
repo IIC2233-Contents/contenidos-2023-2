{
 "cells": [
  {
   "cell_type": "markdown",
   "metadata": {
    "colab_type": "text",
    "id": "cX64GGVNtdx2"
   },
   "source": [
    "<p>\n",
    "<font size='5' face='Georgia, Arial'>IIC-2233 Apunte Programación Avanzada</font><br>\n",
    "<font size='1'> Ejercicios creados a partir de 2019-2 por Equipo Docente IIC2233. </font>\n",
    "<font size='1'> Actualizados el 2023-2.</font>\n",
    "</p>\n",
    "\n",
    "\n",
    "# Ejercicios propuestos: Excepciones\n",
    "## Excepciones Introducción"
   ]
  },
  {
   "cell_type": "markdown",
   "metadata": {
    "colab_type": "text",
    "id": "urwU7L6Ftdx3"
   },
   "source": [
    "Los siguientes problemas se proveen como oportunidad de ejercitar los conceptos revisados en el material de **Excepciones**. Si tienes dudas sobre algún problema o alguna solución, no dudes en dejar una *issue* en el [foro del curso](https://github.com/IIC2233/syllabus/issues)."
   ]
  },
  {
   "cell_type": "markdown",
   "metadata": {
    "colab_type": "text",
    "id": "AXPY7WLttdx5"
   },
   "source": [
    "### Ejercicio 1: Levantando errores simples"
   ]
  },
  {
   "cell_type": "markdown",
   "metadata": {},
   "source": [
    "En las siguientes líneas, levanta un tipo de excepción distinta en cada una. Además, agrégale un mensaje distinto para que se muestre al ejecutarse. Fueron ocho los tipos de excepciones revisados en el primer cuadernos de esta materia. Te dejamos un ejemplo del primer tipo de excepción:"
   ]
  },
  {
   "cell_type": "code",
   "execution_count": null,
   "metadata": {},
   "outputs": [],
   "source": [
    "raise SyntaxError(\"Error con mensaje personalizado\")"
   ]
  },
  {
   "cell_type": "code",
   "execution_count": null,
   "metadata": {},
   "outputs": [],
   "source": []
  },
  {
   "cell_type": "code",
   "execution_count": null,
   "metadata": {},
   "outputs": [],
   "source": []
  },
  {
   "cell_type": "code",
   "execution_count": null,
   "metadata": {},
   "outputs": [],
   "source": []
  },
  {
   "cell_type": "code",
   "execution_count": null,
   "metadata": {},
   "outputs": [],
   "source": []
  },
  {
   "cell_type": "code",
   "execution_count": null,
   "metadata": {},
   "outputs": [],
   "source": []
  },
  {
   "cell_type": "code",
   "execution_count": null,
   "metadata": {},
   "outputs": [],
   "source": []
  },
  {
   "cell_type": "code",
   "execution_count": null,
   "metadata": {},
   "outputs": [],
   "source": []
  },
  {
   "cell_type": "markdown",
   "metadata": {
    "colab_type": "text",
    "id": "AXPY7WLttdx5"
   },
   "source": [
    "### Ejercicio 2: Menú simple sin manejo de excepciones"
   ]
  },
  {
   "cell_type": "markdown",
   "metadata": {
    "colab_type": "text",
    "id": "muSkak9mtdx5"
   },
   "source": [
    "¿A quién no le ha pasado que cuando le pedimos un número al usuario, nos entrega un *string*? ¿O que el número ingresado no estaba dentro del rango pedido? Siempre que solicitamos información a un usuario, debemos encargarnos de validarla antes de poder hacer algo útil con ella.\n",
    "\n",
    "A continuación se muestra un menú que a primera vista puede parecer correcto, pero no valida ningún *input* del usuario, por lo que es propenso a fallar si este no es lo suficientemente cuidadoso. Intenta analizar el código y reconocer los lugares en donde este puede lanzar excepciones. Te invitamos a probar el código y darle *inputs* inesperados para hacerlo fallar de todas las maneras posibles :)"
   ]
  },
  {
   "cell_type": "code",
   "execution_count": null,
   "metadata": {},
   "outputs": [],
   "source": [
    "import random\n",
    "\n",
    "\n",
    "diccionario_pokemon = {\n",
    "    \"Charmander\": random.randint(1, 16),\n",
    "    \"Wartortle\": random.randint(17, 35),\n",
    "    \"Venusaur\": random.randint(33, 50),\n",
    "}\n",
    "\n",
    "opciones_menu = [\n",
    "    \"Salir\",\n",
    "    \"Elegir Pokémon inicial\",\n",
    "    \"Subir nivel a Pokémon\",\n",
    "]\n",
    "\n",
    "salir = False\n",
    "pokemon_inicial = None\n",
    "nivel_pokemon = None\n",
    "\n",
    "while not salir:\n",
    "    print()\n",
    "    # Aquí se imprimen las opciones del menú y se pide una selección.\n",
    "    for i in range(len(opciones_menu)):\n",
    "        print(f\"[{i+1}] {opciones_menu[i]}\")\n",
    "    numero_opcion = int(input(\"Ingresa una opción: \"))\n",
    "    opcion = opciones_menu[numero_opcion - 1]\n",
    "    print()\n",
    "\n",
    "    if opcion == \"Salir\":\n",
    "        # Si el usuario quiere salir, terminamos el loop.\n",
    "        print(\"¡Saliendo del menú!\")\n",
    "        salir = True\n",
    "\n",
    "    elif opcion == \"Elegir Pokémon inicial\":\n",
    "        # Si quiere elegir Pokémon, le damos las opciones.\n",
    "        print(f\"Elige entre: {' / '.join(diccionario_pokemon.keys())}\")\n",
    "        pokemon_inicial = input(\"Nombre de tu Pokémon inicial: \")\n",
    "        print((f\"Tu Pokémon inicial es {pokemon_inicial}, \"\n",
    "               f\"con nivel inicial {diccionario_pokemon[pokemon_inicial]}\"))\n",
    "        nivel_pokemon = diccionario_pokemon[pokemon_inicial]\n",
    "\n",
    "    elif opcion == \"Subir nivel a Pokémon\":\n",
    "        # Si quiere subir de nivel a su Pokémon, preguntemos cuántos.\n",
    "        print(f\"Agrega un numero entero de niveles a tu Pokémon\")\n",
    "        niveles = input(\"Niveles a agregar: \")\n",
    "        if niveles.isdigit():\n",
    "            niveles = int(niveles)\n",
    "        print((f\"Tu {pokemon_inicial} subirá desde el nivel \"\n",
    "               f\"{nivel_pokemon} a {nivel_pokemon + niveles}\"))\n",
    "        nivel_pokemon += niveles\n",
    "\n",
    "# Rellena las excepciones que deberías poder encontrar según la situación:\n",
    "# * ?: al entregar un valor no numérico en la selección de menú\n",
    "# * ?: al entregar un número de opción que no está en el menú\n",
    "# * ?: al subir de nivel antes de tener un Pokémon\n",
    "# * ?: al seleccionar un Pokémon que no está en la lista\n",
    "# * ?: al entregar un número no entero de niveles a subir"
   ]
  }
 ],
 "metadata": {
  "colab": {
   "collapsed_sections": [],
   "name": "ejercicios_propuestos.ipynb",
   "provenance": []
  },
  "kernelspec": {
   "display_name": "Python 3 (ipykernel)",
   "language": "python",
   "name": "python3"
  },
  "language_info": {
   "codemirror_mode": {
    "name": "ipython",
    "version": 3
   },
   "file_extension": ".py",
   "mimetype": "text/x-python",
   "name": "python",
   "nbconvert_exporter": "python",
   "pygments_lexer": "ipython3",
   "version": "3.10.10"
  }
 },
 "nbformat": 4,
 "nbformat_minor": 4
}
